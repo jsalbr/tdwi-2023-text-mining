{
  "cells": [
    {
      "cell_type": "markdown",
      "metadata": {
        "id": "ixwYkZxk0aGt"
      },
      "source": [
        "# Classifying Reddit Autos Selfposts with BERT<div class=\"tocSkip\">\n",
        "\n",
        "&copy; Jens Albrecht, 2023\n",
        "\n",
        "This notebook can be freely copied and modified.\n",
        "Attribution, however, is highly appreciated.\n",
        "\n",
        "<hr/>"
      ]
    },
    {
      "cell_type": "markdown",
      "metadata": {
        "id": "fOuzlIux0aGz"
      },
      "source": [
        "See also:\n",
        "\n",
        "Albrecht, Ramachandran, Winkler: **Blueprints for Text Analytics in Python** (O'Reilly 2020)\n",
        "Chapter 6: [Text Classification Algorithms](https://learning.oreilly.com/library/view/blueprints-for-text/9781492074076/ch06.html#ch-classification) + [Link to Github](https://github.com/blueprints-for-text-analytics-python/blueprints-text/blob/master/README.md)"
      ]
    },
    {
      "cell_type": "markdown",
      "metadata": {
        "id": "u2bgUH760aG0"
      },
      "source": [
        "## Setup<div class='tocSkip'/>\n",
        "\n",
        "Set directory locations. If working on Google Colab: copy files and install required libraries."
      ]
    },
    {
      "cell_type": "code",
      "execution_count": 1,
      "metadata": {
        "ExecuteTime": {
          "end_time": "2023-06-19T13:02:35.257517Z",
          "start_time": "2023-06-19T13:02:35.220485Z"
        },
        "id": "6ZcIo2LP0aG1",
        "outputId": "bd07c352-c07a-4dec-95ee-7107cca44ad9",
        "colab": {
          "base_uri": "https://localhost:8080/"
        }
      },
      "outputs": [
        {
          "output_type": "stream",
          "name": "stdout",
          "text": [
            "You are working on Google Colab.\n",
            "Files will be downloaded to \"/content\".\n",
            "Downloading required files ...\n",
            "!wget -P /content/notebooks https://github.com/jsalbr/tdwi-2023-text-mining/raw/main/notebooks/settings.py\n",
            "!wget -P /content/packages https://github.com/jsalbr/tdwi-2023-text-mining/raw/main/packages/cars.py\n",
            "!wget -P /content/packages/blueprints https://github.com/jsalbr/tdwi-2023-text-mining/raw/main/packages/blueprints/__init__.py\n",
            "!wget -P /content/packages/blueprints https://github.com/jsalbr/tdwi-2023-text-mining/raw/main/packages/blueprints/exploration.py\n",
            "!wget -P /content/packages/blueprints https://github.com/jsalbr/tdwi-2023-text-mining/raw/main/packages/blueprints/preparation.py\n",
            "!wget -P /content/packages/blueprints https://github.com/jsalbr/tdwi-2023-text-mining/raw/main/packages/blueprints/embeddings.py\n",
            "!wget -P /content/data https://github.com/jsalbr/tdwi-2023-text-mining/raw/main/data/reddit-autos-selfposts-cleaned.csv\n",
            "!wget -P /content/data https://github.com/jsalbr/tdwi-2023-text-mining/raw/main/data/reddit-autos-selfposts-prepared.csv\n",
            "!wget -P /content https://github.com/jsalbr/tdwi-2023-text-mining/raw/main/colab_requirements.txt\n",
            "\n",
            "Additional setup ...\n",
            "!pip install -r colab_requirements.txt\n",
            "!python -m spacy download en_core_web_sm\n"
          ]
        }
      ],
      "source": [
        "import sys, os\n",
        "ON_COLAB = 'google.colab' in sys.modules\n",
        "\n",
        "if ON_COLAB:\n",
        "    GIT_ROOT = 'https://github.com/jsalbr/tdwi-2023-text-mining/raw/main'\n",
        "    os.system(f'wget {GIT_ROOT}/notebooks/setup.py')\n",
        "\n",
        "%run -i setup.py"
      ]
    },
    {
      "cell_type": "markdown",
      "metadata": {
        "id": "FUealnbN0aG3"
      },
      "source": [
        "## Load Python Settings<div class=\"tocSkip\"/>\n",
        "\n",
        "Common imports, defaults for formatting in Matplotlib, Pandas etc."
      ]
    },
    {
      "cell_type": "code",
      "execution_count": 2,
      "metadata": {
        "ExecuteTime": {
          "end_time": "2023-06-19T13:02:45.016778Z",
          "start_time": "2023-06-19T13:02:36.018901Z"
        },
        "id": "DqfqwKh40aG3"
      },
      "outputs": [],
      "source": [
        "%run \"$BASE_DIR/notebooks/settings.py\"\n",
        "\n",
        "%reload_ext autoreload\n",
        "%autoreload 2\n",
        "%config InlineBackend.figure_format = 'png'\n",
        "\n",
        "# to print output of all statements and not just the last\n",
        "from IPython.core.interactiveshell import InteractiveShell\n",
        "InteractiveShell.ast_node_interactivity = \"all\"\n",
        "\n",
        "# otherwise text between $ signs will be interpreted as formula and printed in italic\n",
        "pd.set_option('display.html.use_mathjax', False)\n",
        "pd.options.plotting.backend = \"matplotlib\"\n",
        "\n",
        "# path to import blueprints packages\n",
        "sys.path.append(f'{BASE_DIR}/packages')"
      ]
    },
    {
      "cell_type": "markdown",
      "metadata": {
        "id": "Cd46n5ds0aG4"
      },
      "source": [
        "## Prepare Datasets for Machine Learning\n",
        "\n",
        "### Load Data\n",
        "\n",
        "For BERT we will work with the full text only, no preprocessing like stop word removal, lemmatization etc."
      ]
    },
    {
      "cell_type": "code",
      "execution_count": 5,
      "metadata": {
        "ExecuteTime": {
          "end_time": "2023-06-19T13:02:45.808663Z",
          "start_time": "2023-06-19T13:02:45.024665Z"
        },
        "id": "KDvZZTgC0aG4",
        "outputId": "80cbc2fd-1bb2-43ad-af98-c9468733c7aa",
        "colab": {
          "base_uri": "https://localhost:8080/"
        }
      },
      "outputs": [
        {
          "output_type": "execute_result",
          "data": {
            "text/plain": [
              "24712"
            ]
          },
          "metadata": {},
          "execution_count": 5
        }
      ],
      "source": [
        "df = pd.read_csv(f\"{BASE_DIR}/data/reddit-autos-selfposts-prepared.csv\", sep=\";\", decimal=\".\")\n",
        "df = df[['subreddit', 'text']]\n",
        "\n",
        "len(df)"
      ]
    },
    {
      "cell_type": "code",
      "execution_count": 6,
      "metadata": {
        "ExecuteTime": {
          "end_time": "2023-06-19T13:02:46.111662Z",
          "start_time": "2023-06-19T13:02:45.810665Z"
        },
        "scrolled": false,
        "id": "_66sgmBS0aG5",
        "outputId": "f91bdcfc-f2d1-4ff3-a2dd-857e914eb89d",
        "colab": {
          "base_uri": "https://localhost:8080/",
          "height": 961
        }
      },
      "outputs": [
        {
          "output_type": "execute_result",
          "data": {
            "text/plain": [
              "         subreddit  \\\n",
              "9244   teslamotors   \n",
              "12283  motorcycles   \n",
              "23135          BMW   \n",
              "6351   motorcycles   \n",
              "6314   motorcycles   \n",
              "\n",
              "                                                                                                                                                                                                                                                                                                                                                                                                                                                                                                                                                                                                                                                                                                                                                                                                                                                                                                                                                                                                                                                                                                                                                                                                                                                                                                                                                                                                                                                                                                                                                                                                                                                                                                                                                                                                                                                                                                                                                                                                                                                                                                                                                                                                                                                                               text  \n",
              "9244                                                                                                                                                                                                                                                                                                                                                                                                                                                                                                                                                                                                                                                                                                                                                                                                                                                                                                                                                                                                                                                                                                                                                                                                                                                                                                                                                                                                                                                                                                                                                                                                                                                                                                                                                                                                                                                                                                                          EVs for apartment dwellers: EVs for apartments dwellers should include a small portable part of the battery (suitcase batteries) that can be carried up into the apartment and given a charge there for say 7 miles. Then perhaps be able to rent or buy several suitcases for expanded range and to take advantage of solid state when it comes out.  \n",
              "12283                                                                                                                                                                                                                                                                                                                                                                                                                                                                                                                                                                                                                                                                                                                                                                                                                                                                                                                                                                                                                                                                                                                                                                                                                                                                                                                                                                                                                                                                                                                                                                                                                                                                                                                                                                                                                                                                                                                                                              New Master Cylinder 13 to 15?: I own a Guzzi v7ii stone and i know the OEM mc is a 13 ​ i saw the nicer Brembo RCS15 and i was told some have installed it on the v7 but i also saw RCS14... and some OEM/third party 13 ​ what is the difference between these few millimeters? how does it impact the braking?  \n",
              "23135                                                                                                                                                                                                                                                                                                                                                                   Driving my first M: Im 19 and about a year I joined the Bmw family when I got my first car, a 2004 325i. Obviously I fell in love and a year later i'm still in love. Ever since I got into the BMW community it has been a dream of mine to drive an M. I work at luxury car dealership where we have several M's in our inventory and the boss asked if I wanted to kill some time and pick up some food for him and I. I replied \"sure, only if you let me take the X6m\" to which he said \"sure\". Not trying to get my hopes up I played it cool, expecting him to say \"just kidding\". But it became real when he gave me the keys and said \"have fun kid\". At this point I'm in the drivers seat trying to take it all in and finally I take off and OH MY. All I can say is that the car is ANGRY. You give it a little gas and its just roars at you. Pops, burbles. At first I was taking it easy because I was admittedly a little scared to be driving the bosses car. So I'm cruising, or at least I thought I was because I look down at the dash and I'm going 80 and it felt like I was goin half that. The brakes are extremely responsive and smooth, steering was slightly numb compared to my 2004 but its still sharp. Finally I get to some open road and its time to see what this thing can do. You give the car a little gas and you're down the road. Is the F16 X6m the fastest of M's? Absolutely not but its faster than most cars on the road. The thing is a sling shot. A little lag but when it kicks, your head is thrown back against the seat. Straight beast. Body roll is almost non existent. Driving this thing down the road, everyone is breaking there neck to check it out. Then they have to take a double look when they see a 19 year old driving it. It felt good. Just makes me excited for when I get my own. Anyone remember their first time driving an M?  \n",
              "6351                                                                                                                                                                                                                                                                                                                                                                                                                                                                                                                                                                                                                                                                                                                                                                                                                                                                                                                                                                                                                                                                                                                                                                                                                                                                                                                                                                                                                                                                                                                                                                                                                                                                                                                                                                                                                                                                                                                                                                                                  Choke cable: I'm new to motorcycles but I just bought an '83 Honda shadow 500 and the choke cable is broken. I was wondering if choke cables are specified for bikes per model like an engine or side pieces or if they're just like handlebars and can fit on any. Any help?  \n",
              "6314   First street bike: Bought a 09 ZX10R: I haven't been on a bike in ages. I grew up riding a KX80, a CR80, a KX125 and finally a pro circuit built KX250. That was mostly in my youth though. I have had the bug to buy a street bike for a long time and I have always had my eyes set on a liter bike. I'm a bigger dude, 6'2, 250 lbs. Also got a wife and kids and in my mid-thirties. The bike is being shipped to be now. I am in no pressure to ride it, I have a full size truck as my main transportation to work and back (Army) and my wife has her own car. I am nervous. I do respect liter bikes. I dont want to get hurt or worst, but I also feel like if I don't get the bike I will live with the regret of not having one like I have for the last 15 years. My mental approach is to baby that thing around, and when I am comfortable, there may be a time and place to stretch it's legs occasionally. As you guys know, the 09 ZX10R has no ABS, power modes, traction, or anything. It's a raw bike. For better or worst I am drawn to that and I think it will make me respect it even more. These years of ninjas are also know for a snappy top end. I have been reading up on them every day. I'm nervous but also very excited and I think the kids will love having such a beautiful bike sitting in the garage. The bike I ordered a special edition, so it has the white stripe on the side fairings. It looks gorgeous. I'm just gonna casually ride to work and back during the warmer months and will maybe do a few weekend rides with my infantry buddies who also have bikes (R6, R1). I'm thinking my fear and respect and appreciation for this machine will save my ass. I also don't want to be so scared of it that I am never riding it and it just becomes a garage queen. An alternative option is to make it a track only bike down the road, where I put the bike in my truck and take it to a track weekend and ride it closer to it's limits in a much safer environment on a closed course. Will make me a better rider as well. I think the closest track to me is the Corvette Museum area in Kentucky (Im in Clarksville, TN). Anyways just wanted to share my excitement of getting to finally fulfill a dream of mine.  "
            ],
            "text/html": [
              "\n",
              "  <div id=\"df-0e75680d-91bb-4fd7-919a-fb02995894a3\">\n",
              "    <div class=\"colab-df-container\">\n",
              "      <div>\n",
              "<style scoped>\n",
              "    .dataframe tbody tr th:only-of-type {\n",
              "        vertical-align: middle;\n",
              "    }\n",
              "\n",
              "    .dataframe tbody tr th {\n",
              "        vertical-align: top;\n",
              "    }\n",
              "\n",
              "    .dataframe thead th {\n",
              "        text-align: right;\n",
              "    }\n",
              "</style>\n",
              "<table border=\"1\" class=\"dataframe tex2jax_ignore\">\n",
              "  <thead>\n",
              "    <tr style=\"text-align: right;\">\n",
              "      <th></th>\n",
              "      <th>subreddit</th>\n",
              "      <th>text</th>\n",
              "    </tr>\n",
              "  </thead>\n",
              "  <tbody>\n",
              "    <tr>\n",
              "      <th>9244</th>\n",
              "      <td>teslamotors</td>\n",
              "      <td>EVs for apartment dwellers: EVs for apartments dwellers should include a small portable part of the battery (suitcase batteries) that can be carried up into the apartment and given a charge there for say 7 miles. Then perhaps be able to rent or buy several suitcases for expanded range and to take advantage of solid state when it comes out.</td>\n",
              "    </tr>\n",
              "    <tr>\n",
              "      <th>12283</th>\n",
              "      <td>motorcycles</td>\n",
              "      <td>New Master Cylinder 13 to 15?: I own a Guzzi v7ii stone and i know the OEM mc is a 13 ​ i saw the nicer Brembo RCS15 and i was told some have installed it on the v7 but i also saw RCS14... and some OEM/third party 13 ​ what is the difference between these few millimeters? how does it impact the braking?</td>\n",
              "    </tr>\n",
              "    <tr>\n",
              "      <th>23135</th>\n",
              "      <td>BMW</td>\n",
              "      <td>Driving my first M: Im 19 and about a year I joined the Bmw family when I got my first car, a 2004 325i. Obviously I fell in love and a year later i'm still in love. Ever since I got into the BMW community it has been a dream of mine to drive an M. I work at luxury car dealership where we have several M's in our inventory and the boss asked if I wanted to kill some time and pick up some food for him and I. I replied \"sure, only if you let me take the X6m\" to which he said \"sure\". Not trying to get my hopes up I played it cool, expecting him to say \"just kidding\". But it became real when he gave me the keys and said \"have fun kid\". At this point I'm in the drivers seat trying to take it all in and finally I take off and OH MY. All I can say is that the car is ANGRY. You give it a little gas and its just roars at you. Pops, burbles. At first I was taking it easy because I was admittedly a little scared to be driving the bosses car. So I'm cruising, or at least I thought I was because I look down at the dash and I'm going 80 and it felt like I was goin half that. The brakes are extremely responsive and smooth, steering was slightly numb compared to my 2004 but its still sharp. Finally I get to some open road and its time to see what this thing can do. You give the car a little gas and you're down the road. Is the F16 X6m the fastest of M's? Absolutely not but its faster than most cars on the road. The thing is a sling shot. A little lag but when it kicks, your head is thrown back against the seat. Straight beast. Body roll is almost non existent. Driving this thing down the road, everyone is breaking there neck to check it out. Then they have to take a double look when they see a 19 year old driving it. It felt good. Just makes me excited for when I get my own. Anyone remember their first time driving an M?</td>\n",
              "    </tr>\n",
              "    <tr>\n",
              "      <th>6351</th>\n",
              "      <td>motorcycles</td>\n",
              "      <td>Choke cable: I'm new to motorcycles but I just bought an '83 Honda shadow 500 and the choke cable is broken. I was wondering if choke cables are specified for bikes per model like an engine or side pieces or if they're just like handlebars and can fit on any. Any help?</td>\n",
              "    </tr>\n",
              "    <tr>\n",
              "      <th>6314</th>\n",
              "      <td>motorcycles</td>\n",
              "      <td>First street bike: Bought a 09 ZX10R: I haven't been on a bike in ages. I grew up riding a KX80, a CR80, a KX125 and finally a pro circuit built KX250. That was mostly in my youth though. I have had the bug to buy a street bike for a long time and I have always had my eyes set on a liter bike. I'm a bigger dude, 6'2, 250 lbs. Also got a wife and kids and in my mid-thirties. The bike is being shipped to be now. I am in no pressure to ride it, I have a full size truck as my main transportation to work and back (Army) and my wife has her own car. I am nervous. I do respect liter bikes. I dont want to get hurt or worst, but I also feel like if I don't get the bike I will live with the regret of not having one like I have for the last 15 years. My mental approach is to baby that thing around, and when I am comfortable, there may be a time and place to stretch it's legs occasionally. As you guys know, the 09 ZX10R has no ABS, power modes, traction, or anything. It's a raw bike. For better or worst I am drawn to that and I think it will make me respect it even more. These years of ninjas are also know for a snappy top end. I have been reading up on them every day. I'm nervous but also very excited and I think the kids will love having such a beautiful bike sitting in the garage. The bike I ordered a special edition, so it has the white stripe on the side fairings. It looks gorgeous. I'm just gonna casually ride to work and back during the warmer months and will maybe do a few weekend rides with my infantry buddies who also have bikes (R6, R1). I'm thinking my fear and respect and appreciation for this machine will save my ass. I also don't want to be so scared of it that I am never riding it and it just becomes a garage queen. An alternative option is to make it a track only bike down the road, where I put the bike in my truck and take it to a track weekend and ride it closer to it's limits in a much safer environment on a closed course. Will make me a better rider as well. I think the closest track to me is the Corvette Museum area in Kentucky (Im in Clarksville, TN). Anyways just wanted to share my excitement of getting to finally fulfill a dream of mine.</td>\n",
              "    </tr>\n",
              "  </tbody>\n",
              "</table>\n",
              "</div>\n",
              "      <button class=\"colab-df-convert\" onclick=\"convertToInteractive('df-0e75680d-91bb-4fd7-919a-fb02995894a3')\"\n",
              "              title=\"Convert this dataframe to an interactive table.\"\n",
              "              style=\"display:none;\">\n",
              "        \n",
              "  <svg xmlns=\"http://www.w3.org/2000/svg\" height=\"24px\"viewBox=\"0 0 24 24\"\n",
              "       width=\"24px\">\n",
              "    <path d=\"M0 0h24v24H0V0z\" fill=\"none\"/>\n",
              "    <path d=\"M18.56 5.44l.94 2.06.94-2.06 2.06-.94-2.06-.94-.94-2.06-.94 2.06-2.06.94zm-11 1L8.5 8.5l.94-2.06 2.06-.94-2.06-.94L8.5 2.5l-.94 2.06-2.06.94zm10 10l.94 2.06.94-2.06 2.06-.94-2.06-.94-.94-2.06-.94 2.06-2.06.94z\"/><path d=\"M17.41 7.96l-1.37-1.37c-.4-.4-.92-.59-1.43-.59-.52 0-1.04.2-1.43.59L10.3 9.45l-7.72 7.72c-.78.78-.78 2.05 0 2.83L4 21.41c.39.39.9.59 1.41.59.51 0 1.02-.2 1.41-.59l7.78-7.78 2.81-2.81c.8-.78.8-2.07 0-2.86zM5.41 20L4 18.59l7.72-7.72 1.47 1.35L5.41 20z\"/>\n",
              "  </svg>\n",
              "      </button>\n",
              "      \n",
              "  <style>\n",
              "    .colab-df-container {\n",
              "      display:flex;\n",
              "      flex-wrap:wrap;\n",
              "      gap: 12px;\n",
              "    }\n",
              "\n",
              "    .colab-df-convert {\n",
              "      background-color: #E8F0FE;\n",
              "      border: none;\n",
              "      border-radius: 50%;\n",
              "      cursor: pointer;\n",
              "      display: none;\n",
              "      fill: #1967D2;\n",
              "      height: 32px;\n",
              "      padding: 0 0 0 0;\n",
              "      width: 32px;\n",
              "    }\n",
              "\n",
              "    .colab-df-convert:hover {\n",
              "      background-color: #E2EBFA;\n",
              "      box-shadow: 0px 1px 2px rgba(60, 64, 67, 0.3), 0px 1px 3px 1px rgba(60, 64, 67, 0.15);\n",
              "      fill: #174EA6;\n",
              "    }\n",
              "\n",
              "    [theme=dark] .colab-df-convert {\n",
              "      background-color: #3B4455;\n",
              "      fill: #D2E3FC;\n",
              "    }\n",
              "\n",
              "    [theme=dark] .colab-df-convert:hover {\n",
              "      background-color: #434B5C;\n",
              "      box-shadow: 0px 1px 3px 1px rgba(0, 0, 0, 0.15);\n",
              "      filter: drop-shadow(0px 1px 2px rgba(0, 0, 0, 0.3));\n",
              "      fill: #FFFFFF;\n",
              "    }\n",
              "  </style>\n",
              "\n",
              "      <script>\n",
              "        const buttonEl =\n",
              "          document.querySelector('#df-0e75680d-91bb-4fd7-919a-fb02995894a3 button.colab-df-convert');\n",
              "        buttonEl.style.display =\n",
              "          google.colab.kernel.accessAllowed ? 'block' : 'none';\n",
              "\n",
              "        async function convertToInteractive(key) {\n",
              "          const element = document.querySelector('#df-0e75680d-91bb-4fd7-919a-fb02995894a3');\n",
              "          const dataTable =\n",
              "            await google.colab.kernel.invokeFunction('convertToInteractive',\n",
              "                                                     [key], {});\n",
              "          if (!dataTable) return;\n",
              "\n",
              "          const docLinkHtml = 'Like what you see? Visit the ' +\n",
              "            '<a target=\"_blank\" href=https://colab.research.google.com/notebooks/data_table.ipynb>data table notebook</a>'\n",
              "            + ' to learn more about interactive tables.';\n",
              "          element.innerHTML = '';\n",
              "          dataTable['output_type'] = 'display_data';\n",
              "          await google.colab.output.renderOutput(dataTable, element);\n",
              "          const docLink = document.createElement('div');\n",
              "          docLink.innerHTML = docLinkHtml;\n",
              "          element.appendChild(docLink);\n",
              "        }\n",
              "      </script>\n",
              "    </div>\n",
              "  </div>\n",
              "  "
            ]
          },
          "metadata": {},
          "execution_count": 6
        }
      ],
      "source": [
        "# set display column width unlimited to show full text\n",
        "pd.set_option('max_colwidth', None)\n",
        "\n",
        "df.sample(5)\n",
        "\n",
        "# reset display column width to 30\n",
        "pd.reset_option('max_colwidth')"
      ]
    },
    {
      "cell_type": "markdown",
      "metadata": {
        "id": "eOX7SEWK0aG5"
      },
      "source": [
        "### Define Label\n",
        "\n",
        "Store the label in a variable to make modifications easier."
      ]
    },
    {
      "cell_type": "code",
      "execution_count": 7,
      "metadata": {
        "ExecuteTime": {
          "end_time": "2023-06-19T13:04:08.634694Z",
          "start_time": "2023-06-19T13:04:08.359519Z"
        },
        "id": "j3H_xue70aG5"
      },
      "outputs": [],
      "source": [
        "label = 'subreddit'"
      ]
    },
    {
      "cell_type": "code",
      "execution_count": 8,
      "metadata": {
        "ExecuteTime": {
          "end_time": "2023-06-19T13:04:09.765991Z",
          "start_time": "2023-06-19T13:04:09.493994Z"
        },
        "scrolled": true,
        "id": "6mYyPjLv0aG5",
        "outputId": "f84f41a1-5eaa-4c19-81c5-247c0357263a",
        "colab": {
          "base_uri": "https://localhost:8080/",
          "height": 425
        }
      },
      "outputs": [
        {
          "output_type": "execute_result",
          "data": {
            "text/plain": [
              "               subreddit\n",
              "motorcycles         5654\n",
              "AskMechanics        2713\n",
              "teslamotors         2515\n",
              "BMW                 2303\n",
              "Audi                2053\n",
              "Honda               1957\n",
              "Volkswagen          1657\n",
              "Hyundai             1433\n",
              "Toyota              1145\n",
              "mercedes_benz       1145\n",
              "Harley              1101\n",
              "Volvo               1036"
            ],
            "text/html": [
              "\n",
              "  <div id=\"df-84856bde-2988-4971-bc4f-12100df612e6\">\n",
              "    <div class=\"colab-df-container\">\n",
              "      <div>\n",
              "<style scoped>\n",
              "    .dataframe tbody tr th:only-of-type {\n",
              "        vertical-align: middle;\n",
              "    }\n",
              "\n",
              "    .dataframe tbody tr th {\n",
              "        vertical-align: top;\n",
              "    }\n",
              "\n",
              "    .dataframe thead th {\n",
              "        text-align: right;\n",
              "    }\n",
              "</style>\n",
              "<table border=\"1\" class=\"dataframe tex2jax_ignore\">\n",
              "  <thead>\n",
              "    <tr style=\"text-align: right;\">\n",
              "      <th></th>\n",
              "      <th>subreddit</th>\n",
              "    </tr>\n",
              "  </thead>\n",
              "  <tbody>\n",
              "    <tr>\n",
              "      <th>motorcycles</th>\n",
              "      <td>5654</td>\n",
              "    </tr>\n",
              "    <tr>\n",
              "      <th>AskMechanics</th>\n",
              "      <td>2713</td>\n",
              "    </tr>\n",
              "    <tr>\n",
              "      <th>teslamotors</th>\n",
              "      <td>2515</td>\n",
              "    </tr>\n",
              "    <tr>\n",
              "      <th>BMW</th>\n",
              "      <td>2303</td>\n",
              "    </tr>\n",
              "    <tr>\n",
              "      <th>Audi</th>\n",
              "      <td>2053</td>\n",
              "    </tr>\n",
              "    <tr>\n",
              "      <th>Honda</th>\n",
              "      <td>1957</td>\n",
              "    </tr>\n",
              "    <tr>\n",
              "      <th>Volkswagen</th>\n",
              "      <td>1657</td>\n",
              "    </tr>\n",
              "    <tr>\n",
              "      <th>Hyundai</th>\n",
              "      <td>1433</td>\n",
              "    </tr>\n",
              "    <tr>\n",
              "      <th>Toyota</th>\n",
              "      <td>1145</td>\n",
              "    </tr>\n",
              "    <tr>\n",
              "      <th>mercedes_benz</th>\n",
              "      <td>1145</td>\n",
              "    </tr>\n",
              "    <tr>\n",
              "      <th>Harley</th>\n",
              "      <td>1101</td>\n",
              "    </tr>\n",
              "    <tr>\n",
              "      <th>Volvo</th>\n",
              "      <td>1036</td>\n",
              "    </tr>\n",
              "  </tbody>\n",
              "</table>\n",
              "</div>\n",
              "      <button class=\"colab-df-convert\" onclick=\"convertToInteractive('df-84856bde-2988-4971-bc4f-12100df612e6')\"\n",
              "              title=\"Convert this dataframe to an interactive table.\"\n",
              "              style=\"display:none;\">\n",
              "        \n",
              "  <svg xmlns=\"http://www.w3.org/2000/svg\" height=\"24px\"viewBox=\"0 0 24 24\"\n",
              "       width=\"24px\">\n",
              "    <path d=\"M0 0h24v24H0V0z\" fill=\"none\"/>\n",
              "    <path d=\"M18.56 5.44l.94 2.06.94-2.06 2.06-.94-2.06-.94-.94-2.06-.94 2.06-2.06.94zm-11 1L8.5 8.5l.94-2.06 2.06-.94-2.06-.94L8.5 2.5l-.94 2.06-2.06.94zm10 10l.94 2.06.94-2.06 2.06-.94-2.06-.94-.94-2.06-.94 2.06-2.06.94z\"/><path d=\"M17.41 7.96l-1.37-1.37c-.4-.4-.92-.59-1.43-.59-.52 0-1.04.2-1.43.59L10.3 9.45l-7.72 7.72c-.78.78-.78 2.05 0 2.83L4 21.41c.39.39.9.59 1.41.59.51 0 1.02-.2 1.41-.59l7.78-7.78 2.81-2.81c.8-.78.8-2.07 0-2.86zM5.41 20L4 18.59l7.72-7.72 1.47 1.35L5.41 20z\"/>\n",
              "  </svg>\n",
              "      </button>\n",
              "      \n",
              "  <style>\n",
              "    .colab-df-container {\n",
              "      display:flex;\n",
              "      flex-wrap:wrap;\n",
              "      gap: 12px;\n",
              "    }\n",
              "\n",
              "    .colab-df-convert {\n",
              "      background-color: #E8F0FE;\n",
              "      border: none;\n",
              "      border-radius: 50%;\n",
              "      cursor: pointer;\n",
              "      display: none;\n",
              "      fill: #1967D2;\n",
              "      height: 32px;\n",
              "      padding: 0 0 0 0;\n",
              "      width: 32px;\n",
              "    }\n",
              "\n",
              "    .colab-df-convert:hover {\n",
              "      background-color: #E2EBFA;\n",
              "      box-shadow: 0px 1px 2px rgba(60, 64, 67, 0.3), 0px 1px 3px 1px rgba(60, 64, 67, 0.15);\n",
              "      fill: #174EA6;\n",
              "    }\n",
              "\n",
              "    [theme=dark] .colab-df-convert {\n",
              "      background-color: #3B4455;\n",
              "      fill: #D2E3FC;\n",
              "    }\n",
              "\n",
              "    [theme=dark] .colab-df-convert:hover {\n",
              "      background-color: #434B5C;\n",
              "      box-shadow: 0px 1px 3px 1px rgba(0, 0, 0, 0.15);\n",
              "      filter: drop-shadow(0px 1px 2px rgba(0, 0, 0, 0.3));\n",
              "      fill: #FFFFFF;\n",
              "    }\n",
              "  </style>\n",
              "\n",
              "      <script>\n",
              "        const buttonEl =\n",
              "          document.querySelector('#df-84856bde-2988-4971-bc4f-12100df612e6 button.colab-df-convert');\n",
              "        buttonEl.style.display =\n",
              "          google.colab.kernel.accessAllowed ? 'block' : 'none';\n",
              "\n",
              "        async function convertToInteractive(key) {\n",
              "          const element = document.querySelector('#df-84856bde-2988-4971-bc4f-12100df612e6');\n",
              "          const dataTable =\n",
              "            await google.colab.kernel.invokeFunction('convertToInteractive',\n",
              "                                                     [key], {});\n",
              "          if (!dataTable) return;\n",
              "\n",
              "          const docLinkHtml = 'Like what you see? Visit the ' +\n",
              "            '<a target=\"_blank\" href=https://colab.research.google.com/notebooks/data_table.ipynb>data table notebook</a>'\n",
              "            + ' to learn more about interactive tables.';\n",
              "          element.innerHTML = '';\n",
              "          dataTable['output_type'] = 'display_data';\n",
              "          await google.colab.output.renderOutput(dataTable, element);\n",
              "          const docLink = document.createElement('div');\n",
              "          docLink.innerHTML = docLinkHtml;\n",
              "          element.appendChild(docLink);\n",
              "        }\n",
              "      </script>\n",
              "    </div>\n",
              "  </div>\n",
              "  "
            ]
          },
          "metadata": {},
          "execution_count": 8
        }
      ],
      "source": [
        "df[label].value_counts().to_frame()"
      ]
    },
    {
      "cell_type": "markdown",
      "metadata": {
        "id": "BUb-t1yv0aG6"
      },
      "source": [
        "### Convert to Huggingface Dataset"
      ]
    },
    {
      "cell_type": "code",
      "execution_count": 38,
      "metadata": {
        "ExecuteTime": {
          "end_time": "2023-06-19T13:04:27.362059Z",
          "start_time": "2023-06-19T13:04:27.055721Z"
        },
        "id": "CAbEyO600aG6",
        "outputId": "77d438c3-1a14-416a-e3b6-00889b5179e8",
        "colab": {
          "base_uri": "https://localhost:8080/",
          "height": 17,
          "referenced_widgets": [
            "060540e7d6ce43128795c50ea92b42e6",
            "39600857b1934263ba2d11f27049ceb6",
            "69c018cfc7ad461785193a90eb1021ff",
            "024d6f38840a4172963f9e73b700a40e",
            "e6e97088adf3463f92c7368e7c8a100f",
            "3f1b61ab2cb7423ca77ae41914aa36bc",
            "d1edc855183a46ab84ecadf8a864134c",
            "4aad445553be451a946a081f70ea70b9",
            "dec8e9741efc4fb69d5e87e05cdc5194",
            "c8eb21ad8d0a40e78e57e445843a71d8",
            "08bca8dabf1344bea087d8f894a0a626"
          ]
        }
      },
      "outputs": [
        {
          "output_type": "display_data",
          "data": {
            "text/plain": [
              "Casting to class labels:   0%|          | 0/24712 [00:00<?, ? examples/s]"
            ],
            "application/vnd.jupyter.widget-view+json": {
              "version_major": 2,
              "version_minor": 0,
              "model_id": "060540e7d6ce43128795c50ea92b42e6"
            }
          },
          "metadata": {}
        }
      ],
      "source": [
        "import datasets\n",
        "from datasets import Dataset\n",
        "\n",
        "ds = Dataset.from_pandas(df[['text', label]]) \\\n",
        "            .rename_column(label, 'label') \\\n",
        "            .class_encode_column(\"label\") # convert to datasets.ClassLabel"
      ]
    },
    {
      "cell_type": "code",
      "execution_count": 40,
      "metadata": {
        "ExecuteTime": {
          "end_time": "2023-06-19T13:07:04.563049Z",
          "start_time": "2023-06-19T13:07:04.275039Z"
        },
        "id": "bc5VdDoh0aG6",
        "outputId": "6a565c4d-7285-4307-cb95-d9452820dd8c",
        "colab": {
          "base_uri": "https://localhost:8080/"
        }
      },
      "outputs": [
        {
          "output_type": "execute_result",
          "data": {
            "text/plain": [
              "Dataset({\n",
              "    features: ['text', 'label'],\n",
              "    num_rows: 24712\n",
              "})"
            ]
          },
          "metadata": {},
          "execution_count": 40
        }
      ],
      "source": [
        "ds"
      ]
    },
    {
      "cell_type": "code",
      "source": [
        "ds.features['label']"
      ],
      "metadata": {
        "id": "wBQwrfw1xONP",
        "outputId": "e066fb78-e185-4647-a66c-205417112aeb",
        "colab": {
          "base_uri": "https://localhost:8080/"
        }
      },
      "execution_count": 41,
      "outputs": [
        {
          "output_type": "execute_result",
          "data": {
            "text/plain": [
              "ClassLabel(names=['AskMechanics', 'Audi', 'BMW', 'Harley', 'Honda', 'Hyundai', 'Toyota', 'Volkswagen', 'Volvo', 'mercedes_benz', 'motorcycles', 'teslamotors'], id=None)"
            ]
          },
          "metadata": {},
          "execution_count": 41
        }
      ]
    },
    {
      "cell_type": "code",
      "source": [
        "ds['label'][:10]"
      ],
      "metadata": {
        "id": "FWUfRHvAxSsh",
        "outputId": "ccd71918-01cb-4451-c20e-6062bbced250",
        "colab": {
          "base_uri": "https://localhost:8080/"
        }
      },
      "execution_count": 44,
      "outputs": [
        {
          "output_type": "execute_result",
          "data": {
            "text/plain": [
              "[10, 6, 4, 1, 11, 11, 1, 8, 11, 11]"
            ]
          },
          "metadata": {},
          "execution_count": 44
        }
      ]
    },
    {
      "cell_type": "code",
      "source": [
        "# cl = ds.features['label']\n",
        "int2str"
      ],
      "metadata": {
        "id": "79akkkMANG5T"
      },
      "execution_count": null,
      "outputs": []
    },
    {
      "cell_type": "code",
      "source": [
        "df[label][:10]"
      ],
      "metadata": {
        "id": "YEPZJMfRxaUO",
        "outputId": "6e92af5b-0fec-4066-b13f-1d86409e2948",
        "colab": {
          "base_uri": "https://localhost:8080/"
        }
      },
      "execution_count": 45,
      "outputs": [
        {
          "output_type": "execute_result",
          "data": {
            "text/plain": [
              "0    motorcycles\n",
              "1         Toyota\n",
              "2          Honda\n",
              "3           Audi\n",
              "4    teslamotors\n",
              "5    teslamotors\n",
              "6           Audi\n",
              "7          Volvo\n",
              "8    teslamotors\n",
              "9    teslamotors\n",
              "Name: subreddit, dtype: object"
            ]
          },
          "metadata": {},
          "execution_count": 45
        }
      ]
    },
    {
      "cell_type": "markdown",
      "source": [
        "## **Tokenization**"
      ],
      "metadata": {
        "id": "FWS18Mrwv2ME"
      }
    },
    {
      "cell_type": "markdown",
      "metadata": {
        "id": "wh7YQ_Vi0aG6"
      },
      "source": [
        "### Subword-Tokenization"
      ]
    },
    {
      "cell_type": "code",
      "execution_count": 46,
      "metadata": {
        "ExecuteTime": {
          "end_time": "2023-06-19T13:04:32.374815Z",
          "start_time": "2023-06-19T13:04:30.757338Z"
        },
        "id": "MYTiTc_j0aG7"
      },
      "outputs": [],
      "source": [
        "from transformers import AutoTokenizer\n",
        "\n",
        "model_ckpt = \"distilbert-base-uncased\"\n",
        "tokenizer = AutoTokenizer.from_pretrained(model_ckpt)"
      ]
    },
    {
      "cell_type": "code",
      "execution_count": 47,
      "metadata": {
        "ExecuteTime": {
          "end_time": "2023-06-19T13:04:32.673961Z",
          "start_time": "2023-06-19T13:04:32.378598Z"
        },
        "id": "tvf23EPN0aG7",
        "outputId": "94e22595-10ca-4d14-a0da-616085192b3b",
        "colab": {
          "base_uri": "https://localhost:8080/"
        }
      },
      "outputs": [
        {
          "output_type": "execute_result",
          "data": {
            "text/plain": [
              "{'input_ids': [101, 1045, 2293, 2026, 13154, 1045, 2509, 2021, 13003, 2007, 2026, 2813, 8758, 2071, 2022, 5514, 1012, 102], 'attention_mask': [1, 1, 1, 1, 1, 1, 1, 1, 1, 1, 1, 1, 1, 1, 1, 1, 1, 1]}"
            ]
          },
          "metadata": {},
          "execution_count": 47
        }
      ],
      "source": [
        "text = \"I love my BMW i3 but charging with my wallbox could be faster.\"\n",
        "encoded_text = tokenizer(text)\n",
        "\n",
        "encoded_text"
      ]
    },
    {
      "cell_type": "code",
      "execution_count": 48,
      "metadata": {
        "ExecuteTime": {
          "end_time": "2023-06-19T13:04:33.007184Z",
          "start_time": "2023-06-19T13:04:32.676968Z"
        },
        "id": "5auHkHQJ0aG7",
        "outputId": "426a2f1a-b5ba-4d6c-e7c6-1fd2befb455c",
        "colab": {
          "base_uri": "https://localhost:8080/"
        }
      },
      "outputs": [
        {
          "output_type": "stream",
          "name": "stdout",
          "text": [
            "[CLS] i love my bmw i ##3 but charging with my wall ##box could be faster . [SEP]\n"
          ]
        }
      ],
      "source": [
        "tokens = tokenizer.convert_ids_to_tokens(encoded_text.input_ids)\n",
        "\n",
        "print(*tokens)"
      ]
    },
    {
      "cell_type": "markdown",
      "metadata": {
        "id": "_GTzoZXV0aG7"
      },
      "source": [
        "Tokens starting with `##` mark suffixes and should be merged with the preceding token to get the original string representation. The following function does just that:"
      ]
    },
    {
      "cell_type": "code",
      "execution_count": 49,
      "metadata": {
        "ExecuteTime": {
          "end_time": "2023-06-19T13:04:35.343700Z",
          "start_time": "2023-06-19T13:04:35.051826Z"
        },
        "id": "BY_UZmIR0aG7",
        "outputId": "fec8ece9-b953-4b8c-e2da-413311dd32ee",
        "colab": {
          "base_uri": "https://localhost:8080/",
          "height": 35
        }
      },
      "outputs": [
        {
          "output_type": "execute_result",
          "data": {
            "text/plain": [
              "'[CLS] i love my bmw i3 but charging with my wallbox could be faster. [SEP]'"
            ],
            "application/vnd.google.colaboratory.intrinsic+json": {
              "type": "string"
            }
          },
          "metadata": {},
          "execution_count": 49
        }
      ],
      "source": [
        "tokenizer.convert_tokens_to_string(tokens)"
      ]
    },
    {
      "cell_type": "markdown",
      "metadata": {
        "id": "6pt3C-Ax0aG8"
      },
      "source": [
        "#### Tokenizing the Whole Dataset"
      ]
    },
    {
      "cell_type": "code",
      "execution_count": 50,
      "metadata": {
        "ExecuteTime": {
          "end_time": "2023-06-19T13:04:40.627832Z",
          "start_time": "2023-06-19T13:04:40.339895Z"
        },
        "id": "5oGjE-F40aG8"
      },
      "outputs": [],
      "source": [
        "def tokenize(batch):\n",
        "    return tokenizer(batch['text'],\n",
        "                     padding=True, # pad examples with zeros to the right\n",
        "                     truncation=True) # truncate to models maximum context size"
      ]
    },
    {
      "cell_type": "code",
      "execution_count": 51,
      "metadata": {
        "ExecuteTime": {
          "end_time": "2023-06-19T13:07:31.370337Z",
          "start_time": "2023-06-19T13:07:31.072315Z"
        },
        "id": "GrPUzbDZ0aG8",
        "outputId": "da2a1669-17e1-4afc-abbc-e5db2ab6563d",
        "colab": {
          "base_uri": "https://localhost:8080/"
        }
      },
      "outputs": [
        {
          "output_type": "execute_result",
          "data": {
            "text/plain": [
              "{'input_ids': [[101, 2393, 999, 6081, 12501, 2000, 15095, 1024, 2516, 2758, 2009, 2035, 1010, 18546, 12432, 24563, 2007, 6081, 2013, 1037, 6023, 4524, 2008, 2288, 2205, 2485, 1012, 1045, 1005, 2310, 2464, 2367, 15690, 2006, 2536, 21415, 1010, 2559, 2005, 2034, 11774, 3325, 1010, 2054, 1005, 1055, 2499, 2190, 2005, 2017, 1029, 102, 0, 0, 0, 0, 0, 0, 0, 0, 0, 0, 0, 0, 0, 0, 0, 0, 0, 0, 0, 0, 0, 0, 0, 0, 0, 0, 0, 0, 0, 0, 0, 0, 0, 0, 0, 0, 0, 0, 0, 0, 0, 0, 0, 0, 0, 0, 0, 0, 0, 0, 0, 0, 0, 0, 0, 0, 0, 0, 0, 0, 0, 0, 0, 0, 0, 0, 0, 0, 0, 0, 0, 0, 0, 0, 0, 0, 0, 0, 0, 0, 0, 0, 0, 0, 0, 0, 0, 0, 0, 0, 0, 0, 0, 0, 0, 0, 0, 0, 0, 0, 0, 0, 0, 0, 0, 0, 0, 0, 0, 0, 0, 0, 0, 0, 0, 0, 0, 0, 0, 0, 0, 0], [101, 2064, 1045, 3531, 2131, 2070, 2393, 6575, 3784, 2005, 1037, 2109, 2482, 2000, 4965, 1029, 1024, 1045, 2052, 2428, 9120, 2009, 1012, 1045, 2424, 2023, 3243, 10827, 1012, 2026, 3976, 2846, 2003, 1002, 11910, 1011, 20143, 1012, 1045, 2113, 2009, 1005, 1055, 2025, 2172, 2021, 1045, 1005, 1049, 3728, 2067, 2013, 2542, 6917, 2005, 1996, 2197, 1019, 2086, 2061, 3225, 2058, 1012, 1045, 1005, 1049, 2559, 2005, 2242, 10539, 1010, 2061, 28946, 1037, 11742, 2030, 11990, 1025, 11504, 1996, 10984, 5583, 2038, 2042, 2999, 1012, 9544, 8231, 1037, 11503, 2854, 2030, 15802, 2021, 1045, 2052, 5136, 1037, 2522, 28402, 2050, 1013, 8388, 1012, 2672, 2036, 1037, 15373, 1012, 1008, 6410, 2030, 8285, 1012, 2052, 2022, 2200, 2172, 12315, 999, 1045, 2707, 2147, 2279, 9857, 1998, 2019, 19169, 4536, 2119, 3971, 10126, 2003, 2183, 2000, 3465, 2033, 2019, 2849, 1998, 1037, 4190, 1998, 6805, 2046, 2026, 2482, 13131, 5166, 1012, 2153, 1010, 2151, 2393, 2052, 2172, 12315, 999, 27339, 999, 1052, 1012, 1055, 1012, 1045, 1005, 1049, 2284, 1999, 5899, 1010, 3146, 1012, 102]], 'attention_mask': [[1, 1, 1, 1, 1, 1, 1, 1, 1, 1, 1, 1, 1, 1, 1, 1, 1, 1, 1, 1, 1, 1, 1, 1, 1, 1, 1, 1, 1, 1, 1, 1, 1, 1, 1, 1, 1, 1, 1, 1, 1, 1, 1, 1, 1, 1, 1, 1, 1, 1, 1, 1, 0, 0, 0, 0, 0, 0, 0, 0, 0, 0, 0, 0, 0, 0, 0, 0, 0, 0, 0, 0, 0, 0, 0, 0, 0, 0, 0, 0, 0, 0, 0, 0, 0, 0, 0, 0, 0, 0, 0, 0, 0, 0, 0, 0, 0, 0, 0, 0, 0, 0, 0, 0, 0, 0, 0, 0, 0, 0, 0, 0, 0, 0, 0, 0, 0, 0, 0, 0, 0, 0, 0, 0, 0, 0, 0, 0, 0, 0, 0, 0, 0, 0, 0, 0, 0, 0, 0, 0, 0, 0, 0, 0, 0, 0, 0, 0, 0, 0, 0, 0, 0, 0, 0, 0, 0, 0, 0, 0, 0, 0, 0, 0, 0, 0, 0, 0, 0, 0, 0, 0, 0, 0], [1, 1, 1, 1, 1, 1, 1, 1, 1, 1, 1, 1, 1, 1, 1, 1, 1, 1, 1, 1, 1, 1, 1, 1, 1, 1, 1, 1, 1, 1, 1, 1, 1, 1, 1, 1, 1, 1, 1, 1, 1, 1, 1, 1, 1, 1, 1, 1, 1, 1, 1, 1, 1, 1, 1, 1, 1, 1, 1, 1, 1, 1, 1, 1, 1, 1, 1, 1, 1, 1, 1, 1, 1, 1, 1, 1, 1, 1, 1, 1, 1, 1, 1, 1, 1, 1, 1, 1, 1, 1, 1, 1, 1, 1, 1, 1, 1, 1, 1, 1, 1, 1, 1, 1, 1, 1, 1, 1, 1, 1, 1, 1, 1, 1, 1, 1, 1, 1, 1, 1, 1, 1, 1, 1, 1, 1, 1, 1, 1, 1, 1, 1, 1, 1, 1, 1, 1, 1, 1, 1, 1, 1, 1, 1, 1, 1, 1, 1, 1, 1, 1, 1, 1, 1, 1, 1, 1, 1, 1, 1, 1, 1, 1, 1, 1, 1, 1, 1, 1, 1, 1, 1, 1, 1]]}"
            ]
          },
          "metadata": {},
          "execution_count": 51
        }
      ],
      "source": [
        "tokenize(ds[:2])"
      ]
    },
    {
      "cell_type": "code",
      "execution_count": 52,
      "metadata": {
        "ExecuteTime": {
          "end_time": "2023-06-19T13:10:19.021215Z",
          "start_time": "2023-06-19T13:10:07.872672Z"
        },
        "id": "pzky3VUV0aG8",
        "outputId": "d120daf2-c0e6-4138-c71a-7e96a263da8b",
        "colab": {
          "base_uri": "https://localhost:8080/",
          "height": 17,
          "referenced_widgets": [
            "cb96dddf23434840aa3a06b8ecf393c0",
            "643af9effc0346dd8b33e391d25309a9",
            "51a3f7cfa47e4f618eb35a18f90ffed9",
            "094883cbc335411eb434099026a284b3",
            "7c6bf876583a4bab83b168ef2674a754",
            "8155786da67547ad924058c4794c2b05",
            "abb0d70706e0456a92bb85c897a2eb76",
            "fbcc73e5beca48489c58693af5809724",
            "a56ed8b1d507438cb53a5cb56a2d2dd5",
            "42e12d4355914e7baefb0efc46cb8362",
            "3a9cb59a85904bc9a81dc4ad88b80808"
          ]
        }
      },
      "outputs": [
        {
          "output_type": "display_data",
          "data": {
            "text/plain": [
              "Map:   0%|          | 0/24712 [00:00<?, ? examples/s]"
            ],
            "application/vnd.jupyter.widget-view+json": {
              "version_major": 2,
              "version_minor": 0,
              "model_id": "cb96dddf23434840aa3a06b8ecf393c0"
            }
          },
          "metadata": {}
        }
      ],
      "source": [
        "# for tokenization use one single batch to ensure all tensors have the same shape\n",
        "ds_encoded = ds.map(tokenize, batched=True, batch_size=None)"
      ]
    },
    {
      "cell_type": "markdown",
      "source": [
        "Now the dataset has two additional attributes: `input_ids` and `attention_mask`."
      ],
      "metadata": {
        "id": "tVwENqAsyi-K"
      }
    },
    {
      "cell_type": "code",
      "execution_count": 53,
      "metadata": {
        "ExecuteTime": {
          "end_time": "2023-06-19T13:11:30.998167Z",
          "start_time": "2023-06-19T13:11:30.707194Z"
        },
        "id": "KQLeE2B-0aG8",
        "outputId": "06b1cb4a-f6a1-4e53-a503-339769aeeb91",
        "colab": {
          "base_uri": "https://localhost:8080/"
        }
      },
      "outputs": [
        {
          "output_type": "execute_result",
          "data": {
            "text/plain": [
              "Dataset({\n",
              "    features: ['text', 'label', 'input_ids', 'attention_mask'],\n",
              "    num_rows: 24712\n",
              "})"
            ]
          },
          "metadata": {},
          "execution_count": 53
        }
      ],
      "source": [
        "ds_encoded"
      ]
    },
    {
      "cell_type": "markdown",
      "source": [
        "## Classification with BERT as Feature Extractor"
      ],
      "metadata": {
        "id": "6FWzJhebvYjH"
      }
    },
    {
      "cell_type": "markdown",
      "metadata": {
        "id": "-NepGk2h0aG8"
      },
      "source": [
        "### Extracting the Last Hidden States"
      ]
    },
    {
      "cell_type": "code",
      "execution_count": 57,
      "metadata": {
        "ExecuteTime": {
          "end_time": "2023-06-19T13:12:15.230765Z",
          "start_time": "2023-06-19T13:12:10.704103Z"
        },
        "id": "k_FmY9wk0aG9",
        "outputId": "106058f3-2dfb-4abc-e055-db1de8a510f6",
        "colab": {
          "base_uri": "https://localhost:8080/"
        }
      },
      "outputs": [
        {
          "output_type": "execute_result",
          "data": {
            "text/plain": [
              "device(type='cuda')"
            ]
          },
          "metadata": {},
          "execution_count": 57
        }
      ],
      "source": [
        "import torch\n",
        "device = torch.device(\"cuda\" if torch.cuda.is_available() else \"cpu\")\n",
        "device"
      ]
    },
    {
      "cell_type": "code",
      "source": [
        "model_ckpt"
      ],
      "metadata": {
        "id": "I-Xa7ju4y19i",
        "outputId": "eafe2f39-ac1e-4a2d-de11-84334e086473",
        "colab": {
          "base_uri": "https://localhost:8080/",
          "height": 35
        }
      },
      "execution_count": 58,
      "outputs": [
        {
          "output_type": "execute_result",
          "data": {
            "text/plain": [
              "'distilbert-base-uncased'"
            ],
            "application/vnd.google.colaboratory.intrinsic+json": {
              "type": "string"
            }
          },
          "metadata": {},
          "execution_count": 58
        }
      ]
    },
    {
      "cell_type": "code",
      "source": [
        "from transformers import AutoModel\n",
        "\n",
        "model = AutoModel.from_pretrained(model_ckpt).to(device)"
      ],
      "metadata": {
        "id": "vvNjS2WmNia6",
        "outputId": "eeb29297-d9c6-46a4-d862-c53d1aa4543b",
        "colab": {
          "base_uri": "https://localhost:8080/"
        }
      },
      "execution_count": 59,
      "outputs": [
        {
          "output_type": "stream",
          "name": "stderr",
          "text": [
            "Some weights of the model checkpoint at distilbert-base-uncased were not used when initializing DistilBertModel: ['vocab_layer_norm.bias', 'vocab_layer_norm.weight', 'vocab_transform.bias', 'vocab_transform.weight', 'vocab_projector.bias']\n",
            "- This IS expected if you are initializing DistilBertModel from the checkpoint of a model trained on another task or with another architecture (e.g. initializing a BertForSequenceClassification model from a BertForPreTraining model).\n",
            "- This IS NOT expected if you are initializing DistilBertModel from the checkpoint of a model that you expect to be exactly identical (initializing a BertForSequenceClassification model from a BertForSequenceClassification model).\n"
          ]
        }
      ]
    },
    {
      "cell_type": "code",
      "execution_count": 60,
      "metadata": {
        "ExecuteTime": {
          "end_time": "2023-06-19T13:08:03.880029Z",
          "start_time": "2023-06-19T13:08:03.583988Z"
        },
        "id": "UEiDHPCK0aG9",
        "outputId": "a0c3e243-facd-4c37-b097-7416bfd87dc0",
        "colab": {
          "base_uri": "https://localhost:8080/"
        }
      },
      "outputs": [
        {
          "output_type": "execute_result",
          "data": {
            "text/plain": [
              "torch.Size([2, 7])"
            ]
          },
          "metadata": {},
          "execution_count": 60
        }
      ],
      "source": [
        "text = [\"this is a test\", \"this is not a test\"]\n",
        "inputs = tokenizer(text, return_tensors=\"pt\", padding=True, truncation=True)\n",
        "inputs['input_ids'].size()"
      ]
    },
    {
      "cell_type": "code",
      "execution_count": 61,
      "metadata": {
        "ExecuteTime": {
          "end_time": "2023-06-19T13:08:17.593235Z",
          "start_time": "2023-06-19T13:08:17.269237Z"
        },
        "id": "E3SJg5il0aG9",
        "outputId": "1ba19e91-673c-4d62-aad0-7464e8d3c595",
        "colab": {
          "base_uri": "https://localhost:8080/"
        }
      },
      "outputs": [
        {
          "output_type": "stream",
          "name": "stdout",
          "text": [
            "BaseModelOutput(last_hidden_state=tensor([[[-0.1565, -0.1862,  0.0528,  ..., -0.1188,  0.0662,  0.5470],\n",
            "         [-0.3575, -0.6484, -0.0618,  ..., -0.3040,  0.3508,  0.5221],\n",
            "         [-0.2772, -0.4459,  0.1818,  ..., -0.0948, -0.0076,  0.9958],\n",
            "         ...,\n",
            "         [ 0.2661, -0.5094, -0.3180,  ..., -0.4203,  0.0144, -0.2149],\n",
            "         [ 0.9441,  0.0112, -0.4714,  ...,  0.1439, -0.7288, -0.1619],\n",
            "         [ 0.0352, -0.3883,  0.0161,  ...,  0.0221,  0.0190,  0.4101]],\n",
            "\n",
            "        [[-0.0923, -0.0875, -0.0194,  ..., -0.0601,  0.1510,  0.5475],\n",
            "         [-0.2492, -0.5210, -0.0962,  ..., -0.2267,  0.3294,  0.3957],\n",
            "         [-0.1805, -0.4085,  0.0953,  ..., -0.0257, -0.0198,  0.7817],\n",
            "         ...,\n",
            "         [-0.0915, -0.2593,  0.1829,  ..., -0.0708, -0.1403,  0.7053],\n",
            "         [ 0.3783, -0.3699, -0.3622,  ..., -0.3398,  0.0264, -0.3225],\n",
            "         [ 0.9101,  0.0807, -0.4004,  ...,  0.1511, -0.6977, -0.1923]]],\n",
            "       device='cuda:0'), hidden_states=None, attentions=None)\n"
          ]
        }
      ],
      "source": [
        "inputs = {k: v.to(device) for k, v in inputs.items()}\n",
        "with torch.no_grad():\n",
        "    outputs = model(**inputs)\n",
        "print(outputs)"
      ]
    },
    {
      "cell_type": "markdown",
      "source": [
        "Two inputs, at most seven tokens (five tokens in second example + `[CLS]` + `[SEP]`), 768-dimensional embeddings:"
      ],
      "metadata": {
        "id": "VrGtAEA9-VV4"
      }
    },
    {
      "cell_type": "code",
      "execution_count": 62,
      "metadata": {
        "ExecuteTime": {
          "end_time": "2023-06-19T12:49:06.092816Z",
          "start_time": "2023-06-19T12:49:05.801778Z"
        },
        "id": "dRewFV2W0aG9",
        "outputId": "db27f85c-2f35-4617-f869-8abf43216d1a",
        "colab": {
          "base_uri": "https://localhost:8080/"
        }
      },
      "outputs": [
        {
          "output_type": "execute_result",
          "data": {
            "text/plain": [
              "torch.Size([2, 7, 768])"
            ]
          },
          "metadata": {},
          "execution_count": 62
        }
      ],
      "source": [
        "outputs.last_hidden_state.size()"
      ]
    },
    {
      "cell_type": "markdown",
      "source": [
        "Embeddings on position 0 (`[CLS]`) can be used as sequence embeddings:"
      ],
      "metadata": {
        "id": "_-Zz0I5b-0Hi"
      }
    },
    {
      "cell_type": "code",
      "execution_count": 63,
      "metadata": {
        "ExecuteTime": {
          "end_time": "2023-06-19T13:08:41.446581Z",
          "start_time": "2023-06-19T13:08:41.146729Z"
        },
        "id": "ASBNHH760aG9",
        "outputId": "27c90b6a-7da6-4140-fd25-f470916e7f73",
        "colab": {
          "base_uri": "https://localhost:8080/"
        }
      },
      "outputs": [
        {
          "output_type": "execute_result",
          "data": {
            "text/plain": [
              "tensor([[-0.1565, -0.1862,  0.0528,  ..., -0.1188,  0.0662,  0.5470],\n",
              "        [-0.0923, -0.0875, -0.0194,  ..., -0.0601,  0.1510,  0.5475]],\n",
              "       device='cuda:0')"
            ]
          },
          "metadata": {},
          "execution_count": 63
        }
      ],
      "source": [
        "outputs.last_hidden_state[:,0]"
      ]
    },
    {
      "cell_type": "code",
      "execution_count": 64,
      "metadata": {
        "ExecuteTime": {
          "end_time": "2023-06-19T13:13:07.909584Z",
          "start_time": "2023-06-19T13:13:07.609161Z"
        },
        "id": "nV52UkUm0aG-"
      },
      "outputs": [],
      "source": [
        "def extract_hidden_states(batch):\n",
        "    inputs = {k: v.to(device) for k, v in batch.items()\n",
        "              if k in tokenizer.model_input_names}\n",
        "    # extract last hidden states\n",
        "    with torch.no_grad():\n",
        "        last_hidden_state = model(**inputs).last_hidden_state\n",
        "    # return vector for [CLS] token\n",
        "    return { \"hidden_state\": last_hidden_state[:,0].cpu().numpy() }"
      ]
    },
    {
      "cell_type": "markdown",
      "source": [
        "Convert inputs to PyTorch format:"
      ],
      "metadata": {
        "id": "CtPUoaUM_bKy"
      }
    },
    {
      "cell_type": "code",
      "execution_count": 67,
      "metadata": {
        "ExecuteTime": {
          "end_time": "2023-06-19T13:13:49.530708Z",
          "start_time": "2023-06-19T13:13:49.228979Z"
        },
        "id": "Jw9_IWCw0aG-"
      },
      "outputs": [],
      "source": [
        "ds_encoded.set_format(\"torch\", columns=[\"input_ids\", \"attention_mask\", \"label\"])"
      ]
    },
    {
      "cell_type": "markdown",
      "source": [
        "Retrieve the sequence embeddings:"
      ],
      "metadata": {
        "id": "gUg1FgiJ_-kQ"
      }
    },
    {
      "cell_type": "code",
      "execution_count": 68,
      "metadata": {
        "ExecuteTime": {
          "end_time": "2023-06-19T13:16:03.882067Z",
          "start_time": "2023-06-19T13:15:52.994790Z"
        },
        "id": "m5Nt09p80aG-",
        "outputId": "d6969286-c79a-45c9-b692-286567b69580",
        "colab": {
          "base_uri": "https://localhost:8080/",
          "height": 17,
          "referenced_widgets": [
            "eeaecbdbc32d4dec81db095297459ad0",
            "213857636cf7458da801f23a4a1a774b",
            "66b12e19cabb4581ad6c0408a689c8aa",
            "3c8584b06eb0400e99cc1e7db8f816de",
            "97e3f61dca48403e8337824c3c81542d",
            "c1422b34572b42108ea4ca0241a26d6d",
            "6dad2160e9884056b5d0c2e70b9d10e5",
            "529ef8ad27cc4d51a756c6321c4f62e1",
            "0df66c4261cf4481ad0f207bad58cb39",
            "e5049105418648e2a9f751202046562c",
            "52e959f6cf2f48cf8557d47cbc33aac4"
          ]
        }
      },
      "outputs": [
        {
          "output_type": "display_data",
          "data": {
            "text/plain": [
              "Map:   0%|          | 0/24712 [00:00<?, ? examples/s]"
            ],
            "application/vnd.jupyter.widget-view+json": {
              "version_major": 2,
              "version_minor": 0,
              "model_id": "eeaecbdbc32d4dec81db095297459ad0"
            }
          },
          "metadata": {}
        }
      ],
      "source": [
        "ds_embedded = ds_encoded.map(extract_hidden_states, batched=True, batch_size=100) # default is 1000"
      ]
    },
    {
      "cell_type": "markdown",
      "source": [
        "Transform the embeddings into a NumPy matrix for training:"
      ],
      "metadata": {
        "id": "9cj5NbRQ9EkW"
      }
    },
    {
      "cell_type": "code",
      "source": [
        "X_bert = np.array(ds_embedded['hidden_state'])"
      ],
      "metadata": {
        "id": "lcSiYHFS9M14"
      },
      "execution_count": 70,
      "outputs": []
    },
    {
      "cell_type": "markdown",
      "source": [
        "Now our training data matrix consists of 768-dimensional sequence embeddings:"
      ],
      "metadata": {
        "id": "5iRaXyTNAbw7"
      }
    },
    {
      "cell_type": "code",
      "source": [
        "X_bert.shape"
      ],
      "metadata": {
        "id": "x8Iz7Y7z9cYE",
        "outputId": "b4f678df-c5a1-4a6b-b63a-f2ef3ea24127",
        "colab": {
          "base_uri": "https://localhost:8080/"
        }
      },
      "execution_count": 71,
      "outputs": [
        {
          "output_type": "execute_result",
          "data": {
            "text/plain": [
              "(24712, 768)"
            ]
          },
          "metadata": {},
          "execution_count": 71
        }
      ]
    },
    {
      "cell_type": "code",
      "source": [
        "np.save(\"distilbert_embeddings\", X_bert)"
      ],
      "metadata": {
        "id": "PW6vl4dt-0xd"
      },
      "execution_count": 72,
      "outputs": []
    },
    {
      "cell_type": "code",
      "source": [
        "# X_bert = np.load(\"distilbert_embeddings.npy\")"
      ],
      "metadata": {
        "id": "DkLmO3mlINes"
      },
      "execution_count": null,
      "outputs": []
    },
    {
      "cell_type": "markdown",
      "metadata": {
        "id": "naeGM4au0aHD"
      },
      "source": [
        "### Train-Test-Split"
      ]
    },
    {
      "cell_type": "markdown",
      "metadata": {
        "ExecuteTime": {
          "end_time": "2020-04-23T18:34:27.938687Z",
          "start_time": "2020-04-23T18:34:27.810687Z"
        },
        "id": "nIsqNjCi0aHD"
      },
      "source": [
        "Choose data matrix `X` and label vector `y` for training:"
      ]
    },
    {
      "cell_type": "code",
      "execution_count": 73,
      "metadata": {
        "ExecuteTime": {
          "end_time": "2023-06-19T05:48:55.560587Z",
          "start_time": "2023-06-19T05:48:55.309238Z"
        },
        "id": "9Q1JkBgG0aHD"
      },
      "outputs": [],
      "source": [
        "X = X_bert\n",
        "\n",
        "# define label vector\n",
        "y = df[label]"
      ]
    },
    {
      "cell_type": "markdown",
      "metadata": {
        "id": "OrLkrhW80aHE"
      },
      "source": [
        "Now split with `train_test_split()`.\n",
        "\n",
        "Recommendation: use `stratify=y`"
      ]
    },
    {
      "cell_type": "code",
      "execution_count": 76,
      "metadata": {
        "ExecuteTime": {
          "end_time": "2023-06-19T05:48:56.955301Z",
          "start_time": "2023-06-19T05:48:56.654135Z"
        },
        "id": "DsR8YSEU0aHE",
        "outputId": "89e5272c-d0e3-4cf2-fc94-9a24af620126",
        "colab": {
          "base_uri": "https://localhost:8080/"
        }
      },
      "outputs": [
        {
          "output_type": "stream",
          "name": "stdout",
          "text": [
            "Train matrix:  (19769, 768)\n",
            "Test matrix:   (4943, 768)\n"
          ]
        }
      ],
      "source": [
        "from sklearn.model_selection import train_test_split\n",
        "\n",
        "# define holdout\n",
        "test_size = 0.2\n",
        "\n",
        "if test_size > 0.0:\n",
        "    X_train, X_test, y_train, y_test = train_test_split(X, y,\n",
        "                                                        test_size=test_size,\n",
        "                                                        stratify = y,\n",
        "                                                        random_state=43\n",
        "                                                       )\n",
        "else:\n",
        "    X_train, X_test, y_train, y_test = X, None, y, None\n",
        "\n",
        "\n",
        "print(\"Train matrix: \", X_train.shape)\n",
        "print(\"Test matrix:  \", X_test.shape)"
      ]
    },
    {
      "cell_type": "markdown",
      "metadata": {
        "id": "4D-ydRF-0aHE"
      },
      "source": [
        "Store information about train/test records in data frame."
      ]
    },
    {
      "cell_type": "code",
      "execution_count": 77,
      "metadata": {
        "ExecuteTime": {
          "end_time": "2023-06-19T05:48:59.947577Z",
          "start_time": "2023-06-19T05:48:59.675244Z"
        },
        "id": "CXt6Nmko0aHE"
      },
      "outputs": [],
      "source": [
        "df['train_test'] = pd.Series(df.index.isin(y_test.index)).map(lambda x: 'Test' if x else 'Train')"
      ]
    },
    {
      "cell_type": "code",
      "execution_count": 78,
      "metadata": {
        "ExecuteTime": {
          "end_time": "2023-06-19T05:49:07.853217Z",
          "start_time": "2023-06-19T05:49:07.590074Z"
        },
        "id": "giDDMhL00aHE",
        "outputId": "23be8b81-b63f-4e46-a32c-2eb2f429b921",
        "colab": {
          "base_uri": "https://localhost:8080/",
          "height": 112
        }
      },
      "outputs": [
        {
          "output_type": "execute_result",
          "data": {
            "text/plain": [
              "       train_test\n",
              "Train       19769\n",
              "Test         4943"
            ],
            "text/html": [
              "\n",
              "  <div id=\"df-bcc2397a-2bfe-41fd-81e3-5f3cc3baf782\">\n",
              "    <div class=\"colab-df-container\">\n",
              "      <div>\n",
              "<style scoped>\n",
              "    .dataframe tbody tr th:only-of-type {\n",
              "        vertical-align: middle;\n",
              "    }\n",
              "\n",
              "    .dataframe tbody tr th {\n",
              "        vertical-align: top;\n",
              "    }\n",
              "\n",
              "    .dataframe thead th {\n",
              "        text-align: right;\n",
              "    }\n",
              "</style>\n",
              "<table border=\"1\" class=\"dataframe tex2jax_ignore\">\n",
              "  <thead>\n",
              "    <tr style=\"text-align: right;\">\n",
              "      <th></th>\n",
              "      <th>train_test</th>\n",
              "    </tr>\n",
              "  </thead>\n",
              "  <tbody>\n",
              "    <tr>\n",
              "      <th>Train</th>\n",
              "      <td>19769</td>\n",
              "    </tr>\n",
              "    <tr>\n",
              "      <th>Test</th>\n",
              "      <td>4943</td>\n",
              "    </tr>\n",
              "  </tbody>\n",
              "</table>\n",
              "</div>\n",
              "      <button class=\"colab-df-convert\" onclick=\"convertToInteractive('df-bcc2397a-2bfe-41fd-81e3-5f3cc3baf782')\"\n",
              "              title=\"Convert this dataframe to an interactive table.\"\n",
              "              style=\"display:none;\">\n",
              "        \n",
              "  <svg xmlns=\"http://www.w3.org/2000/svg\" height=\"24px\"viewBox=\"0 0 24 24\"\n",
              "       width=\"24px\">\n",
              "    <path d=\"M0 0h24v24H0V0z\" fill=\"none\"/>\n",
              "    <path d=\"M18.56 5.44l.94 2.06.94-2.06 2.06-.94-2.06-.94-.94-2.06-.94 2.06-2.06.94zm-11 1L8.5 8.5l.94-2.06 2.06-.94-2.06-.94L8.5 2.5l-.94 2.06-2.06.94zm10 10l.94 2.06.94-2.06 2.06-.94-2.06-.94-.94-2.06-.94 2.06-2.06.94z\"/><path d=\"M17.41 7.96l-1.37-1.37c-.4-.4-.92-.59-1.43-.59-.52 0-1.04.2-1.43.59L10.3 9.45l-7.72 7.72c-.78.78-.78 2.05 0 2.83L4 21.41c.39.39.9.59 1.41.59.51 0 1.02-.2 1.41-.59l7.78-7.78 2.81-2.81c.8-.78.8-2.07 0-2.86zM5.41 20L4 18.59l7.72-7.72 1.47 1.35L5.41 20z\"/>\n",
              "  </svg>\n",
              "      </button>\n",
              "      \n",
              "  <style>\n",
              "    .colab-df-container {\n",
              "      display:flex;\n",
              "      flex-wrap:wrap;\n",
              "      gap: 12px;\n",
              "    }\n",
              "\n",
              "    .colab-df-convert {\n",
              "      background-color: #E8F0FE;\n",
              "      border: none;\n",
              "      border-radius: 50%;\n",
              "      cursor: pointer;\n",
              "      display: none;\n",
              "      fill: #1967D2;\n",
              "      height: 32px;\n",
              "      padding: 0 0 0 0;\n",
              "      width: 32px;\n",
              "    }\n",
              "\n",
              "    .colab-df-convert:hover {\n",
              "      background-color: #E2EBFA;\n",
              "      box-shadow: 0px 1px 2px rgba(60, 64, 67, 0.3), 0px 1px 3px 1px rgba(60, 64, 67, 0.15);\n",
              "      fill: #174EA6;\n",
              "    }\n",
              "\n",
              "    [theme=dark] .colab-df-convert {\n",
              "      background-color: #3B4455;\n",
              "      fill: #D2E3FC;\n",
              "    }\n",
              "\n",
              "    [theme=dark] .colab-df-convert:hover {\n",
              "      background-color: #434B5C;\n",
              "      box-shadow: 0px 1px 3px 1px rgba(0, 0, 0, 0.15);\n",
              "      filter: drop-shadow(0px 1px 2px rgba(0, 0, 0, 0.3));\n",
              "      fill: #FFFFFF;\n",
              "    }\n",
              "  </style>\n",
              "\n",
              "      <script>\n",
              "        const buttonEl =\n",
              "          document.querySelector('#df-bcc2397a-2bfe-41fd-81e3-5f3cc3baf782 button.colab-df-convert');\n",
              "        buttonEl.style.display =\n",
              "          google.colab.kernel.accessAllowed ? 'block' : 'none';\n",
              "\n",
              "        async function convertToInteractive(key) {\n",
              "          const element = document.querySelector('#df-bcc2397a-2bfe-41fd-81e3-5f3cc3baf782');\n",
              "          const dataTable =\n",
              "            await google.colab.kernel.invokeFunction('convertToInteractive',\n",
              "                                                     [key], {});\n",
              "          if (!dataTable) return;\n",
              "\n",
              "          const docLinkHtml = 'Like what you see? Visit the ' +\n",
              "            '<a target=\"_blank\" href=https://colab.research.google.com/notebooks/data_table.ipynb>data table notebook</a>'\n",
              "            + ' to learn more about interactive tables.';\n",
              "          element.innerHTML = '';\n",
              "          dataTable['output_type'] = 'display_data';\n",
              "          await google.colab.output.renderOutput(dataTable, element);\n",
              "          const docLink = document.createElement('div');\n",
              "          docLink.innerHTML = docLinkHtml;\n",
              "          element.appendChild(docLink);\n",
              "        }\n",
              "      </script>\n",
              "    </div>\n",
              "  </div>\n",
              "  "
            ]
          },
          "metadata": {},
          "execution_count": 78
        }
      ],
      "source": [
        "df['train_test'].value_counts().to_frame()"
      ]
    },
    {
      "cell_type": "markdown",
      "metadata": {
        "id": "JHCf-RDk0aHF"
      },
      "source": [
        "### Training an SVM on BERT embeddings"
      ]
    },
    {
      "cell_type": "markdown",
      "source": [
        "Training takes about three minutes on Colab."
      ],
      "metadata": {
        "id": "aEj6kWwvBciL"
      }
    },
    {
      "cell_type": "code",
      "execution_count": 79,
      "metadata": {
        "ExecuteTime": {
          "end_time": "2023-06-19T05:49:43.219829Z",
          "start_time": "2023-06-19T05:49:42.114694Z"
        },
        "id": "NjCxlyOq0aHF",
        "outputId": "0777f9b6-0e6a-4197-92ce-ef553784a8ac",
        "colab": {
          "base_uri": "https://localhost:8080/",
          "height": 109
        }
      },
      "outputs": [
        {
          "output_type": "stream",
          "name": "stdout",
          "text": [
            "Training on column subreddit\n"
          ]
        },
        {
          "output_type": "execute_result",
          "data": {
            "text/plain": [
              "LinearSVC()"
            ],
            "text/html": [
              "<style>#sk-container-id-1 {color: black;background-color: white;}#sk-container-id-1 pre{padding: 0;}#sk-container-id-1 div.sk-toggleable {background-color: white;}#sk-container-id-1 label.sk-toggleable__label {cursor: pointer;display: block;width: 100%;margin-bottom: 0;padding: 0.3em;box-sizing: border-box;text-align: center;}#sk-container-id-1 label.sk-toggleable__label-arrow:before {content: \"▸\";float: left;margin-right: 0.25em;color: #696969;}#sk-container-id-1 label.sk-toggleable__label-arrow:hover:before {color: black;}#sk-container-id-1 div.sk-estimator:hover label.sk-toggleable__label-arrow:before {color: black;}#sk-container-id-1 div.sk-toggleable__content {max-height: 0;max-width: 0;overflow: hidden;text-align: left;background-color: #f0f8ff;}#sk-container-id-1 div.sk-toggleable__content pre {margin: 0.2em;color: black;border-radius: 0.25em;background-color: #f0f8ff;}#sk-container-id-1 input.sk-toggleable__control:checked~div.sk-toggleable__content {max-height: 200px;max-width: 100%;overflow: auto;}#sk-container-id-1 input.sk-toggleable__control:checked~label.sk-toggleable__label-arrow:before {content: \"▾\";}#sk-container-id-1 div.sk-estimator input.sk-toggleable__control:checked~label.sk-toggleable__label {background-color: #d4ebff;}#sk-container-id-1 div.sk-label input.sk-toggleable__control:checked~label.sk-toggleable__label {background-color: #d4ebff;}#sk-container-id-1 input.sk-hidden--visually {border: 0;clip: rect(1px 1px 1px 1px);clip: rect(1px, 1px, 1px, 1px);height: 1px;margin: -1px;overflow: hidden;padding: 0;position: absolute;width: 1px;}#sk-container-id-1 div.sk-estimator {font-family: monospace;background-color: #f0f8ff;border: 1px dotted black;border-radius: 0.25em;box-sizing: border-box;margin-bottom: 0.5em;}#sk-container-id-1 div.sk-estimator:hover {background-color: #d4ebff;}#sk-container-id-1 div.sk-parallel-item::after {content: \"\";width: 100%;border-bottom: 1px solid gray;flex-grow: 1;}#sk-container-id-1 div.sk-label:hover label.sk-toggleable__label {background-color: #d4ebff;}#sk-container-id-1 div.sk-serial::before {content: \"\";position: absolute;border-left: 1px solid gray;box-sizing: border-box;top: 0;bottom: 0;left: 50%;z-index: 0;}#sk-container-id-1 div.sk-serial {display: flex;flex-direction: column;align-items: center;background-color: white;padding-right: 0.2em;padding-left: 0.2em;position: relative;}#sk-container-id-1 div.sk-item {position: relative;z-index: 1;}#sk-container-id-1 div.sk-parallel {display: flex;align-items: stretch;justify-content: center;background-color: white;position: relative;}#sk-container-id-1 div.sk-item::before, #sk-container-id-1 div.sk-parallel-item::before {content: \"\";position: absolute;border-left: 1px solid gray;box-sizing: border-box;top: 0;bottom: 0;left: 50%;z-index: -1;}#sk-container-id-1 div.sk-parallel-item {display: flex;flex-direction: column;z-index: 1;position: relative;background-color: white;}#sk-container-id-1 div.sk-parallel-item:first-child::after {align-self: flex-end;width: 50%;}#sk-container-id-1 div.sk-parallel-item:last-child::after {align-self: flex-start;width: 50%;}#sk-container-id-1 div.sk-parallel-item:only-child::after {width: 0;}#sk-container-id-1 div.sk-dashed-wrapped {border: 1px dashed gray;margin: 0 0.4em 0.5em 0.4em;box-sizing: border-box;padding-bottom: 0.4em;background-color: white;}#sk-container-id-1 div.sk-label label {font-family: monospace;font-weight: bold;display: inline-block;line-height: 1.2em;}#sk-container-id-1 div.sk-label-container {text-align: center;}#sk-container-id-1 div.sk-container {/* jupyter's `normalize.less` sets `[hidden] { display: none; }` but bootstrap.min.css set `[hidden] { display: none !important; }` so we also need the `!important` here to be able to override the default hidden behavior on the sphinx rendered scikit-learn.org. See: https://github.com/scikit-learn/scikit-learn/issues/21755 */display: inline-block !important;position: relative;}#sk-container-id-1 div.sk-text-repr-fallback {display: none;}</style><div id=\"sk-container-id-1\" class=\"sk-top-container\"><div class=\"sk-text-repr-fallback\"><pre>LinearSVC()</pre><b>In a Jupyter environment, please rerun this cell to show the HTML representation or trust the notebook. <br />On GitHub, the HTML representation is unable to render, please try loading this page with nbviewer.org.</b></div><div class=\"sk-container\" hidden><div class=\"sk-item\"><div class=\"sk-estimator sk-toggleable\"><input class=\"sk-toggleable__control sk-hidden--visually\" id=\"sk-estimator-id-1\" type=\"checkbox\" checked><label for=\"sk-estimator-id-1\" class=\"sk-toggleable__label sk-toggleable__label-arrow\">LinearSVC</label><div class=\"sk-toggleable__content\"><pre>LinearSVC()</pre></div></div></div></div></div>"
            ]
          },
          "metadata": {},
          "execution_count": 79
        },
        {
          "output_type": "stream",
          "name": "stdout",
          "text": [
            "Done.\n"
          ]
        }
      ],
      "source": [
        "from sklearn.svm import SVC, LinearSVC\n",
        "from sklearn.linear_model import SGDClassifier, LogisticRegression\n",
        "\n",
        "print(f'Training on column {label}')\n",
        "\n",
        "clf = LinearSVC(C=1.0)\n",
        "# clf = SGDClassifier(loss='hinge', max_iter=1000, tol=1e-3, random_state=42)\n",
        "# clf = LogisticRegression(max_iter=3000)\n",
        "\n",
        "clf.fit(X_train, y_train);\n",
        "\n",
        "print(\"Done.\")"
      ]
    },
    {
      "cell_type": "markdown",
      "metadata": {
        "id": "TcrfepYeJFfF"
      },
      "source": [
        "### Evaluation\n",
        "\n",
        "Apply classifier to test data with `predict()`."
      ]
    },
    {
      "cell_type": "code",
      "execution_count": 80,
      "metadata": {
        "ExecuteTime": {
          "end_time": "2023-06-19T05:49:50.814748Z",
          "start_time": "2023-06-19T05:49:50.504205Z"
        },
        "colab": {
          "base_uri": "https://localhost:8080/"
        },
        "outputId": "3050f541-e887-417e-f56e-40415095b7b9",
        "id": "PD11hjFMJFfL"
      },
      "outputs": [
        {
          "output_type": "stream",
          "name": "stdout",
          "text": [
            "Classifier: <class 'sklearn.svm._classes.LinearSVC'>\n",
            "\n",
            "Accuracy Summary\n",
            "================\n",
            "Test:     72.55%\n",
            "Train:    81.44%\n"
          ]
        }
      ],
      "source": [
        "from sklearn.metrics import accuracy_score\n",
        "\n",
        "y_test_pred = clf.predict(X_test)\n",
        "y_train_pred = clf.predict(X_train)\n",
        "\n",
        "print(f\"Classifier: {clf.__class__}\\n\")\n",
        "\n",
        "print('Accuracy Summary')\n",
        "print('================')\n",
        "\n",
        "print(f'Test:    {accuracy_score(y_test, y_test_pred)*100:6.2f}%')\n",
        "print(f'Train:   {accuracy_score(y_train, y_train_pred)*100:6.2f}%')"
      ]
    },
    {
      "cell_type": "markdown",
      "metadata": {
        "id": "Uu8gcVWiJFfM"
      },
      "source": [
        "about 14% worse than TF-IDF!"
      ]
    },
    {
      "cell_type": "markdown",
      "metadata": {
        "ExecuteTime": {
          "end_time": "2020-04-23T19:03:31.981480Z",
          "start_time": "2020-04-23T19:03:31.843477Z"
        },
        "id": "OJqqQzDqJFfM"
      },
      "source": [
        "Looking at the per-class metrics with `classification_report`:"
      ]
    },
    {
      "cell_type": "code",
      "execution_count": 81,
      "metadata": {
        "ExecuteTime": {
          "end_time": "2023-06-19T05:50:02.397306Z",
          "start_time": "2023-06-19T05:50:02.021186Z"
        },
        "colab": {
          "base_uri": "https://localhost:8080/"
        },
        "outputId": "933171a5-fca2-4ee4-8dc3-fe2ec5ac7617",
        "id": "NI-BDdF0JFfM"
      },
      "outputs": [
        {
          "output_type": "stream",
          "name": "stdout",
          "text": [
            "Classification Report\n",
            "=====================\n",
            "               precision    recall  f1-score   support\n",
            "\n",
            " AskMechanics       0.62      0.67      0.65       543\n",
            "         Audi       0.76      0.73      0.75       411\n",
            "          BMW       0.68      0.68      0.68       461\n",
            "       Harley       0.61      0.45      0.52       220\n",
            "        Honda       0.69      0.69      0.69       391\n",
            "      Hyundai       0.71      0.77      0.74       287\n",
            "       Toyota       0.65      0.63      0.64       229\n",
            "   Volkswagen       0.62      0.60      0.61       331\n",
            "        Volvo       0.62      0.57      0.60       207\n",
            "mercedes_benz       0.59      0.45      0.51       229\n",
            "  motorcycles       0.84      0.89      0.87      1131\n",
            "  teslamotors       0.83      0.88      0.85       503\n",
            "\n",
            "     accuracy                           0.73      4943\n",
            "    macro avg       0.69      0.67      0.67      4943\n",
            " weighted avg       0.72      0.73      0.72      4943\n",
            "\n"
          ]
        }
      ],
      "source": [
        "from sklearn.metrics import classification_report\n",
        "\n",
        "print(\"Classification Report\")\n",
        "print(\"=====================\")\n",
        "print(classification_report(y_true=y_test, y_pred=y_test_pred))"
      ]
    },
    {
      "cell_type": "markdown",
      "metadata": {
        "id": "juixdXopJFfN"
      },
      "source": [
        "Let's see if we can do better when we fine-tune the model!"
      ]
    },
    {
      "cell_type": "markdown",
      "source": [
        "### Fine-Tuning the BERT Model"
      ],
      "metadata": {
        "id": "7Z3Rt2EABlGK"
      }
    },
    {
      "cell_type": "code",
      "source": [],
      "metadata": {
        "id": "YeN1ea30KduD"
      },
      "execution_count": 82,
      "outputs": []
    },
    {
      "cell_type": "markdown",
      "source": [
        "### Train-Test Split\n",
        "\n",
        "The dataset function `train_test_split` works similar to the function from Scikit-learn, except that it returns a dictionary of type `DatasetDict` containing the train and the test data set:"
      ],
      "metadata": {
        "id": "yQEN_rjZNuky"
      }
    },
    {
      "cell_type": "code",
      "source": [
        "import datasets\n",
        "# from datasets import Dataset, DatasetDict, ClassLabel\n",
        "\n",
        "ds_tt = ds_encoded.train_test_split(test_size=0.2)\n",
        "ds_tt"
      ],
      "metadata": {
        "id": "nWlEGRVRPMuQ",
        "outputId": "4fd4ccc6-3a89-4e21-b84c-69310819eeb9",
        "colab": {
          "base_uri": "https://localhost:8080/"
        }
      },
      "execution_count": 88,
      "outputs": [
        {
          "output_type": "execute_result",
          "data": {
            "text/plain": [
              "DatasetDict({\n",
              "    train: Dataset({\n",
              "        features: ['text', 'label', 'input_ids', 'attention_mask'],\n",
              "        num_rows: 19769\n",
              "    })\n",
              "    test: Dataset({\n",
              "        features: ['text', 'label', 'input_ids', 'attention_mask'],\n",
              "        num_rows: 4943\n",
              "    })\n",
              "})"
            ]
          },
          "metadata": {},
          "execution_count": 88
        }
      ]
    },
    {
      "cell_type": "markdown",
      "source": [
        "### Load the Base Model\n",
        "\n",
        "Now we have to load the model that we want to fine-tune. We stick with this one:"
      ],
      "metadata": {
        "id": "7GWD2TOzOTBP"
      }
    },
    {
      "cell_type": "code",
      "source": [
        "model_ckpt"
      ],
      "metadata": {
        "id": "yQsd8VJCOe3G"
      },
      "execution_count": null,
      "outputs": []
    },
    {
      "cell_type": "markdown",
      "source": [
        "`AutoModelForSequenceClassification` comes with a classification head which can be trained with the base outputs."
      ],
      "metadata": {
        "id": "f0GvxJ4LJrIk"
      }
    },
    {
      "cell_type": "code",
      "source": [
        "from transformers import AutoModelForSequenceClassification\n",
        "\n",
        "print(f'Loading {model_ckpt} to {device}...\\n')\n",
        "num_labels = len(ds_encoded.features['label'].names)\n",
        "\n",
        "model = AutoModelForSequenceClassification.from_pretrained(model_ckpt, num_labels=num_labels).to(device)\n",
        "model"
      ],
      "metadata": {
        "id": "BbHvv8_EBehn",
        "outputId": "a466f1fd-eb43-48f7-e654-51f80ec8c68d",
        "colab": {
          "base_uri": "https://localhost:8080/"
        }
      },
      "execution_count": 92,
      "outputs": [
        {
          "output_type": "stream",
          "name": "stdout",
          "text": [
            "Loading distilbert-base-uncased to cuda\n"
          ]
        },
        {
          "output_type": "stream",
          "name": "stderr",
          "text": [
            "Some weights of the model checkpoint at distilbert-base-uncased were not used when initializing DistilBertForSequenceClassification: ['vocab_layer_norm.bias', 'vocab_layer_norm.weight', 'vocab_transform.bias', 'vocab_transform.weight', 'vocab_projector.bias']\n",
            "- This IS expected if you are initializing DistilBertForSequenceClassification from the checkpoint of a model trained on another task or with another architecture (e.g. initializing a BertForSequenceClassification model from a BertForPreTraining model).\n",
            "- This IS NOT expected if you are initializing DistilBertForSequenceClassification from the checkpoint of a model that you expect to be exactly identical (initializing a BertForSequenceClassification model from a BertForSequenceClassification model).\n",
            "Some weights of DistilBertForSequenceClassification were not initialized from the model checkpoint at distilbert-base-uncased and are newly initialized: ['classifier.bias', 'pre_classifier.weight', 'pre_classifier.bias', 'classifier.weight']\n",
            "You should probably TRAIN this model on a down-stream task to be able to use it for predictions and inference.\n"
          ]
        },
        {
          "output_type": "execute_result",
          "data": {
            "text/plain": [
              "DistilBertForSequenceClassification(\n",
              "  (distilbert): DistilBertModel(\n",
              "    (embeddings): Embeddings(\n",
              "      (word_embeddings): Embedding(30522, 768, padding_idx=0)\n",
              "      (position_embeddings): Embedding(512, 768)\n",
              "      (LayerNorm): LayerNorm((768,), eps=1e-12, elementwise_affine=True)\n",
              "      (dropout): Dropout(p=0.1, inplace=False)\n",
              "    )\n",
              "    (transformer): Transformer(\n",
              "      (layer): ModuleList(\n",
              "        (0-5): 6 x TransformerBlock(\n",
              "          (attention): MultiHeadSelfAttention(\n",
              "            (dropout): Dropout(p=0.1, inplace=False)\n",
              "            (q_lin): Linear(in_features=768, out_features=768, bias=True)\n",
              "            (k_lin): Linear(in_features=768, out_features=768, bias=True)\n",
              "            (v_lin): Linear(in_features=768, out_features=768, bias=True)\n",
              "            (out_lin): Linear(in_features=768, out_features=768, bias=True)\n",
              "          )\n",
              "          (sa_layer_norm): LayerNorm((768,), eps=1e-12, elementwise_affine=True)\n",
              "          (ffn): FFN(\n",
              "            (dropout): Dropout(p=0.1, inplace=False)\n",
              "            (lin1): Linear(in_features=768, out_features=3072, bias=True)\n",
              "            (lin2): Linear(in_features=3072, out_features=768, bias=True)\n",
              "            (activation): GELUActivation()\n",
              "          )\n",
              "          (output_layer_norm): LayerNorm((768,), eps=1e-12, elementwise_affine=True)\n",
              "        )\n",
              "      )\n",
              "    )\n",
              "  )\n",
              "  (pre_classifier): Linear(in_features=768, out_features=768, bias=True)\n",
              "  (classifier): Linear(in_features=768, out_features=12, bias=True)\n",
              "  (dropout): Dropout(p=0.2, inplace=False)\n",
              ")"
            ]
          },
          "metadata": {},
          "execution_count": 92
        }
      ]
    },
    {
      "cell_type": "code",
      "source": [
        "# define performance metrics\n",
        "from sklearn.metrics import accuracy_score, f1_score\n",
        "\n",
        "def compute_metrics(pred):\n",
        "    labels = pred.label_ids\n",
        "    preds = pred.predictions.argmax(-1)\n",
        "    acc = accuracy_score(labels, preds)\n",
        "    f1 = f1_score(labels, preds, average=\"weighted\")\n",
        "    return { \"accuracy\": acc, \"f1\": f1 }"
      ],
      "metadata": {
        "id": "iO72d4M1Bz2i"
      },
      "execution_count": 93,
      "outputs": []
    },
    {
      "cell_type": "code",
      "source": [
        "import transformers\n",
        "from transformers import Trainer, TrainingArguments\n",
        "\n",
        "transformers.logging.set_verbosity_info() # set log level to INFO\n",
        "\n",
        "batch_size = 32\n",
        "logging_steps = len(ds_tt['train'])//batch_size\n",
        "model_name = f\"{model_ckpt}-finetuned-autos\"\n",
        "model_name"
      ],
      "metadata": {
        "id": "6vUBUnotDWAr",
        "outputId": "4c11c198-9a72-4653-e086-068e14738346",
        "colab": {
          "base_uri": "https://localhost:8080/",
          "height": 35
        }
      },
      "execution_count": 97,
      "outputs": [
        {
          "output_type": "execute_result",
          "data": {
            "text/plain": [
              "'distilbert-base-uncased-finetuned-autos'"
            ],
            "application/vnd.google.colaboratory.intrinsic+json": {
              "type": "string"
            }
          },
          "metadata": {},
          "execution_count": 97
        }
      ]
    },
    {
      "cell_type": "code",
      "source": [
        "training_args = TrainingArguments(output_dir=model_name,\n",
        "                                  num_train_epochs=2,\n",
        "                                  learning_rate=2e-5,\n",
        "                                  per_device_train_batch_size=batch_size,\n",
        "                                  per_device_eval_batch_size=batch_size,\n",
        "                                  weight_decay=0.01,\n",
        "                                  evaluation_strategy=\"epoch\",\n",
        "                                  disable_tqdm=False,\n",
        "                                  logging_steps=logging_steps,\n",
        "                                  push_to_hub=False,\n",
        "                                  log_level=\"error\"\n",
        "                                  )"
      ],
      "metadata": {
        "id": "KLZ5ZNquDxpU",
        "outputId": "77e376fe-76ba-4dcf-9c1c-68652286ed11",
        "colab": {
          "base_uri": "https://localhost:8080/"
        }
      },
      "execution_count": 99,
      "outputs": [
        {
          "output_type": "stream",
          "name": "stderr",
          "text": [
            "Found safetensors installation, but --save_safetensors=False. Safetensors should be a preferred weights saving format due to security and performance reasons. If your model cannot be saved by safetensors please feel free to open an issue at https://github.com/huggingface/safetensors!\n",
            "PyTorch: setting up devices\n",
            "The default value for the training argument `--report_to` will change in v5 (from all installed integrations to none). In v5, you will need to use `--report_to all` to get the same behavior as now. You should start updating your code and make this info disappear :-).\n"
          ]
        }
      ]
    },
    {
      "cell_type": "markdown",
      "source": [
        "Training takes about seven minutes on Colab."
      ],
      "metadata": {
        "id": "cNfU5D6GOz9C"
      }
    },
    {
      "cell_type": "code",
      "source": [
        "trainer = Trainer(model=model, args=training_args,\n",
        "                  compute_metrics=compute_metrics,\n",
        "                  train_dataset=ds_tt['train'],\n",
        "                  eval_dataset=ds_tt['test'])\n",
        "trainer.train()"
      ],
      "metadata": {
        "id": "TxQH6ibIGSbt",
        "outputId": "e374ca15-5844-443b-8480-24457639e034",
        "colab": {
          "base_uri": "https://localhost:8080/",
          "height": 190
        }
      },
      "execution_count": 101,
      "outputs": [
        {
          "output_type": "display_data",
          "data": {
            "text/plain": [
              "<IPython.core.display.HTML object>"
            ],
            "text/html": [
              "\n",
              "    <div>\n",
              "      \n",
              "      <progress value='1236' max='1236' style='width:300px; height:20px; vertical-align: middle;'></progress>\n",
              "      [1236/1236 07:53, Epoch 2/2]\n",
              "    </div>\n",
              "    <table border=\"1\" class=\"dataframe\">\n",
              "  <thead>\n",
              " <tr style=\"text-align: left;\">\n",
              "      <th>Epoch</th>\n",
              "      <th>Training Loss</th>\n",
              "      <th>Validation Loss</th>\n",
              "      <th>Accuracy</th>\n",
              "      <th>F1</th>\n",
              "    </tr>\n",
              "  </thead>\n",
              "  <tbody>\n",
              "    <tr>\n",
              "      <td>1</td>\n",
              "      <td>0.941400</td>\n",
              "      <td>0.444528</td>\n",
              "      <td>0.873154</td>\n",
              "      <td>0.873131</td>\n",
              "    </tr>\n",
              "    <tr>\n",
              "      <td>2</td>\n",
              "      <td>0.385200</td>\n",
              "      <td>0.371451</td>\n",
              "      <td>0.890350</td>\n",
              "      <td>0.889473</td>\n",
              "    </tr>\n",
              "  </tbody>\n",
              "</table><p>"
            ]
          },
          "metadata": {}
        },
        {
          "output_type": "execute_result",
          "data": {
            "text/plain": [
              "TrainOutput(global_step=1236, training_loss=0.6625609420794499, metrics={'train_runtime': 473.4025, 'train_samples_per_second': 83.519, 'train_steps_per_second': 2.611, 'total_flos': 5238430041120768.0, 'train_loss': 0.6625609420794499, 'epoch': 2.0})"
            ]
          },
          "metadata": {},
          "execution_count": 101
        }
      ]
    },
    {
      "cell_type": "markdown",
      "source": [
        "Let's see if we can improve a little further:"
      ],
      "metadata": {
        "id": "6Aa0k30eO4Ji"
      }
    },
    {
      "cell_type": "code",
      "source": [
        "trainer.train(resume_from_checkpoint=True)"
      ],
      "metadata": {
        "id": "ftrCc3cojq9i",
        "outputId": "dd7456d5-9153-4dbf-eade-2bae42bdfb4f",
        "colab": {
          "base_uri": "https://localhost:8080/",
          "height": 158
        }
      },
      "execution_count": 102,
      "outputs": [
        {
          "output_type": "display_data",
          "data": {
            "text/plain": [
              "<IPython.core.display.HTML object>"
            ],
            "text/html": [
              "\n",
              "    <div>\n",
              "      \n",
              "      <progress value='1236' max='1236' style='width:300px; height:20px; vertical-align: middle;'></progress>\n",
              "      [1236/1236 01:40, Epoch 2/2]\n",
              "    </div>\n",
              "    <table border=\"1\" class=\"dataframe\">\n",
              "  <thead>\n",
              " <tr style=\"text-align: left;\">\n",
              "      <th>Epoch</th>\n",
              "      <th>Training Loss</th>\n",
              "      <th>Validation Loss</th>\n",
              "      <th>Accuracy</th>\n",
              "      <th>F1</th>\n",
              "    </tr>\n",
              "  </thead>\n",
              "  <tbody>\n",
              "    <tr>\n",
              "      <td>2</td>\n",
              "      <td>0.323700</td>\n",
              "      <td>0.373980</td>\n",
              "      <td>0.889743</td>\n",
              "      <td>0.889248</td>\n",
              "    </tr>\n",
              "  </tbody>\n",
              "</table><p>"
            ]
          },
          "metadata": {}
        },
        {
          "output_type": "execute_result",
          "data": {
            "text/plain": [
              "TrainOutput(global_step=1236, training_loss=0.06174726123562908, metrics={'train_runtime': 100.5402, 'train_samples_per_second': 393.256, 'train_steps_per_second': 12.294, 'total_flos': 5238430041120768.0, 'train_loss': 0.06174726123562908, 'epoch': 2.0})"
            ]
          },
          "metadata": {},
          "execution_count": 102
        }
      ]
    },
    {
      "cell_type": "code",
      "source": [],
      "metadata": {
        "id": "FANM5bLPPCJW"
      },
      "execution_count": 102,
      "outputs": []
    },
    {
      "cell_type": "markdown",
      "metadata": {
        "id": "O_SLEc-r0aHG"
      },
      "source": [
        "### Evaluation\n",
        "\n",
        "For the evaluation we can apply the classifier with `predict()`."
      ]
    },
    {
      "cell_type": "code",
      "source": [
        "pred_test = trainer.predict(ds_tt['test'])\n",
        "pred_train = trainer.predict(ds_tt['train'])"
      ],
      "metadata": {
        "id": "6ymI75XXhbWd",
        "outputId": "e3cecf35-2a5d-4d57-f66f-cff855d59966",
        "colab": {
          "base_uri": "https://localhost:8080/",
          "height": 17
        }
      },
      "execution_count": 104,
      "outputs": [
        {
          "output_type": "display_data",
          "data": {
            "text/plain": [
              "<IPython.core.display.HTML object>"
            ],
            "text/html": []
          },
          "metadata": {}
        },
        {
          "output_type": "display_data",
          "data": {
            "text/plain": [
              "<IPython.core.display.HTML object>"
            ],
            "text/html": []
          },
          "metadata": {}
        }
      ]
    },
    {
      "cell_type": "markdown",
      "source": [
        "Prediction outputs contains model output, label_ids and metrics:"
      ],
      "metadata": {
        "id": "WPeWA90Uh8C5"
      }
    },
    {
      "cell_type": "code",
      "source": [
        "pred_test"
      ],
      "metadata": {
        "id": "c-QLsX7ehm9U",
        "outputId": "d2f01e5f-c705-4107-8359-6b3e9d36b031",
        "colab": {
          "base_uri": "https://localhost:8080/"
        }
      },
      "execution_count": 105,
      "outputs": [
        {
          "output_type": "execute_result",
          "data": {
            "text/plain": [
              "PredictionOutput(predictions=array([[ 1.9173275 , -0.6217162 , -0.6621114 , ..., -1.219221  ,\n",
              "        -0.9976016 , -1.3156343 ],\n",
              "       [ 1.4006816 , -1.1335255 , -1.2322953 , ..., -1.4809031 ,\n",
              "         5.506841  , -1.214903  ],\n",
              "       [-0.1283087 , -0.18857981,  5.4094405 , ..., -0.2867245 ,\n",
              "        -0.52689   , -0.7997853 ],\n",
              "       ...,\n",
              "       [ 1.2395147 , -1.759818  , -1.1988113 , ..., -0.7093214 ,\n",
              "        -1.266651  , -0.39687565],\n",
              "       [ 0.83117265, -1.1853819 , -0.92243046, ..., -0.3632293 ,\n",
              "        -1.6541276 , -0.18634613],\n",
              "       [ 0.58079815,  3.1039546 , -0.29884154, ..., -1.3511018 ,\n",
              "         2.0078967 , -1.344508  ]], dtype=float32), label_ids=array([ 4, 10,  2, ...,  6,  5, 10]), metrics={'test_loss': 0.37397998571395874, 'test_accuracy': 0.8897430710095084, 'test_f1': 0.8892475455588565, 'test_runtime': 17.5566, 'test_samples_per_second': 281.547, 'test_steps_per_second': 8.829})"
            ]
          },
          "metadata": {},
          "execution_count": 105
        }
      ]
    },
    {
      "cell_type": "code",
      "source": [
        "pred_test.metrics"
      ],
      "metadata": {
        "id": "j5Z6JLYFhzNH",
        "outputId": "da723627-e704-469b-a364-862150eae496",
        "colab": {
          "base_uri": "https://localhost:8080/"
        }
      },
      "execution_count": 107,
      "outputs": [
        {
          "output_type": "execute_result",
          "data": {
            "text/plain": [
              "{'test_loss': 0.37397998571395874,\n",
              " 'test_accuracy': 0.8897430710095084,\n",
              " 'test_f1': 0.8892475455588565,\n",
              " 'test_runtime': 17.5566,\n",
              " 'test_samples_per_second': 281.547,\n",
              " 'test_steps_per_second': 8.829}"
            ]
          },
          "metadata": {},
          "execution_count": 107
        }
      ]
    },
    {
      "cell_type": "markdown",
      "source": [
        "We can get the actual predictions for each sample with `argmax`:"
      ],
      "metadata": {
        "id": "ezdvEixwQY5V"
      }
    },
    {
      "cell_type": "code",
      "source": [
        "y_test_pred = pred_test.predictions.argmax(-1)\n",
        "y_train_pred = pred_train.predictions.argmax(-1)"
      ],
      "metadata": {
        "id": "6nwv7xQuiEXy"
      },
      "execution_count": 113,
      "outputs": []
    },
    {
      "cell_type": "markdown",
      "source": [
        "Let's retrieve the label-ids"
      ],
      "metadata": {
        "id": "9iKfuq-GRJbK"
      }
    },
    {
      "cell_type": "code",
      "source": [
        "y_test = pred_test.label_ids\n",
        "y_train = pred_train.label_ids"
      ],
      "metadata": {
        "id": "Kbao-__IRBQe"
      },
      "execution_count": 115,
      "outputs": []
    },
    {
      "cell_type": "markdown",
      "source": [
        "With the help of the `ClassLabel` object we convert the ids back to string labels:"
      ],
      "metadata": {
        "id": "KhQxQERRRg1m"
      }
    },
    {
      "cell_type": "code",
      "source": [
        "cl = ds.features['label']\n",
        "\n",
        "for i in range(len(cl.names)):\n",
        "    print(f\"{i:2} --> {cl.int2str(i)}\")"
      ],
      "metadata": {
        "id": "CgxsFb2YRWpD",
        "outputId": "55d915ee-cd8e-4dd9-f821-d746502f4ddf",
        "colab": {
          "base_uri": "https://localhost:8080/"
        }
      },
      "execution_count": 119,
      "outputs": [
        {
          "output_type": "stream",
          "name": "stdout",
          "text": [
            " 0 --> AskMechanics\n",
            " 1 --> Audi\n",
            " 2 --> BMW\n",
            " 3 --> Harley\n",
            " 4 --> Honda\n",
            " 5 --> Hyundai\n",
            " 6 --> Toyota\n",
            " 7 --> Volkswagen\n",
            " 8 --> Volvo\n",
            " 9 --> mercedes_benz\n",
            "10 --> motorcycles\n",
            "11 --> teslamotors\n"
          ]
        }
      ]
    },
    {
      "cell_type": "code",
      "source": [
        "y_test = pd.Series(y_test).map(cl.int2str)\n",
        "y_test_pred = pd.Series(y_test_pred).map(cl.int2str)\n",
        "\n",
        "y_train = pd.Series(y_train).map(cl.int2str)\n",
        "y_train_pred = pd.Series(y_train_pred).map(cl.int2str)"
      ],
      "metadata": {
        "id": "O-05g01ERSbO"
      },
      "execution_count": 120,
      "outputs": []
    },
    {
      "cell_type": "code",
      "execution_count": 122,
      "metadata": {
        "ExecuteTime": {
          "end_time": "2023-06-19T05:49:50.814748Z",
          "start_time": "2023-06-19T05:49:50.504205Z"
        },
        "colab": {
          "base_uri": "https://localhost:8080/"
        },
        "id": "F8qSdMyu0aHG",
        "outputId": "a3e60113-4bd0-4363-be66-7cadddac78d9"
      },
      "outputs": [
        {
          "output_type": "stream",
          "name": "stdout",
          "text": [
            "Accuracy Summary\n",
            "================\n",
            "Test:     88.97%\n",
            "Train:    91.95%\n"
          ]
        }
      ],
      "source": [
        "from sklearn.metrics import accuracy_score\n",
        "\n",
        "print('Accuracy Summary')\n",
        "print('================')\n",
        "\n",
        "print(f'Test:    {accuracy_score(y_test, y_test_pred)*100:6.2f}%')\n",
        "print(f'Train:   {accuracy_score(y_train, y_train_pred)*100:6.2f}%')"
      ]
    },
    {
      "cell_type": "markdown",
      "metadata": {
        "id": "9Fv30f0o0aHG"
      },
      "source": [
        "Much better, over 16% increase and slightly beating TF-IDF/SVM!"
      ]
    },
    {
      "cell_type": "markdown",
      "metadata": {
        "ExecuteTime": {
          "end_time": "2020-04-23T19:03:31.981480Z",
          "start_time": "2020-04-23T19:03:31.843477Z"
        },
        "id": "r6DmWz_R0aHH"
      },
      "source": [
        "Looking at the per-class metrics with `classification_report`:"
      ]
    },
    {
      "cell_type": "code",
      "execution_count": 123,
      "metadata": {
        "ExecuteTime": {
          "end_time": "2023-06-19T05:50:02.397306Z",
          "start_time": "2023-06-19T05:50:02.021186Z"
        },
        "colab": {
          "base_uri": "https://localhost:8080/"
        },
        "id": "i7xwEE680aHH",
        "outputId": "15b2bc61-d97d-4330-ac10-3ab71c9ca41e"
      },
      "outputs": [
        {
          "output_type": "stream",
          "name": "stdout",
          "text": [
            "Classification Report\n",
            "=====================\n",
            "               precision    recall  f1-score   support\n",
            "\n",
            " AskMechanics       0.77      0.76      0.77       531\n",
            "         Audi       0.95      0.94      0.94       420\n",
            "          BMW       0.96      0.91      0.94       468\n",
            "       Harley       0.77      0.69      0.73       232\n",
            "        Honda       0.89      0.87      0.88       406\n",
            "      Hyundai       0.91      0.91      0.91       257\n",
            "       Toyota       0.85      0.83      0.84       226\n",
            "   Volkswagen       0.86      0.90      0.88       337\n",
            "        Volvo       0.94      0.94      0.94       202\n",
            "mercedes_benz       0.88      0.91      0.89       256\n",
            "  motorcycles       0.91      0.93      0.92      1110\n",
            "  teslamotors       0.92      0.96      0.94       498\n",
            "\n",
            "     accuracy                           0.89      4943\n",
            "    macro avg       0.89      0.88      0.88      4943\n",
            " weighted avg       0.89      0.89      0.89      4943\n",
            "\n"
          ]
        }
      ],
      "source": [
        "from sklearn.metrics import classification_report\n",
        "\n",
        "print(\"Classification Report\")\n",
        "print(\"=====================\")\n",
        "print(classification_report(y_true=y_test, y_pred=y_test_pred))"
      ]
    },
    {
      "cell_type": "markdown",
      "metadata": {
        "id": "SZAAdMQL0aHH"
      },
      "source": [
        "### Confusion Matrix"
      ]
    },
    {
      "cell_type": "code",
      "source": [
        "cl.names"
      ],
      "metadata": {
        "id": "196vDqysTFz6",
        "outputId": "5c869f2b-c6b1-4677-a104-c67b9435ce36",
        "colab": {
          "base_uri": "https://localhost:8080/"
        }
      },
      "execution_count": 125,
      "outputs": [
        {
          "output_type": "execute_result",
          "data": {
            "text/plain": [
              "['AskMechanics',\n",
              " 'Audi',\n",
              " 'BMW',\n",
              " 'Harley',\n",
              " 'Honda',\n",
              " 'Hyundai',\n",
              " 'Toyota',\n",
              " 'Volkswagen',\n",
              " 'Volvo',\n",
              " 'mercedes_benz',\n",
              " 'motorcycles',\n",
              " 'teslamotors']"
            ]
          },
          "metadata": {},
          "execution_count": 125
        }
      ]
    },
    {
      "cell_type": "code",
      "execution_count": 126,
      "metadata": {
        "ExecuteTime": {
          "end_time": "2023-06-19T05:58:46.372049Z",
          "start_time": "2023-06-19T05:58:45.652869Z"
        },
        "colab": {
          "base_uri": "https://localhost:8080/",
          "height": 684
        },
        "id": "qhu2QAEY0aHI",
        "outputId": "50e2eb9f-8e50-444e-cc94-2457b8f1e8ec"
      },
      "outputs": [
        {
          "output_type": "display_data",
          "data": {
            "text/plain": [
              "<Figure size 600x600 with 1 Axes>"
            ],
            "image/png": "[encoded data removed]"
          },
          "metadata": {}
        }
      ],
      "source": [
        "from sklearn.metrics import confusion_matrix, ConfusionMatrixDisplay\n",
        "\n",
        "def plot_confusion_matrix(y_true, y_preds, labels):\n",
        "    cm = confusion_matrix(y_true, y_preds, normalize=None) # or None\n",
        "    fig, ax = plt.subplots(figsize=(6, 6))\n",
        "\n",
        "    disp = ConfusionMatrixDisplay(confusion_matrix=cm, display_labels=labels)\n",
        "    disp.plot(cmap=\"Blues\", values_format=\".0f\", ax=ax, colorbar=False, xticks_rotation='vertical')\n",
        "    plt.title(\"Confusion Matrix\")\n",
        "    plt.grid(False)\n",
        "    plt.show()\n",
        "\n",
        "\n",
        "# label names - specifies order in confusion matrix\n",
        "label_names = cl.names\n",
        "\n",
        "plot_confusion_matrix(y_test, y_test_pred, label_names)"
      ]
    },
    {
      "cell_type": "markdown",
      "source": [
        "This was the TF-IDF confusion matrix:\n",
        "![image.png](data:image/png;base64,iVBORw0KGgoAAAANSUhEUgAAAnYAAAKLCAIAAAD0OlJpAAAgAElEQVR4nOzdd1gTWdcA8Bt671WpUiIgHUFAEQERQV1QwYoFXQQ7YgG7uChSLICKUhQVpauoiNgBFQRs6KLSpfcmJQkk3x/jxrxYdtVM2I89vycPT+Zm5p6Zy2RO7p3JhECj0RAAAAAAmI1tuFcAAAAAGJkgxQIAAAC4gBQLAAAA4AJSLAAAAIALSLEAAAAALiDFAgAAALiAFAsAAADgAlIsAAAAgAtIsQAA8AncigcwF6RYAEasoqKiLVu2WFpa6ujo2NjY7Nq1q7q6+terPXv2rLm5uY6OzokTJ35i8by8PCKRmJeX9+trwlghkUjMyckZ8lJZWRn2Uk1NzfcrIZPJBw4cuHbt2rdmIBKJYWFhTFhd8F8CKRaAkSkuLm7+/Pmtra3e3t6RkZHu7u5Pnz6dO3fu27dvf6Xajx8/Hjp0SEdHJzo62snJ6Sdq0NLSSkhI0NLS+pXV+BIbG1tGRsaQwvT09H+4eFNTU2xs7MDAwLdmSEhIcHZ2/vn1A/9JkGIBGIEKCwv9/f0XLlwYExMzc+ZMExMTFxeXS5cucXNzb9++/Vdq7uzspFKpNjY248ePl5WV/YkaBAQE9PT0BAQEfmU1vmRgYHD79u0hOTI9PV1DQ4Mp9evp6cnIyDClKvDfASkWgBEoOjpaUFBw06ZNjIViYmI+Pj7W1ta9vb0IocHBwbi4uJkzZ+ro6FhaWgYHB5NIJGxOHx+fZcuWpaSkTJs2bdy4cb/99ltWVhZCKDU11crKCiG0fft2IpGIELKysvLx8aGHSE1NpY/K9vf3792718LCYty4cXZ2dtHR0dg8QwaKi4qKVqxYYWJiYmBg4OHhUVJSwjjbkydP3NzcdHV1zc3Ng4KCBgcHv7XJ9vb2HR0dubm59JK3b99WVlZOnz6dcbY7d+4sXLhQX18fW6u4uDiEUE1NjbW1NULI19cX20AfH5+lS5fu2bPHwMDA3t5+cHCQPlC8du1abW3t8vJyrMKwsDANDY2nT5/+0D8I/EdAigVgpKHRaDk5Oaampry8vENesre3X7NmDR8fH0Jo9+7dBw8etLGxOXny5KJFiy5cuLB69Wr69T6vX7+Ojo5ev3798ePH2dnZ161b19nZaWlpGR4ejhDy9PRMSEj4/mocOHAgKytr27Zt0dHR1tbWgYGBKSkpQ+bJzc1dsGABNvMff/xRX18/f/78srIy+gybN282NDSMiIiYMWNGVFRUUlLSt8KpqqqqqakxjhXfuHHD2NhYUlKSXvLgwYM1a9ZoaWmdOHEiLCxMXl7ez8/v5cuXUlJS9O3CniCECgoK6uvrjx8/7u3tzc7OTq9k7969fHx8e/bswVopIiLCzc3N2Nj4+60B/ps4hnsFAABM1t7eTiKR5OTkvjNPaWlpcnKyt7e3u7s7Qsjc3FxKSmrr1q1ZWVmTJ09GCHV3d6empiooKCCE+Pj4Fi9enJubO23aNGzcVUFBQU9P7/ur8fTpU3NzcwcHB4SQiYkJHx+fuLj4kHlCQkIUFRVPnz6N5bCJEydOnTo1NDT02LFj2AzOzs5r1qxBCJmamt65c+fBgwfz58//VsTp06efO3du7969HBwcCKH09HQPD48hW+3k5LRjxw5sUl9f38TEJC8vT1dXl75dmpqa2KsDAwN+fn5fDg5LSEjs2bPHy8srKSkpNjZWXV19w4YN328K8J8FvVgARhosXX1nTBUhhA1sYvkP4+DgwM7OTh+/FRMTw/IrQghLM319fT+0GiYmJomJib///vuFCxeqq6vXrFljaWnJOENvb29RUdH06dPpfUQhIaEpU6YwDrrq6+vTn8vIyGBD3N/COFb88uXLxsZGW1tbxhlWrlwZEBDQ09Pz+vXr9PT0U6dOIYTIZPJXaxMREfnWyVd7e/tp06bt3r27uro6ODiYi4vrO2sF/ssgxQIw0ggLC/Pz89fV1X35Um9vb2dnJ0II+8s4iMrBwSEqKtrd3Y1NMg4yEwgEhBCVSv2h1dixY8fGjRtramr2799vY2Mzf/78IRczd3d302g0CQkJxkIJCQn6OiCEeHh46M/Z2Ni+/71VZWVlDQ0NbKw4PT194sSJwsLCjDO0tbWtW7fOyMjIxcUlLCzs48eP6NvfheXn5/9OLCcnJyqVqqSkpKys/J3ZwH8cpFgARqCJEyfm5eXRL1+iS0xMnDBhwps3b7Dc09zcTH+JQqG0t7eLior+aCzG7jJjL5OLi8vT0/PmzZv379/HOnze3t6MCwoKChIIhJaWFsbC5uZmERGRH10HOnt7+9u3b1MolIyMDMY+Ombz5s1FRUVnz5598eLFzZs3f/ri6r6+voMHD6qrq79//z4mJuan1xaMeJBiARiB3NzcOjo6jh49yljY3NwcExOjqqqqpaWFXZ5z48YN+qs3btwYHBw0NDT8oUACAgINDQ30ycLCQuxJf3//tGnTsPQzatSoRYsWOTg4DOlY8/HxjRs37ubNm/Qk3d3d/eDBgx9dB0bTp0/v6OiIiIjo7OzELhJmVFhYaGtra2Jigg3tYpdJY71zxgua/lZISEhDQ0NYWNjixYtDQ0MZr88CgBFc7gTACKSnp7dhw4ajR4+WlZU5OjqKioqWlJRER0eTSCQs76qqqjo5OYWGhvb19Y0fP764uDg8PNzExGTSpEk/FGjKlCmnTp06deqUrq7uvXv36N+Z4eHh0dLSCg8P5+TkJBKJFRUVly9fnjZt2pDFvb29V6xY4e7uvnDhQgqFcvr0aTKZjF3f9HPk5eW1tbVPnTo1depU7MJpRjo6OteuXdPS0pKRkXn27Nnp06cJBAJ2jllQUBAh9OTJExUVFV1d3e+EePr06YULF7y8vJSUlDZu3Hj79m0fH5/4+PgfStLgPwJSLAAjk6enp6amZlxc3IEDBzo7O2VlZS0tLT08POj3i/D391dUVExJSYmMjJSSklqyZMnq1avZ2H5sZGvVqlVtbW3R0dEUCsXS0tLf39/T0xN7yc/P7+jRozExMc3NzeLi4nPnzv3yyltTU9MzZ86EhoZu2rSJi4vLyMjo0KFDampqv7Lh9vb2RUVFX44SI4QCAgL279+/f/9+hJCSktK+ffvS0tIKCgoQQgICAsuXL09ISHj48OGjR4++VXlvb6+vr6+6uvqKFSsQQvz8/Lt37/b09IyKilq1atWvrDYYkQhw22sAAAAAD3AuFgAAAMAFpFgAAAAAF5BiAQAAAFxAigUAAABwASkWAAAAwAWkWAAAAAAXkGIBAAAAXECKBQAAAHABd3ca4VJe1g1QWXp3kZlao1gZDiE0LDdPYWcjsDgieeDHfuiGKVi/mYOs3V0xLN9KhIajbbFfTGIxCsv3W04OVncdeb6dSCHFjnADVBplOI5ZAAAAYKAYAAAAwAWkWAAAAAAXkGIBAAAAXECKBQAAAHABKRYAAADABaRYAAAAABeQYgEAAABcQIoFAAAAcAEpFgAAAMAFpFgAAAAAF3ADxf+opsb2uIuZZaU1/Py8VlaG0+xMEELv31cnxN9paGiTkhZ1drbS1FRCCNFotIyMvIcPn/d87FNSkl2wcOqoURJMXJPmtu4tgYkP89+Ji/BvWj5t4YwJTKz8SyQyxXppUMBm54mGagihe7nF+8KulFU3q8hL7lozy8ZMC6e4dU0dviHJWQXvebk5naYa7Fo9i4ebE49AFdXNPiFJT1+Viwrxr5hrsWaxNULofm6x3/Gr5R+axyhI7lw9y9pUE4/QQ9oW0/Wxz2y+/w6PGQuY+p/96mZW1bV6H7xU8LpSXkZ0/8bZliYaTIxY39Sx/UhKTmEJDzeno7X+Ds+ZPNyc93KL/cKvYvvPztWzbMxwaVjM9fsvl2yLok/OtNKLDViBXzhGLhtPSogInNjrilP99U0dO46m5BSU8HBz/majv8NjJg83Z01D25bAxMfPSqQlhHd4zPjNxgCn6Li+N/9dvVhvb28ikRgTE/NPZg4LCyMSiV99iUgkEonEw4cPDymnUqmTJk0iEompqak/vZKurq6urkze1YhEYlhYGHPr/A4qlRYamiQowLdr9/LFi6fduPE4L+9NV1dPeFiysbHm3n0rjIzGHg9PaWvrQgg9fPgi81beggVTd+xcJiEhfOxoIolEYdaa0Gi0Jdsi65o6rp5Y5+81Z9exy9fuv2BW5V/qJ1Hcd519W16PTZZXNy/dGjl/hknOpe3zHEyWbI36UNeKR1wajbbMJ6q3n5x+2ivKf3lG9mv/iOt4BKJSqYs2nxIXEbgbuzVwq8uRs7dSbhVUVDcv94maZ2/y8KLvPHvjZdsiP9QzfzOHtC3dvvCrDc2dzI311c2k0WjLtkVKiQtlntk81278Mp/omoY2ZkWk0Whu22P6+inXIjac3r/sVs6bgNM3yqubl22Lmu9gkn3Rd5698dJtkTjtP5h3FQ12k8YVp/tjj9AdC/CLxSgls+D2ozf41U+j0dx2xPT1U9IiNpzevywz503A6RsDA4OLvE9xcrDdjd26ZpH16n3ni8vqcIqO63vzX5Riu7u779y5o66unpCQQKP96p3r2djYMjIyhhTm5+c3NTX9Ys14SEhIcHZ2Zlm4rq4eeXmpxa620tJi2joqY8cqlpbUlJbWsLOzTbMzkZQUcXAw4+RkryivQwg9flxkO81EV1dVRkZs0eJpPT19ZaU1zFqTF2+rn76qOL1/qQ5RftrEcetdbcIv3GVW5UO8K6+3WxFSWdNCL6lr6ljiaO65wEpptMTqhVZ8vFzP/qzCI3RJVWN+UeXx3Ys1VGTN9FV9Vzmk3CrAI1BzW7eW2ujALS5j5KVszLQmGak/fVVe19yx+DczjwVTlEZLeCyw4uPhfv6GyZv5Zdticl+UZeW/lxIXYm64r25mTmFJZW1L0LZ56koyG5baGo1TunQ9l1kRS6uaCl5Xhu5cOHaMrKmeio+7fUpmYX1Th6vjp4b1XGjFx8uN0/6DeV/ZoKEiKy0hhD2EBfnwi0XX3tmz+9gVA01F/EKUVjUVvq48tnPh2DGyE/RUtv1un5pZeOfJn7VNHcf3uKoqSi91Mrc208wvqsAjOt7vzX9Rir1+/TpCaMeOHZWVlbm5v/reMDAwqKqq+vPPPxkLb9y4oaHBzLEjZtHT05ORkWFZOBERgVUejjw83DQarbSkpqSkWp2oICDA+/Fj37PCdzQa7fnz9/395NFykgghZ+cpJiafhr8IBAKNhvr6SMxak6raFglRAaXRn0aetVRHvSj+QBkYZFb9jB49LzU3VLsZ7U0vmWio5r9pDkKIMjB4Ie0JmTyA06FEWlwoOXQ1Y6bp+tiHSyAJ4cg/lgvw89BotKcvy3NflJnpq5obqP3h9Wkz49KekCgD+lpM3swv2xYhRCJTvA5eCtzizM3F5BNSX93MwteVOkR5fl5ubB4T3TEFryuZFVFKXDDhqOeQ/6C5oZq/Fyv2H8y7igYVBSn86v+qXccuz7M3JirjeHSSEheMP+IpJcbQtj19j56VTDJSF+TnxUrOHfp9iaM5HtHxfm/+i1JsSkqKqanphAkTFBUV4+Pj6eUfPnzw8PAwMTHR1dWdN2/ew4cPv1y2rq7O0tJy9uzZXV1dWMn48eMlJCQYO7IDAwOZmZkODg6MC3Z0dOzevdvMzExbW9vFxeXJkyf0l8hk8tGjR62trXV0dGbMmHH58mX6SzQaLTIy0tLSUkdHZ968ea9evaK/dOfOnYULF+rr648bN87Ozi4uLg4rz8vLIxKJT548cXNz09XVNTc3DwoKGhz8lEsYB4qbmpq2bdtmamqqr6+/ePHi58+fY+WPHj1ycXHR19cfP368p6dnWVnZDzfxF3y2nTx06MKYMaMMDYlqavJTphhERFz2WBV44niq6xI7GRlxhJCamrzYX3t/dvZLKpWqqib366ExkmKCnd19vf1kbLK2sWNgkIpT+nGbM8nfaw4fD9eQ8vLqZjmLTRv9L25eYacwShyP0MKCfPTTn1QqNTIxy2L8189xMIvR7L0zPY4ajlOaMUUPK6mobla09N508JK32zQFWSZv5lfb9sjZTG11uSkTcPxQy7iZja1d0hLC9JckxQTrmzqYFUhYkM/qrw2hUqlRSVkWRurYZHl1s/xkb68Dl7zdpuG0/yCEaDRaaVXTvdzi8XP8DJz27Qu/SqYM4BSLLiv/3ePnpVtW2OEaZUjbRidnWRipV9W1jpYS2X8iTWfmLkvXgPSHr75fya9Ex/W9+W9JsSUlJUVFRY6OjgghR0fHu3fvtrS0IISoVOqqVav6+voCAwNPnDghIiLi6elZVfU/ozHNzc3Lli0TERE5c+aMkNCnZMDOzj5t2jTGFPvkyRMSiWRlZUUvIZFIS5cuvXv3rpeXV3h4uIyMzMqVK+lZdvPmzWfOnHF2dj516tTEiRN9fHywfjZCqLCw8Pbt27t27QoKCmpqavL09BwYGEAIPXjwYM2aNVpaWidOnAgLC5OXl/fz83v58iU94ubNmw0NDSMiImbMmBEVFZWUlDSkHXp6ehYsWJCXl7dly5bw8HBubm43N7fKysrq6urVq1ePGzfu5MmT/v7+FRUV7u7uVOqv/tax52qntevmVlc3JcTfJZHIzc0dM2dN3L5jqb2DWfylO/X/e8auvLwuKfGe7TQTYWGBX4xLZ6ilJCMp7BOc1NNHKq9uPnHpHkKITMGlF/stEqICt89sDtzifCgy/do9HM8EY/aEXnn1rnqn50xco0QfWHE+yP1NSe2uY58uOxAXFbgV7R2w2Tko6uZ1PE94Y96V18emPvpj42xcozBuZl8/mZvzc3eZi5ODRMYlCe0LTyt6X7PdYwY2KSEqkBnjfWizc2DUTfz2n5qG9t5+MjcnR8xBN7/1jkkZBbtDr+AUC9NPongdjA/a6sL7xadS/OwLTyt6V+O7akZPLyk+/WlHV++FYHeX6cYrdsS8KP6Ad3Q83pv/liuKU1JSREREsPzn5OQUFhaWnJzs4eHR2tpaXl6+evXqyZMnI4R0dHTCw8PJZDJ9wfb29uXLl/Pw8Jw5c0ZYWJixTnt7+7i4uD///FNTUxMhlJ6ebm1tzc3NTZ/h6tWrb9++TUxM1NXVRQhZWFi4uroGBwenpKS8f//+1q1b27dvX7p0KULI1NS0trY2Ly9vxowZCCEuLq7Tp0+LiIgghLq6unbu3FlaWjp27NjS0lInJ6cdO3Zg9evr65uYmOTl5WH1I4ScnZ3XrFmDVXjnzp0HDx7Mnz+fcZ0vX75cW1t7+fJlbEDbwMDA0dExPz+fj4+vv79/1apV0tLSCCEZGZm7d+/29vYKCPxStlNSkkUIDVAGoqKucXNzIoRmzpyIEFJUlKkor7t7p2Cx6zRszrKy2mNHE8dpj/ntt0m/EnEIHm7OmANuK7bHKFltkRQVXOdqvfPoZUF+HiaG+FtCArw6RHkdovy7iobIpIczrfTwi7Un7MrJ+AcxB5Zrqo7CLwpCSE9DASFEIlNW7z23d50jFyeHkACvNlFemyj/vqIhOimL3rvFA41G8zp4aZu7PdPPwg7BuJkLZkzo6P98ZCBTBvDIDX7hV08lPIjcv0xD5dN/8PP+U9kQlZSF0/4jLytWdjtARIiPQCBoq8tRaTSPPef8N85mZ8erm3QoMl1PQwGni8+/yu/41dOJD07vX6ahMoqDnU1UmC9oqwsbG5sOUT73Zdn5q4+xfzdOcHpv/itSLIVCSUtLs7Gx6e/v7+/v5+fnNzQ0TExMdHd3l5CQUFVV3bVrV05OzsSJEy0sLHx9fRmXXblyZUlJSWxsrKio6JBqDQ0NpaWlMzIyNDU1yWTynTt3goKCGGd48uSJpKSklpYW1gdFCE2ZMiUwMLCzs7OwsBAhZGtrS5+Z8YpfVVVVLL8ihOTk5BBC3d3d2MoghHp6eioqKj58+FBUVIQQYvxAoK+vT38uIyPT29s7ZJ0LCwvl5OToJ4x5eXlv3bqFEKqpqeHm5p47d66dnZ2FhYWJiYmOjs4/a92v6OrsKSuv1df/NNIlO0piYGCwurpJTu7zmR4FBena2mbs+bu3VWFhyZqayr//PouNjfDTcb/KQFPx+ZV9ja1d4sL89/PeiosICPBx//1izPC2vL69s8dUXxWbJCrLPHpWil+4rUGJMSk5p/yWzLLS//u5f0pTW1dBUaX95E/7hrqyDJkyWFBUwcbGNkFPhV746DmOm4kQqmlof/qq4k1J7Z7Qywih3n7K5kMJV+48Szi6min1f3UzpcWFSiobP8/T2i0tweQE7xOcfPZyzsm9rlgefVte397Va/pXwxKVZB7juf+ICvPTn6srSfeTKO1dPRKigjiFS739rKm1S85iE0IIGw9Iu/e8Jmvo1zSYxTck+ezlnBN7XGdO0UMISUsIEwgENrZPHyBUFaT+LMXlimIMfu/Nf8VA8YMHD1pbW5OTk8f/JT8/v7a2Njs7m0AgxMTEODo65uTkbN682dzcfOPGjZ2dn78D0NfXJycnFxIS8uWoKYFAsLOzw8aKs7Oz2djYzM3/54R5R0dHc3OzFoPAwECEUHNzc0dHB0JIXPzrZ1b4+D5fy4ftBFj0tra2devWGRkZubi4hIWFffz4ESHEeHU0Dw8P44JfXjjd0dHx1aBycnIXLlzQ1dVNTk5euXKlubn5kSNHfvq66+aWjpMnUtvbu7HJqqoGQUE+ERGB+vrPV4Q2NLRKSIoghGprm8PDU8aNG7PKw5GDg/3nIn5Le2eP/e9H2jp7pMWFODjYMx+9MTdQZW6I77iVXeR18BK9GV++rVZXksYp1qHI9DMpOdH+y+fYGuEUAiH0oa7VzTeafg7y1dtqcVGBgteV3kM2UxGvzcTISgo/Td59/7wP9pCREN7m7nB0+0Jm1f/VzTTWVXn1rrrvr45s3styQy0lZkVECAVF3Yy9nHN6/1KnqYZYya2c15sYG/ZdtRpu+8/dJ8UqNtvoVy28fl8rJsyPX35FCF2L2PDo0vasON+sON/pFtrTLbSz4nz/frGfEhR9M/Zyzmm/z21rqKX0trx+cPDTUb2kslFeVgyn6Li+N/8VKTYlJUVeXv4cg9jYWEFBQeyiJ2lp6b179+bk5Fy5cmXFihWZmZlHjx6lLxsbG7tnz55Xr16dO3fuy5rt7e2rqqqKi4vT09NtbW05Of/nC8WCgoJKSkrJX5CTk8PO6ba1ff5eXVlZGda1/Y7NmzcXFRWdPXv2xYsXN2/e3L59+482haCgIGNQhNCzZ8+wK5uwQfK8vLyzZ8+am5tHRER8+a2kf0hZWVZBUebs2fS6upaiV2XJSfftHUwnTtItKiq7nfm0ubnjzu3816/LLS31EULnz2WIigm5zLP++LG3s/NjZ+dHMplp34sVFebv6SPtDbtSWdty/urji9dz17naMKvyv+VsN76xpcvveFrZh6bopKykjIINS23/frEf966iISg6Y+NS2wm6Ko0tXdgDj0D6Goq6Y+U3Hrj4rqL+zuM3+8KvblxqO9fOqLG1648TaeXVTTHJWSm38tcvnYpHdDoODvYx8pL0BwcHm6SogKyUCLPq/+pmmumrjpYW3eB/8W15fei528+LqxbOZNrNLt5XNIScubV+yVQTXZXG1i7s4Wxn1NjStR/bf5KzkjPyNyzBq2GNdZR5eLg2/HGxpKrx9uM3e8KurMf5naIgK0b/Dwrw8Qjw8YyRl8Qj0PvKhsNnbq13nWrM0LazbQ2oVNrWoMTy6uaYlOy7T/50/c0Mj+h4vzeHf6C4ubk5Ozt75cqVJiYmjOV2dnapqamFhYXr1q2LiIjQ0dHR0NDQ0NB4+PBhXd3nEQNJSUlJScnp06cfO3bMxsYGG7al09PTGz169NWrV+/du3fy5MkhoY2NjR88eCAuLj5q1KfB94iIiOLi4uDgYENDQ4TQvXv3Fi789NE7ODi4sbHx+/esKCwsnDdvHn1DsrKy0F8d3H/IyMgoMzOzpKRETU0NIUQikdatWzdr1ixpaenY2Nhbt25xcXGZmpqOGzfu5s2bjO3wQ9jY2NaunXMx7nbAwfNcXJxW1obW1kYEAsFz9eyrV7OvXs2WlhZbv8Fl9GjJzs6PZWW1CKFtW0/QF1+23N7c/OeHqYeI8l/uHRA/aeFBhVHiMQfccP3awxCjpEWTjq3ecSQ1KvGhvKx49AE33bHyeARKf/hqcJAaHJMRHPP5U1F7fjjTA7Gzs8Ue+t03JMnh9yN8vFwrnSf/7jKZQCDEH/XcdTQ1OilLXlYs0t9Nh4jLZrLMtzYz9tDvXgcu2i4PUpKTPHNwpZwM0/o9N7OLBgeph8/cOnzmFr2wOTc08ZjnziOpUUlZ8rJi0f547T8IIUF+nuRjq7cfSbFeGiTAx73UyXydqzVOsVgsI6tocJB6+Oytw2c/t23Tk9Ck0NVbAxMnLz4oJyN2+o/lOO20eL83hz/FXrlyZWBgYMh3aRBCjo6OSUlJ9+/f5+Hh2bp167p16yQkJB4/flxcXLxkyZIhM2/fvj07O3vPnj3R0dFDXrKzszt37pyIiIixsfGQl2bPnn3hwoXly5d7eHjIyso+fvw4MjJy8eLFnJycY8eOtbOzCwoK6u/v19DQyMrKun//fnj437S7jo7OtWvXtLS0ZGRknj17dvr0aQKB0Nf3A19BmT179vnz5z09PdevXy8qKnru3DkKhbJw4cKenp7g4OA1a9YsXryYnZ09Pj6ei4trypQp/7zmIUREBFevGXq1p56emp6eGmOJsLBAZJTPT0f5J9QUpdNObsA1xBAteZ9PqxtpK9+K8f7OzEzhtczWaxku/eMvyUgKnwlYOaTQaJzyzSjcNxP9b9vSPb+yj+mBvrqZyvKSV/DZlzYsmfrVHqrROOWMaFY0LEJIQ0X2cvha1sQaAr9bJyKE1i+Zuv5rbUtUlr2K/5EB7/fm8KfY1NRUNTU1dXX1IeWGhoZycnJpaWlnz549cuSIvx2dOsgAACAASURBVL9/V1eXkpKSn5/f7NlDc4OUlNSmTZv8/PyuXLmCffOHzt7ePjo6evr06fQz53R8fHxxcXEhISFBQUHd3d2jR4/29vZ2c3PDXg0KCgoPD4+NjW1vb1dRUQkNDbWx+ZuRmYCAgP379+/fvx8hpKSktG/fvrS0tIKCH7hXiICAwIULFwIDA/fv30+lUvX09M6dOycvL48QioiIOH78+KZNmwYHB8eNGxcTEzNmzJh/XjMAAAAWI/z6rQrBv1nC81oKlaX/4tnao1kZDiE0LHswO7OvrP5b5IFf/Rr0T2D9Zg6ydnfFsHwrERqOtiUQhmE7KSzfbzk5WH2NEc+3+6r/isudAAAAgJEHUiwAAACAC0ixAAAAAC4gxQIAAAC4gBQLAAAA4AJSLAAAAIALSLEAAAAALiDFAgAAALiAFAsAAADgAlIsAAAAgAtIsQAAAAAu4B7FI1wPmdX/3+tvfvIn9n7arHGjWBwRDdPtXgH4f4fK8ptOs7H85s9wj2IAAACA1SDFAgAAALiAFAsAAADgAlIsAAAAgAtIsQAAAAAuIMUCAAAAuIAUCwAAAOACUiwAAACAC0ixAAAAAC4gxQIAAAC4gBQLAAAA4AJSLAAAAICLb9+9GPzHkMgU66VBAZudJxqqIYRqGto2ByQ8elYiIym8w3Omo43Br4dobGw7fyGzpLSGn5/XxtrQfvoEhFBra2fsuYy37z6IiAjMnW1pbKyBzey55nBfH4m+bMQJbx4erl9fBwyJTNl59HLyrQIuTo7Fsybs9JyJ923965o6fEOSswre83JzOk012LV6Fg83J64REUL9JMqWwMS0ey94uTnXLrZeu9h65EVEw9G25dXNWwIT8l6Wiwjxu8+bvN7VBtdwGNa3LYsblkSmWC0NOvTXIQghVF7dPGnRwdqsw/gFZeSy8aSEiMCJva5MrBNSLOt4e3tfv35927Ztbm5uP1cDkUhcu3btunXrampqrK2tDx48OHv2bKasWz+Jsmr32bfl9djkwMDggk0RiqMk7p3f9qiwxHPPOaKyjIbKL/2gDZVKO3I0SVlZdt9et8bGtohTaaKigsbjNY4cTZKUFNm3x+3tuw+nItNGjZKQk5Nsb+/u6yMFBnhw/fWW5mbqe9s3JCW74H1y6OqPPaSVO8/Ky4gtmz2RifUPQaPRlvlECQvypZ/2au/qWbc/jo2Nbf8GJ/wiYnaHXn5e/CHt5Prq+rbV+87Ly4r9Zq0/wiKyvm2pVOq8jSf1NRUfXvApq25eueOMrKSws914/CJiWNy2LG7YfhLFneEQhBCqbWxf4B3RT6LgFHGIlMyC24/eLHAwYW61MFDMIt3d3Xfu3FFXV09ISPj1HxCUkpJKSEiwtLRkyrq9K6+3WxFSWdNCL7n9+M/axo6Te13VFKWXzZ5oY6b59FXFL0bp6upRUJBe4jpNRlpMV0dVU0OxpKT61auy1rYu999nysqKT7HU19FRKS2tQQjV1bWICAtISYmKCAtgDyb2Mts7ey6kPTm6Y4GhltJkY+KaRVMK3lQxq/KvKqlqzC+qPL57sYaKrJm+qu8qh5RbBbhGRAj19JHOX30S4D1Hd6z8jCm6611tIhMfjrCIaDjatqmtW1tdLsRnnoqClK251uTxxNwX5bhGRMPRtqxs2Lfl9dP+9xB04+FLq6WB3Jws6gS2d/bsPnbFQFOR6TVDimWR69evI4R27NhRWVmZm5v7i7VxcXHp6emJiYkxY9XQo+el5oZqN6O9P5c8K7EwUhcU4MUmzwe5L3Uy/8UoIiICqz0deXm5aTRaSUnNu/fVY4mKb99VaWoq8fJyY/NsWDfX0lIfIVRX1yItw5yt+1Luy3IhAV5zg0+DURuX2obvWoRTLIy0uFBy6GopcSF6SdfHPlwjIoRev6+lDAwa64zBJifojSl8U0WlUkdSRDQcbSsjIRxz0E2Qn4dGo+W+LHv8vJQ+sIkf1rctKxsWa8MMhkPQ7UdvfN0dDmyai1PEIXYduzzP3pioLMP0miHFskhKSoqpqemECRMUFRXj4+Pp5VZWVj4+PvTJ1NRUIpFYU1ODTT59+nTevHm6urrTpk17/PgxfbaamhoikZiamsqUdXObM8nfaw4fw5nOqtqW0dKifsevjpuxc/Kig+kPXzIlEGbz1hP+B8+rqIw2MiI2NXeIiQomJt3fuCls1+7owmfvsXnq6lvJZMrBQ3EbvEIPH0loaGhl4gpU1rYoyIrF38gzcd6v77g3KDoD7zQgLMhnbaqJPadSqZGJWRbjibhGRAg1tnaKC/Nz/dUPkBQT6idR2jp7RlJENExti9GZtXv6yiPjtZVnWenhHYv1bcvKhv3yEHR0+0Jcz90wysp/9/h56ZYVdnhUDimWFUpKSoqKihwdHRFCjo6Od+/ebWlp+dul3rx54+bmJigoGBoaumTJkk2bNuG/pp/09JEu3cjr6OqLC17lYm+83DfmefEHZlW+dvXsjevnVn9ovHjpDqmfkvOoqLe3f+MGZzOzccdPpFZU1COE6htae3r6Zs0w27BuLicXZ2DQJcZLn35RTy+prLr57OVHYbsW+21wPJ3w8MSl+8yq/G/tCb3y6l31Ts+ZeAfq7adwcX0eZ8PG3EjkgZEUcQiWtS3m3KGVlw6vKnpfs/1ICt6xhrdtWdywrNRPongdjA/a6sLLvKspGcHlTqyQkpIiIiJiZWWFEHJycgoLC0tOTvbw8Pj+UqdOnRIXFz958iQnJydCSFRU1MvLixWrixAHO7uYMH/wNhc2NjbdsfK5L8rOXX6kr6HAlMqVlWURQpSBwVOn09RU5QQEeJe42rGxEZQUZd6XVD94+EJZWdbba97gIBW7hHiV+yxv7/AXL0tNJ2gxZQU4ONi6e/oj9y+TlxVDCNU0tMckZ69dxIprX/eEXTkZ/yDmwHJN1V+6duyf4OHiIDMcgkmUAYQQHz7HkeGKyIiVbYvR11RECJHIA+67YvdvcOLC88ThMLYt6xuWlQ5FputpKND760wHKRZ3FAolLS3Nxsamv7+/v7+fn5/f0NAwMTHR3d2dje17owiFhYVTpkzB8itCyNbWlp2dnSWrjKTFhQgERF89VUXpP0trf7HOzs6e0rJaQwN1bHKUrMTAwKC4uBAHBzsb26dLmWRlxKurmxBCnJwcf2034uLkkJAUaW/v/sUVoJMWF+bh5sTyK0JIVVGqtqmDWZV/x9agxJiUnFN+S2ZZ4XuRLUZWUqS1s2dgYJCDgx0h1NTaxcvNKSzIO5Ii0rGybZtau/KLKhwsdbFJorIMmTLQ3dMvLiKAX9DhalsW77Ssl3r7WVNrl5zFJvTXqEDavec1zPuaEAwU4+7Bgwetra3Jycnj/5Kfn19bW5udnf39BTs7O0VFRemTHBwcjJO4MhynVFxWPzj46Qzl+8oGeVnxX6yzuaUj/HgKPVNWVtULCvKpqIyurW2mnwqtq2+RkBCm0Whbtp3MznmFFZJI5MbGdtlfXgE6I22lfhKltKoJm3xf0UhPt/g5FJl+JiUn2n/5HFsjvGNhtIlynBzs+a8rscncF2X6morf/1T3/y4ihsVtW1XX6ro1qu6vj2Uv3lZLiArgml/RMLUt63da1rsWseHRpe1Zcb5Zcb7TLbSnW2hnxfkysX5IsbhLSUmRl5c/xyA2NlZQUJB+0dPg4CB95t7eXvpzERERxlO2NBqts7OTNes8x9aQSqNtCUwsr26OSc66+/hP19/MfrHOMcqySooy0TE3amtbXr4qTUi8P3OG2QQTTSqNdu78rcbGtrv3CouKyidP1iMQCLo6KleuZhe/raqtbT4deU1MVFBXR4Upm4YQUlOUtjXXWuN34fX7mrtPio+du+02B98LK95VNARFZ2xcajtBV6WxpQt74BoRIcTHwzXfwXjTwfhnb6puPHgZduGux3zmfMvr3xMRDUfbGmgq6o2VX7f/wtvy+sxHb/Ycu+y9fBquEdFwtO2w7LSspyArNkZeEnsI8PEI8PGMkZdkYv0wUIyv5ubm7OzslStXmpj8zzea7ezsUlNTGxsbBQQEGhoa6OWFhYX056ampllZWX19fby8vAih7OxsCoVF38IWFOBNCV2zOTBx0sIDcjJiUf7LdcfK/2KdbGxs69fNvRCX+ceBc9xcnFNtjKbaGBEIhC3eC86dz9ixK0pCXNjTw1FJUQYh5OJixc7OfupUWm8fSUND0cvLhbkf2E/vX7otKMne/SgvD9dKZwt3l8lMrPxL6Q9fDQ5Sg2MygmMy6IXt+eG4BkUI+XvN8Q6In+V5TEiA19fdYSb+F76yPiLr25adnS0uxH1rYJKtWwg/L5f7fMtV+H+SQCxv2+HaaUcYwq/fBgF8R2RkZHBw8LVr19TV1RnLCwoKFi1atHbt2oGBgVOnTnl5eenq6t67d+/atWttbW13796Vk5OrrKx0cnLS0NBYuXJlW1vb0aNHOzo6Vq1a9UN3d+ohs/r/e/1NHYsjzho3DFdh4H3DRQBGBiqV1Ycg+rUdLMPz7b4qDBTjKzU1VU1NbUh+RQgZGhrKycklJSWtWrXK2dk5Ojra09OzubnZ39+fPo+SktKFCxfY2dm9vLxOnDixbds2YWFh1q4+AACAnwe92BEOerE4gV4sAP8E9GIBAAAAwHyQYgEAAABcQIoFAAAAcAEpFgAAAMAFpFgAAAAAF5BiAQAAAFxAigUAAABwASkWAAAAwAWkWAAAAAAXkGIBAAAAXECKBQAAAHABKRYAAADABfwMwAj3kURlcUR2lt+DO/5FNYsjIoQW6CuwPigA/++w/mcAWP8LHbyc3wwJvVgAAAAAF5BiAQAAAFxAigUAAABwASkWAAAAwAWkWAAAAAAXkGIBAAAAXECKBQAAAHABKRYAAADABaRYAAAAABeQYgEAAABcQIoFAAAAcAEpFgAAAMAFx3CvABh+9U0d24+k5BSW8HBzOlrr7/CcycPNeS+32C/8all1s4q85M7Vs2zMNPEIffF67lq/OMYSAoHQmhfK9EDHQ5MFBfmWLLdHCFV/aLx0IbO2tll2lMTCxbYKijIIIRqNdvvW0+yHL3p6+hSVZFzm28iOkmDiCvSTKFsCE9PuveDl5ly72HrtYmsmVv59JDLF0jUwaKvzREN1vGPVNXX4hiRnFbzn5eZ0mmqwa/UsHm5OvIOWVzdvCUzIe1kuIsTvPm/yelebkReRjpX/TTqXjSclRARO7HXFNQqJTLFaGnRos/NEQzWEUFVdy8YDlwqKKuVkxA54zZ4yQQOnuNfvv1yyLYo+OdNKLzZgBbMqh14s07i6uhIZGBkZLVmy5OnTp9irPj4+RCLRwsLiy582Cg4OJhKJrq6uCKENGzaYmJgwvlpUVEQkEg0MDCgUCr3w9evXRCLxypUrv77aNBrNbXtMXz/lWsSG0/uX3cp5E3D6Rnl187JtUfMdTLIv+s6zN166LfJDXeuvx/qSk41Bcbo/9nh1zW+MvOSqeZOZHqXgafGb1+XYcxKJfDw0WUVNzmfn0jEqo0+EpZBIZIRQdtaLO5lPXRZYb9uxRFxC+HhoMplE+W6tP2Z36OXnxR/STq4P3jYvMOrm1bvPmVj5d/STKCt3nH1bXs+CWDQabZlPVG8/Of20V5T/8ozs1/4R1/EOSqVS5208KS4i+PCCz2Hf+cHRGUkZ+SMsIh0r/5t0KZkFtx+9wTtKP4ny+67Pm0aj0Vy3REqJC905u8Vl+vgl26JqGtpwCv2uosFu0jj6gSh0xwImVg4plpk0NTUTEhISEhIuXrwYEBDAycm5YsWKkpIS7FU2NrbGxsZnz54NWSo9PZ3+3NTUtKOjo7y8nF6SnZ0tIiLS09Pz/Pnng3JBQQFCyNzc/NfXubSqqeB1ZejOhWPHyJrqqfi426dkFtY3dbg6mnksmKI0WsJzoRUfL/ezP6t+PdaXeHm4pCWEsEfSzXwajbZn7Szmhujp6UtNeaCoJINNFua/5eTimD3XUlZW3HmeFTcP57PCdwih3MevbWyNtXVUpaXFFiy07enpKyurZdo69JHOX30S4D1Hd6z8jCm6611tIhMfMqvy73hbXj91eXBFbQsLYiGESqoa84sqj+9erKEia6av6rvKIeVWAd5Bm9q6tdXlQnzmqShI2ZprTR5PzH1R/veL/b+KiGHxfxPT3tmz+9gVA01FXKO8La+ftiKksubzpmUXvq+sbTnsM5+oLOO1zNZIWynuWi5O0d9XNmioyNIPRMKCfEysHFIsMwkICOjp6enp6RkaGtrY2ISFhbGxsaWmpmKvysrKjho16ubNm4yLvHjxorGxUV3905iPqakpQogxDefk5NjZ2Y0aNSo7O5temJ+fr66uLikp+evrLCUumHDUU0pciF7S9bHP3FDN32sOQogyMHgh7QmZPID3e6y9s+fYuTu718zi5mLyuGJq0gOTCVqysp9GfSsq6lRU5QgEAkKIQCCoqMhVlNUhhGbPnTLe5K/BcAKBRkN9fSRmrcPr97WUgUFjnTHY5AS9MYVvqqhU3H/K99Gz0klG6pkx3ngHwkiLCyWHrh6yL+EdVEZCOOagmyA/D41Gy31Z9vh5KTbMOJIiYlj838TsOnZ5nr0xUVkG1yhYG2ZEf960gteVOkR5fl5ubHKCrkp+UQVO0d9VNKgoSOFUOaRYHPHy8nJzcxMYfiDYzs4uMzOTcaw4PT3dzMxMREQEm1RUVBw9ejQ9xXZ3d798+dLMzMzU1DQnJ4e+VGFhIVO6sAghYUE+q79OclCp1KikLAujT/m+vLpZfrK314FL3m7TFEaJMyXct8Sk5MhICv9mrc/cat+9rSotqZ7uYEov6ezsERERoE8KCvG1t3cjhFTV5ERFBbHCRzkvqVSqiupoZq1GY2unuDA/F+enSx8kxYT6SZS2zh5m1f8tK+ZOOrBpDh8PF96BMMKCfNamnz6mUKnUyMQsi/FE1oRGCOnM2j195ZHx2sqzrPRGZEQW/zcRQln57x4/L92ywg7vQG5zJvl7/c+mNbZ0yUgI0yclxQTrmjrwCE2j0Uqrmu7lFo+f42fgtG9f+FUyZYCJ9UOKZSYajTYwMDAwMEChUJqbm0NCQshk8pw5c+gz2NvbM44VU6nUjIwMBwcHxkomTJhAn+HJkyc0Gs3U1HTixInFxcUtLS0IodLS0vb2dmalWEb7wtOK3tds95iBTUqICmTGeB/a7BwYdfPavRdMD0dHo9HOX33s7mzB3GoplIGLF27NWziVi6FnTCFTODjY6ZMcHOwDA4OMS1WU16UmPbCxNRYWFkBM0ttP4eL6fGkhNycHQohEZuY7+d9mT+iVV++qd3rOZFnEc4dWXjq8quh9zfYjKSM1Iiv1kyheB+ODtrrwsjCp0/X1k4e8ZZib+ehqGtp7+8ncnBwxB9381jsmZRTsDmXCNS50cEUxM+Xn52tpaTGWbNq0SUVFhT6pra0tLy9/8+ZNQ0NDhFBBQUFHR4eNjU1Kyue3qKmpaUpKSltbm5iYWHZ2to6OjpCQkJmZGYFAyMnJcXR0zM/P5+LiGj9+PHNX3i/86qmEB5H7l2mojMJKhAR4dYjyOkT5d5UNUUlZM3H7qP68+ENdU8dsW0PmVnvj2iNFRRlNLWXGQg4ODsacOjAwyPhOLi+rPR6arDVOecasiUxcEx4uDjJDQiVRBhBCrOyOsNiesCsn4x/EHFiuqTqKZUH1NRURQiTygPuu2P0bnOhjBiMpIisdikzX01CgD0uwGDcXZy/DMA+JMoBTppeXFSu7HSAixEcgELTV5ag0mseec/4bZ7OzM6f/OaL2iWGnpaW1b98+hBCNRuvq6srKyjpy5Ehvb6+Xlxd9Hnt7+ytXruzYsYNAINy4ccPS0lJA4H96S9jp2OfPn1tbW+fk5GCdYBERES0trcePHzs6OhYUFBgYGPDw8DBxzX2Ck89ezjm51xXLo2/L69u7ek31Pn04ICrJPH5WysRwQ9x9UmymryoixMyrDBBChflvu7p6vNYdQQhRKIMIoefP3hkZa3QxvHW7unrovdX37z6cDE8Zq6nktnImGxvhq3X+HFlJkdbOnoGBQawD3dTaxcvNKSzIy8QQ/x5bgxJjUnJO+S2ZZcXkYf+vamrtyi+qcLDUxSaJyjJkykB3T7+4CNMGIYY94rBIvf2sqbVLzmIT+mvEJe3e85qsw6yJLisl/K7i84XTTa1d0gzn+JlLVJif/lxdSbqfRGnv6pH467TRL4IUy0z8/Pza2tr0yYkTJ/b29kZFRS1ZsoReaG9vf+rUqWfPnunp6WVmZu7du3dIJRISEurq6s+ePVNSUqqrq5s0aRJWbm5ujn1Lp7CwcOHChUxc7aCom7GXc07vX0o/Jt7KeR1/I+9x/A7sRPLLd9VqStJMjDhE4etKY90xTK924+b5g4OfLim6kvIQIeQ4Z3Lp++rMjDwajUYgEGg0WnlprZ29KUKorrY54niqptYYt99nMusDLJ02UY6Tgz3/dSX2qSX3RZm+piIb2wg8TXMoMv1MSk60/3Kmn1b/lqq6VtetUa+v7x8lJYIQevG2WkJUANdsx/qIw+JaxAb6eM/esCsIob3rHFkW3Wic0rHYO339ZKzzmvuyfAIOhwiE0N0nxe67zhZd34+NKr1+XysmzM+s/IrgXCzexo0bNzAwUFNTQy8ZO3assrJyRkZGbm4uiUSytLT8cqkJEya8fPnyyZMnIiIi9Jw9ceLEhoaG3Nzc+vp6Jp6IfV/REHLm1volU010VRpbu7CHs51RY0vX/uNpZR+aopOzkjPyNyyZyqyIXyour8fjkkVxcWEpKVHswcPDxcPDJSUlqm9I7O0jJSXcq69rSUq4RyJRDIyICKGLFzJFRQXnuEz5+LG3s/NjZ+dHMplp34vl4+Ga72C86WD8szdVNx68DLtw12P+V/7v/9+9q2gIis7YuNR2gq5KY0sX9sA7qIGmot5Y+XX7L7wtr8989GbPscvey6eNsIjDQkFWbIy8JPYQ4OMR4OMZI8+ErzD8Q+b6aqOlRdbtj3tbXn80NvPZn1WLZ5n+/WI/zlhHmYeHa8MfF0uqGm8/frMn7ApzbyQCvVh8vXr1ip2dXV5enrHQ3t4+JSWlt7d36tSp3NzcXy5lZmaWnJwsKipqampK7+vo6enx8/NfvHhRVFRUU5NpJ0huZhcNDlIPn7l1+MwtemFzbmjiMc+dR1KjkrLkZcWi/d10x8p/p5Jf1NzWLcLU76J9By8v9+q1cy5duPUo++Xo0ZJr1s/l5ubq7PxYXlaLENrpE0Gf03XZdFMz7W/X9GP8veZ4B8TP8jwmJMDr6+6A34ntYZT+8NXgIDU4JiM4JoNe2J4fjmtQdna2uBD3rYFJtm4h/Lxc7vMtV+H88YX1Ef+D2NnZLgS5b/C/aLU0UFlO8tyhlXIyYngEEuTnST62evuRFOulQQJ83EudzNe5MvPOa4QvbzYEfo6rq+vHjx/37NmDTZLJ5Hv37p05c2bevHl+fn4+Pj5Pnz69d+8eQqi0tNTBwYGTk/PEiRMWFhbYsgih8+fPY8t+/PjRxMSEQCDs3bt37ty59BAeHh45OTm2traHD//TMyIfSbh/+XIIdqaexfwn4l9UszgiQmiBvgLrgwLw/w6VyuoUQ2D1EQjxcn4zJPRimenPP/+cN28e9pybm1tBQcHLy2vFiqG3u1RVVVVXV29ubjYzM/tqPQICAtra2s+fP5848X+ua500adL9+/e/tRQAAIB/FejFjnDQi8UJ9GIB+Cf+471YuNwJAAAAwAWkWAAAAAAXkGIBAAAAXECKBQAAAHABKRYAAADABaRYAAAAABeQYgEAAABcQIoFAAAAcAEpFgAAAMAFpFgAAAAAF5BiAQAAAFzAPYpHuD4K628QyvI7hA6H+o5+FkeUFeFhcUQAfl13H9N+d/kfEuTlZHFEnm//ng70YgEAAABcQIoFAAAAcAEpFgAAAMAFpFgAAAAAF5BiAQAAAFxAigUAAABwASkWAAAAwAWkWAAAAAAXkGIBAAAAXECKBQAAAHABKRYAAADABaRYAAAAABffvnsx+O+5eD13rV8cYwmBQGjNC8U1aF1Th29IclbBe15uTqepBrtWz+LhZtFdvF02npQQETix1xWPysnkgblrjuxc62Ssq4oQysl/FxJ1vbKmWUlO0muFvYWxBjbb2eSH51KzO7p6DMcp71jrpCQnycR16CdRtgQmpt17wcvNuXax9drF1kys/F8SkY5Epli6BgZtdZ5oqI53LNhMJkq6+dT74CXGEgKBUPXw8Ov3NdtDkt6W16sryxzwdtYhyuMRHeF8CIIU+8N8fHyePn167969IeVWVlbGxsYBAQH/vKqamhpra+uDBw/Onj2bqev4k5xsDKwnaGLPKYODjqvDbM21cI1Io9GW+UQJC/Kln/Zq7+pZtz+OjY1t/wYnXINiUjILbj96s8DBBI/KSWTKlgNxpZWN2GRVbcv6fWc3LJ9uZaZ199HrdXvPpsdsGy0jdu3us5MXbgf6LlIcLXH8fOaa3THXo7cy8aeKdodefl78Ie3k+ur6ttX7zsvLiv1mrc+syv8lETH9JMrvO8++La9nQSwEm8lUM630JhuPxZ4PDAzO33jC2kyzt4+0dOtpp6mGIb4LL1x9tHxbZPalHXy83EyPjvchCAaKwWe8PFzSEkLYI+lmPo1G27N2Fq4RS6oa84sqj+9erKEia6av6rvKIeVWAa4RMe2dPbuPXTHQVMSj8tKqhvnrwqrrW+kljS0dzvYTls6xkJcVXzZ3Mi8P16t3HxBCH3v6vH+fMdlEQ0lOcuW8KRXVzW0dH5m1Gj19pPNXnwR4z9EdKz9jiu56V5vIxIfMqvxfEhHztrx+6vLgitoWFsRCsJnMxsPNJSUuhD1SbxfSEPJZNfPavRc83Jw7Vs9SU5Leu96Jn5f7xoOXeETH+xAEKRZ8F0QTVAAAIABJREFURXtnz7Fzd3avmcXNhe+YrbS4UHLoailxIXpJ18c+XCNidh27PM/emKgsg0flBa/KTfRULh5bRy8x1lX1Xf0bQogyMJhyM49CGdAhKiCEFswyd3GYgBDq7um7mPZYVUlaTESAWavx+n0tZWDQWGcMNjlBb0zhmyoqlcqs+v8NETGPnpVOMlLPjPHGOxAGNhMnHV09ERfv+qxy4ObiePZn5XidMdiIDoFAMNJWLnxdiUdQvA9BMFDMfP39/cePH79161ZdXR0XF5euru7WrVs1NDQQQj4+PvX19UpKSteuXZORkYmIiGBcsK6uLjg4OCcnh0Qi6enpbdu2TVNTEyE0Z84cTk7O+Ph4+pzLli0jEAhnzpzBaRNiUnJkJIVZMPYlLMhnbfppaJpKpUYmZlmMJ+IdNCv/3ePnpY8ubfcOSMCj/vkzzb5aXlXbMsMtcJBK3bTCfrSMGL08JePprpBELk6OyIO/M3GUuLG1U1yYn4vz03tcUkyon0Rp6+yREBVkVohhj4hZMXcSrvUPAZuJU8TzVx5LiQs7WOohhJpau9SVPn8ClhAVfF+By/A43ocg6MX+pIEv0F/aunVrSkqKu7t7TEyMr69vSUmJt7c3jUbDXi0oKKivrz9+/Li3tzcb2+f2b2trmz9//ps3b3bt2hUSEkKlUhctWlRWVoYQmjt37vPnz6uqqrA56+vr8/Ly8Dt9S6PRzl997O5sgVP937In9Mqrd9U7PWfiGqWfRPE6GB+01YWXhwvXQF8SE+FPOL5h1zqn8HOZmdmv6OWmBmrJJ73m2pus3XOmhmF4+Rf19lO4uD5/hubm5EAIkcgD317i/1/EYQGbiQcajRZ/PXf5nE8fI/qGROfiIFFwb2E8DkHQi/0ZtbW1Wlpfvw6ITCb39PTs3LnT3t4eIWRsbPzx48eAgICWlhZJSUmE0MDAgJ+fn4yMDEKopqaGvmBsbGxHR8elS5dGjx6NELKwsLC3tz927FhoaOiMGTMCAgKuXr26fv16hNDVq1f5+fmnTp2K09Y9L/5Q19Qx29YQp/q/ak/YlZPxD2IOLNdUHYVroEOR6XoaCvTPrawkyM+rqTpaU3V0WVVj3JUc20k6WPkoKdFRUqIaaxzzX5ZduV2wdsk0poTj4eIgMxwQsSMUH54fLFgfcVjAZuLh1dvq+uaOmX+NnA2NTh7g5ca3hXE6BEGK/RmSkpInT54cUujp6YkQ4uLiio6ORgg1NjZWVFRUVlbev38fIUQmk7HZREREsPw6xJMnTzQ0NKSlpbEOMRsbm4WFRVpaGkJIUFDQ1tY2LS0NS7GXL1+2t7fn4eHBaevuPik201cVEeLDqf4vbQ1KjEnJOeW3ZJYV7kPTqbefNbV2yVlsQn99JE+797wm6zCuQUsqGzq7e420P53WUlGUfvqqDCGU96JUSlxIWV4KIUQgEMYoSHV09jArqKykSGtnz8DAIAcHO0KoqbWLl5tTWJCXWfX/GyIOC9hMPDx4+tZYV0VE8NNhR1pSuLmtm/5qc1sX4+lSpsPvEAQp9mdwcXFpa2t/WYg9yc7OPnDgQHl5OT8//9ixY/n4+BBC9IFifn7+r9bZ0dFRVVX1Zee4r6+Pl5d37ty5aWlpBQUF7OzslZWVhw4dYub2/K/C15XGumPwq3+IQ5HpZ1Jyov2Xs+ZrD9ciNgwMDGLP94ZdQQjtXeeId9AHuX9eycynfyHnTUntGHlphFB0wn1ZadF9G+cihAYHqW/L6lydmHa+TZsox8nBnv+60lRPBSGU+6JMX1OR8dwE07E+4rCAzcTD8z+rxmsr0ycNNJVOxN2l0WgEAoFGoxW8rlznaoNTaFwPQZBimezDhw9r1qyxsbE5deqUvLw8gUCIi4vLzs7+2wUFBQWNjY23bt06pBzL3MbGxgoKChkZGWxsbGPGjNHT08Nl7RFCCBWX1ztPH49f/YzeVTQERWd4LbWdoKvS2NKFFUpL4PhxVUH283VGAnw8CKEx8sy828NXzbQ2iLx073DUjTnTTR4Xvr92t/DSsXUIofkzzbz+ODdeZ4yWmtzZ5IckMuU3WyNmBeXj4ZrvYLzpYPzx3YvrmzvCLtw9vnsxsyr/l0QcFrCZeHhfUc94csreUjfg1PW9oZcX/WYWd/Vxbx9pxhRcDnp4H4IgxTLZ69evSSSSu7u7goICVoLlV3ov9luMjY2vXbumrKwsIPDpaxt//PEHhULZt28fQohAIMyePTshIYGDg8PFxQXPLUDNbd304Rq8pT98NThIDY7JCI7JoBe254ezJjrLyEiKRB78/eDJq3FXH42SFj2yc4mmmhxCyMpMa/f6OcfPZTY0d+hpKkYedOdn6pfr/b3meAfEz/I8JiTA6+vuMNMKx09mwxVxWMBmMl1z20dhhsOOID/PmYCV20OSLl7L1VCRjQ10x+O+Ewj/QxDhbw/9YIjv393J09PT3t5+woQJbm5uZDI5NTX19u3bNBotLS2NSCQOWZbx7k6NjY1OTk6jRo1yc3MTFRVNT09PTEz09fVdtmwZNnNjY+OUKVMQQvfv35eWlv6Ha9tHYfX/l4lfO/k3q+/oZ3FEWRG8zr4DgJ/uPgqLIwrysugOrHQ83+6rjrTzB8NOUVExJCSksbHR09Nz9+7dCKHz588TCISCgr+5Y4i0tHR8fPzo0aP37t3r4eHx6tUrf39/en7FZhg7duzEiRP/eX4FAAAwjKAX+/8G1osNDQ21sfmB0/7Qi8UJ9GIB+Cf+471YOBf7/0BxcfHdu3dv3bqlpKRkZWU13KsDAADgH4GB4v8HSCTSmTNnBgcHDx8+PPK+GwAAACMVDBSPcDBQjBMYKAbgn/iPDxRDlwgAAADABaRYAAAAABeQYgEAAABcQIoFAAAAcAEpFgAAAMAFpFgAAAAAF5BiAQAAAFxAigUAAABwASkWAAAAwAXc3WmE6+wbZHFEbk52Fkccln2Y9Texul3cyOKICKGpGvCzTuCXUKmsfnuysbH6vQl3dwIAAABYDVIsAAAAgAtIsQAAAAAuIMUCAAAAuIAUCwAAAOACUiwAAACAC0ixAAAAAC4gxQIAAAC4gBQLAAAA4AJSLAAAAIALSLEAAAAALiDFAgAAALj49t2LwX9GRU2zb3Dy06JyUSE+t7kWaxZZI4R2HkmJSsqiz+O/ac6KuRZ4RO8nUbYEJqbde8HLzbl2sfXaxdZ4RBni+v2XS7ZF0SdnWunFBqzANWJdU4dvSHJWwXtebk6nqQa7Vs/i4eZkVuUNjW3RsTffllQL8PNOnzp+loMZQujFq7K4hDt1DW2jZMQWuljr/x979x3XRPI2AHxoofeOFAWVJl3AAoJY8KSoIGJBPFDxxMMCFrDA3XkoKKgoVooooohSLGAvoIA0ARtFqoA06TUEkveP9c3x01O5u0wQfL4f/sgOu/PMJLt5MrObjdZ4YuVHKXnXEtOamtvlxog7Lp+rMlGOUc2gI/dRTFceOLjdzkhvIsMr/x6CllU1bjtwOSO/TEiA18XeZOPK2bgjouE4UpgckdxHMVt10H+rnZHeBKKkrKrReMX+mpRDWOPSo+PYfyDF/jOenp6ZmZkPHz78pNzMzMzAwMDPz49RgRhe4ZdQqVSHrWe0VeTuR2wrq2pc73NeWlzQZu7k4oq6Xb9Y2lsYEqvx8XJhaoD30fjcgnfXT26sqm12/T1STlpkwSwdTLHoisrr5hlPOuy1jFjk4sR7INBotJ89QwX5eZLObGlp73LbG8XKyrp30yKGVE6l0vYHXlJSlDmwd21tfXPQiXgRYf7xSmMCjsYsXTxTX1c5K6foYFDMEX9XCXGhvBclYedvrXO2nKA05vGT/P2Blw77rRcR5mdISwi9ZMra3RGFZbUMrPO7CkqlUu03n9RRU0i+4Fla1bhm11lpcUG7efq44zL/SGFmxF4yxcX7f17BmvqWZR6neskUTBE/iY5p/4GJ4h9dY3OH+oQx/tuWKMpJzJ6mbjx5YkZ+GULobUW9hrKchKgA8cfDRcIRvauHHHkt3c/DVktFznKm1saVs0NiknEE+kRxRZ2qkrSkmADxJ8jPgzXc28r6rJcVx70dVJWkp+mM91pnEXsnm1GVt7V3jpWXWrtqvrSUqK7WBA21sYXFVU3N7bNNdS3nTZGUELb8aQonJ0dJWQ1C6PGTfBMjLeNpGlKSIksXzxQS5H2e95ZRLUEIFZbVznEKKK/5wMA6v7egDc0dGhNlAz3tleQl5k5XN9FXfpZXhjso848UZkYsLKs1Xx1YUf3XK5iYnG+26gAnBzMGgVj3H0ixPzpJMcEze3/m4+Wi0WiZL8qe5ZVO053Q0dVb29imKC+OO/qr4hpK/4CBpiKxOEVbMed1JZVKxR23qLxOSV4CdxQ6SVGBq0ddJUQF6CXtnT2MqlxYiH/Lr7bc3Jw0Gq2wuKqg6J2aqoK66tifHcwRQv39Aw+Tc/spA+MVxyCErC2mWc4zHLx5dw+ZUS1BCKU+LzGePPFuuAcD6/zegkqJCYbvd+bn5aLRaM/yS9NyS+gTm/gw/0hhZkTiObwd9tcreC/1tZeLxT73xTjCfQLr/gMTxQw2MDAQHR0dHR1dWVkpIiJiaWnp5ubGycmJEPL09Kyrq7Oysjpz5kxNTY2SkpKHh8eMGR9PcBYWFvr7++fl5QkJCW3ZsmVwnc3NzceOHXv8+HFjYyMPD4++vr6Xl5esrCxjWz7Z5vea+pY509UtTbXyC9+xsLAERdx7+OyNsCDvuqUz7ecbMDYcob6pTVSQl/T/n1XFRQR6yZTmti4xhk5dfoJGo5VUNjx8VnD47N0BKm3BLG2vdRYknJ+XBfl5Zk1VIx5TqdSQmJQZ+soMj7LB/diHpjZd7QlT9FWJkrr65s07TlCptOVLzCTEhRBCimOl6evnvSiprWuepDaWgW1YvdiYgbV9z0ERQprW3tV1LeZGk6zNtHHHYv6RwsyIzrafvoJHdi5HCD3NYeQUy5dg3X8gxf4b/f39X/qXt7f3tWvX1q5dO3ny5Ddv3hw/frygoCA0NJSFhQUh9OrVq4aGho0bN/Lx8QUFBbm5uaWkpAgKCtbX1zs4OIwdO/bgwYOdnZ0BAQFNTU1EhTQabd26dW1tbVu3bhUTEysqKjpy5IiPj09YWBhjOxW2z7mhud3z4BXvoHhNFTkWFjReQWK1nXFabuk2/2h+Xs75JlqMjYgQ6u6lkEh/7YTEvBC574tPL0NU17V09/ZxcrCH73eurGnyDLzaQ6b4eTDj8zJCyOdowouiqgcR2xhes4fb4ta2ztBztyKi7jqvnIcQEuDn2f/b6uKSmvOX7kpJitBTL0Korr75eMh1o2mTBidd8I+c919T39Tu4Xd55+FY/612WGMx/0gZlmNz9IEU+4/V1NSoq6v/7b9KSkquXr3q4eHh4uKCEJo+fbqEhMT27dtTUlJMTEwQQh0dHXFxcfLy8gghHh4eBweHZ8+emZubR0REDAwMnDlzRkREBCE0bty4JUuWEHU2NDRwc3Pv2LFj8uTJCCFDQ8N3795dvnyZ4f3SVpVHCJHJ/Rt+P//21wNzjdSFBXgRQmrjx5RVNZyLS8WRYrlI7H2DDloypR8hhOm8L52ctEjpPT8hAR4WFhaNibJUGu0Xn/O+m23Y2LCfN/E5lnAy+nH4Pie18TIMr1xJUQYhRKH0Hz2V4LhsDjs7Gw8P17ix0uPGSle/b7x9L4ueYt/XNu31vyAlIfyLsyXDm/Hj0FFTQAiR+/pd9pzbu2kR1okQ5h8pw3Jsjj6QYv8xcXHxkydPflK4fv16hFBmZiZCyMLCgl5uYWHh5eWVkZFBpFgREREivyKEpKSkEEI9PT0IoZycHG1tbSK/IoS0tLRkZD6+BUtKSp4/f55Go1VXV1dWVpaVlT1//ryvr49R3Wlsbs9+WfGTiSaxOHGcVB9loLO7V1SIj77OBAVJTDM20uJCTW1d/f0D7OxsCKGGpnZuTg5Bfm4csQYTFuSlP544VrKXTGlpxzs7jRDafjAmPPbp6T8crc0YeVlma1tncUm1gZ4KsSg7Rry/f6C4pJqFhUVV+ePOJisj/qagknhcVd3wh/8FSXFhr63LSSSGfXHox9HQ1J71stzC9OMnTuVxUn2U/o6u/zlkGI75R8pwHZujDFzu9I+RSCSNz5BIJIRQW1sbQkhc/K+rhNjZ2YWFhTs6OohFbu6/dlBi6pi4fKCtrU1YWHhwlMGVXL9+febMmbNmzXJ3d3/w4AEXFyO/P/PufbPzzvDaxlZi8UVhlagQX+iVFLuNx+nrvH5bM0EBy8VBGsqyHOxsWa8qiMVneaU6agqsrHh3ywfpBUqzd3T3fvyY8qq4RkSQF3d+9Q9JOhv7NMzXyXbuZMbW3NDYGnj0SnNzO7FYVlErwM9T/Lb6dPhNGo1GLxwjI4YQamnt+PPgRWlJkd3bV/BwczK2JT+IyvdNK7eHvm/4eMjkFVaJCfNhza9oOI6UYTk2Rx94vhhJUFAQIdTY2EgvoVAoLS0tn6TPzwkLC3/48D+XjLe2fjyAs7Ozd+zYMXfu3JSUlIyMjIiICG1tRl5boa0qr6ksu8X3UlF53f20138cv7Z51Zy509XTc0tOXHxYUf0hIu7pldtZ65eZMTAoHQ8XaamFgfv+6OevKxMf5x+78OCXpaY4Ag1moDmOi4u06c+Lbyvr76W99jmWgPvWAUXldQfDbm9eNXeKllL9h3bij1GVj1eUURwrfTL0RnVN4/P8t5HR922sjYyna7S0dkbFPKita7p9P+tJ2suFVtMRQpGX7lOp1F9WW/X29rW2dra2dvb2MmxG5Aehq6agrSLntvdCYVnt3dTXPkHxHk7muIMy/0gZlmNz9IGJYkYyMDBACCUmJhLnYonHAwMDenp6X99wypQpYWFh9fX1kpKSCKGSkpKqqipdXV2EUG5uLpVKdXNz4+fnRwgNDAykpaUhhKhUKkM+UbKxsZ7zX7vz0FVLl8M83KQ1djPWLDFhYWEJ9XU+EJp04EySnLTIid8cJ2uM+++x/pbvFlsPv2jr9UECfNxeLhZW+C/O5OfluhrkuvNw7KxVB/l4OFctmu62Eu9ta5KSXwwMUAPCbweE36YXtmQFM6RyVlbWbZvtw8/f2vXHWS5Ojp/mGPw014CFhWXXtuXnou7evpclLibk/qut4lhpGo2WmVPY19e/eccJ+uaLF85YYmPCkJb8INjYWKMCXbYfuDLXOZCXm+Sy1HQdU3IP848U5kccfVjoU0lgKL55dydPT8+bN2+uXbtWX1+/oKAgODhYQ0MjIiKClZX1k22rq6tnzZq1f/9+GxublpYWKysrISEhNze3gYGBw4cP19fXz58/38/PLyMjw9HR0dra2tbWtq2tLSoqKjMzk0aj5eTk8PF9e26qrWeA8c/CV3FysDE54rDsw8Q8PzPdK6hnckSE0BxVSeYHBaMJlcrsw5OVldnHJteXx6owUcxgvr6+GzZsuHHjhouLS1RUlKOjY0hIyDeHm8LCwpcuXZKVlfX09Ny3b9+KFStUVD5evWJoaOjt7Z2bm7t27Vo/Pz8ZGZng4GCEUE5ODvbOAAAA+A9gFDvKwSgWExjFAjAUMIoFAAAAAONBigUAAACwgBQLAAAAYAEpFgAAAMACUiwAAACABaRYAAAAAAtIsQAAAAAWkGIBAAAALCDFAgAAAFhAigUAAACwgBQLAAAAYAH3KB7luvqY/fqyMf0GoT+IYTlUX7xrY3JELQUhJkcEWDF/v2X+/cPhHsUAAAAAs0GKBQAAALCAFAsAAABg8eUpZITev3//ze1lZGQY1xgAAABg9PhaijUzM/vmeeOCggKGtgcAAAAYJb6WYvft28f8S7MAAACA0QG+tDPKwZd2Rg340g4YiX7wL+18bRQ7WHNzc1hYWFpaWmNjY2ho6P3791VUVGbPns2YBgIAAACjzpCuKK6qqrK2to6JiZGUlGxqahoYGCgvL9+4cePjx49xtw8AAAAYoYY0ivX39xcVFY2MjOTh4Zk0aRJCKDAwkEwmnzp1ytTUFHMLAQAAgBFpSKPY9PR0V1dXAQGBwXPc9vb2b9++xdYwAAAAYGQb6q0n2Nk/He/29fXB9cYAAADAlwwpxU6ePPn06dPd3d3EIgsLC5VKvXTpkq6uLs62AaYi91GMlu17mvNxZuLhswKTFftlZ7ibrNh/P+01E6JPtfd9mlOMOxChl0xx2xulMHObyrydwRcejMqICKGbj/JFDNzof6s8wxhYeWNTu3fAJauffRe7+B+PSCL3URBC9Y2tO3zPmy//ffmvhx6lvaSv/OBp/vINgebLf999IKq1vYuBzUAIvW9oXbUjdNys7Wrzd+06HNtLpjC2/i+BnRYHrDvt38LazSGdi/Xw8Fi2bNncuXMNDQ1ZWFjCwsJKS0srKysvXrzI2NYML09Pz8zMzIcPH35SbmZmZmBg4Ofnh7sBx44dCw4OLioq+vpqcXFxXl5eDx48kJWVZVToXjJlnXdEYVktsVhW1bhqe8jO9ZY/zdBMSn7huD30WcxueRlRRoX7PPra3X9FZwLvo/G5Be+un9xYVdvs+nuknLTIglk6oywiQqiovG6e8aTDXsuIRS7OoX6D4JtoNJpP4CV+Xu6je9d0dPT4n4hnZWVdu2KO5/5IGQnhkIOuea/LfY9eVZCVUJSXLHhbfeBEgruL9fix0kfDb/oFx/ntXMnAlvzsGSrIz5N0ZktLe5fb3ihWVta9mxYxqv4vgZ0WE3w77Zdg7eaQWj9x4sTY2Nhjx45lZGSwsbGlpaXp6+v7+/srKyszqh1g6ExNTS9fviwhIcGoCovKatd5nxv89bX3Da2OC6evX2aGEHJdbnbo7J3nbyoxpdjCstq1uyOY+dW5rh5y5LX0K0HrtVTktFTkCstqQ2KSsb53MD8iobiiTlVJWlJMgOE1v3v/4U1xVVyop4gQH0LIeanZyfO3NVUVGj60Bf+5lpeHS36MeEbu29dF7xTlJeNvPTOdNsncVAchtGvjYvv1gbX1zdKSIgxpydvK+qyXFUW390mICiCEvNZZeAfF406xsNPig2+n/Vu4uznUc7Fjx44NDAx8+vTpq1ev0tPTjx49Cvl1uIiIiGhra5NIJEZVmJpbMl1vwq0wD3qJkd4EX3dbhBClf+DC9fS+vn5dNQVGhfs0+vMS48kT74Z7fHtVBnlVXEPpHzDQVCQWp2gr5ryupFKpoykioai8TkmeYR/FBhMR4juwexWRXwmd3eS81+V6Goq8PFxEie+OFVZz9BFCb95WaamOJQolxIQkxATfvK1iVEskRQWuHnUl8iuhvbOHUZV/Cey0+ODbaf8W7m4ONcV2d3dHRUVt2bJl9erV27Zti42N7evrY1QjRgR/f39NTc2Ojg56yYkTJ/T09Hp6ejw9Pc3MzOjl1dXVysrKcXFxCKGMjAxlZeX09HRnZ2ctLa3p06cfPHhwYGCAWJNMJu/fv3/69Ok6OjpeXl5kMnlwxCtXrtjY2Ghra2tqai5YsODWrVtEeVxcnLKycnV1NaO65mxr7LvFlofr05xdVtUoO8N9s+/Fravn4ZslXr3YeJ/730THp76pTVSQl8TxcQpHXESgl0xpbmPwCcLhjYgQotFoJZUND58V6Nv+obvo99+Dr/VR+hlVOT8vt4H2BOIxlUqNv5WhN0nxfX2LuJjg6Qt3Frv4r/YIfpL5hlihqaVDVISfvq2IIF9jUzujWiLIzzNrqhq9JSExKTP0sX/6h50WE6w77d/C3c2h3nrC0tJy7969r1696urqev78+a5du+zs7FpaWhjVju9H/2eI8sWLF5PJ5Nu3b9PXvHbt2vz587m5ub9Z59atW/X09E6dOmVpaRkaGnrlyhWifNu2bTExMevWrTty5EhbW1tERAR9k6ioKG9v79mzZ58+fTogIIBEIm3durWuro6hff0GMWG+e2e3Hthm5x+SdONhHjNDY9XdSyGR/jpFwsnBjhAi92E8kpkfESFUXdfS3dvHycEevt/5j40Lr9zO9j6agCPQqcg7xeXvVy+f09NLvv0ot7OrZ5/nyrkm2j4B0YUlNQghch+F/haGEOLgYMP0vulzNOFFUdXu9VY4Kh9esNNigrubQzoX6+fnx8LCkpCQoKKiQpTk5+e7ubnt37//wIEDjGrK96CmpkZdXf1v/6WkpKSjo3Pt2jU7OzuE0PPnzysqKoZ4DZSdnd2GDRsQQlOnTr1///7jx4+XLl369u3bO3fu/Pbbb8uWLUMIGRsbW1lZlZSUEJtUVVWtXr3a1dWVWBwzZoyNjU1OTo6FhcV/7+YQCfBxayrLaSrLFZXXhVxJtjLTZlporLhI7H2DDiEypR8hhHVEwvyICCE5aZHSe35CAjwsLCwaE2WpNNovPud9N9uwsTHyV6JPR965mpju426vKC/JxsYmyM+9Za01KyvrREWZFwWVN+9nqYwfQ+JgH5xTKZQBLk7G993nWMLJ6Mfh+5zUxo/CX9iEnRZTRNzdHFKKTUtL8/X1pedXhJCWlpa7u/uff/7JqHZ8J8TFxU+ePPlJ4fr164kHtra2e/bsqampGTNmTHx8/Lhx43R0hnRWfPBqUlJSxNefsrOzEUL0GWZWVlZzc3N6ivX09EQItbe3l5WVVVZWZmRkIISYNjlfWFbb0tY1VWc8sag8Tir1eQlzQjOBtLhQU1tXf/8AOzsbQqihqZ2bk0OQ/9uzESMoIkFYkJf+eOJYyV4ypaW9S0yY/yub/CNBYTev3cnctXGxyRR1hJCoMB8LQqysH98N5WXESivrEEJiIgLNrZ30rZpbO0SF+f62wn9t+8GY8Ninp/9wtDbDfj3OsICdFlM43N0c0kcDHh4eDg6OTwpFRETY2NgY1Y7vBIlE0vgM/cIiYlr42rVrZDL51q1bNjY2Q6yWi4uL/piVlZW4dretrQ0hJCwrEq49AAAgAElEQVQsTP+XuLg4/fG7d+9+/vlnfX19BweHsLAwYr6aab9ZcefJyy37L9HD5RdWTRwryZzQTKChLMvBzpb1qoJYfJZXqqOmQE8MoyMiQuhBeoHS7B3dvR8/lr0qrhER5GXgW1VEzMPrdzO9tyyZZaRJlKhNkCuvqh8Y+HipSGVNo5SEMFH+srCSKGz40NrQ1K42QY5RzUAI+YcknY19GubrZDt3MgOr/a7ATosJ7m4OqaIVK1YEBQU1NDTQSzo7O0+fPr106VJGtWNE4OXlnTdv3q1bt548edLd3b1gwQKinIWFhX4FE0KIfo+OryOS64cPH+glra2txAMqleri4tLU1HT16tW8vLzr16+7uLgwrBtDYDdPv/5D+x/Hr5e+awi7knLldvamVXOZ2QCseLhISy0M3PdHP39dmfg4/9iFB78sxXurbeZHRAgZaI7j4iJt+vPi28r6e2mvfY4lbFzJsJ/GqqxuOH/18fKFMzRUFJpaOoi/WUaaNBrtSOj16tqmhNsZGbnFlrMnI4QWmBvcS85LfJBdWlG371jsVD1lRn1jByFUVF53MOz25lVzp2gp1X9oJ/4YVfn3A3ZaTHB382sTxY6OjvTH5eXlc+bM0dXVFRMTa2try8nJoVKpMjKj8JzH1y1evDguLu7cuXPTpk2TlPw4sOPl5W1paSGTyZycnAihnJycoVQ1ZcoUhNDt27ednZ2JkkePHhEPWlpaysvLd+7cqaGhQZSkpKQghJhwxTxBRlL4SpDrrsNxoTHJctKiYfuctVQYOewYdr5bbD38oq3XBwnwcXu5WDDhNDPzI/Lzcl0Nct15OHbWqoN8PJyrFk13WzmLUZU/zSqgUqmRsY8jY//6ua3HV/8M2ON0OOS6k/sxKXEhny32ExVlEELqyvLu6xacvfygvbNHX3P81vULGdUMhFBS8ouBAWpA+O2A8L8uRWzJCmZgiO8E7LSYYO3m136SfeXKb9yBhYWF5fz58wxszfAa4t2d5s2bV15efvjw4fnz5xMlqampzs7OVlZWixcvLi4uPnv2bH19/Z9//mljY5ORkeHo6Hj+/HlDQ0NiZeJZjYyMRAh5e3vHx8e7ubmpqqpeu3bt3r17vb29xN2dzMzM2NnZPTw8BAQEnjx5cv78eQqFsnv37pUrV/6juzvBT7KPGvCT7GAkgp9k/yIiDYBPmJqaNjc3D/45+unTp+/YsSMyMvLOnTvq6urBwcFDnEL38fERExO7cOFCW1ubsbHxL7/8cuTIEeJfJ06c8PX19fT0JJFI48ePP3ny5L59+7Kzs7/5uQcAAMB34muj2K/r7u7Ozs6eMWMGYxv0naPRaBYWFkZGRjt37hzutgwJjGJHDRjFgpEIRrHfVlNT89tvv2VmZn7+pZGCgoL/0rIRpLOzMyIi4uXLl1VVVTCUBAAA8E1DSrH79+9//vy5nZ3d8+fPubm5tbW1U1NTi4uLjx07hrt93w8uLq7o6Ggqlbpv3z45uVF17Q8AAAAchjRRbGho6Obm5uDgcOHChYcPH4aHhw8MDDg7O48ZM2bfvn1MaCX412CieNSAiWIwEv3gE8VD+l5sV1cX8bs6ioqKb968QQixsbEtX7782bNnDGohAAAAMNoMKcVKSEgQd0hQUFBoa2trbGxECAkJCTU1NeFtHQAAADBiDSnFmpiYHDlyJDc3d8yYMVJSUuHh4Z2dnbGxsfR7LwAAAADgE0NKsRs3bhQQEAgKCkIIbdmy5dy5c/r6+jdu3HBycsLcPAAAAGCk+gffi21oaJCQkEAIZWdn5+XlaWpqGhgY4GwbYAC43GnUgMudwEj0g1/u9O9vPQFGBEixowakWDAS/eApdqg/A/C3WFhYzp079+/aBAAAAIxuX0ux3/z0ASNgAAAA4EtgoniUg4niUQMmisFI9INPFEOKHeUgxYKR5W1dJ/ODTpDiY37QH8QPnmKH9KUdAAAAAPxTkGIBAAAALCDFAgAAAFhAigUAAACwGNLvxSKEmpubw8LC0tLSGhsbQ0ND79+/r6KiMnv2bKyNAwAAAEauIY1iq6qqrK2tY2JiJCUlm5qaBgYGysvLN27c+PjxY9ztAwAAAEaoIY1i/f39RUVFIyMjeXh4Jk2ahBAKDAwkk8mnTp0yNTXF3EIAAABgRBrSKDY9Pd3V1VVAQGDw943s7e3fvn2LrWEAAADAyDbUy53Y2T8d7/b19TH/G74AAADASDGkFDt58uTTp093d3cTiywsLFQq9dKlS7q6ujjbBgAAAIxgQzoX6+HhsWzZsrlz5xoaGrKwsISFhZWWllZWVl68eBF3+wAAAIARakij2IkTJ8bGxhoaGmZkZLCxsaWlpcnLy0dHR6uqquJuHwAAADBCwc8AfL9oNNp/P9s99J8BIPdRZq066LfVzkhvAkKouq55q9/l1OdvpcQFd623Wjh7qCcF/unPAPSSKdsOxFx/mMfNyfGrw6xfHWb9o83/HeYHHZZullU1bjtwOSO/TEiA18XeZONK7F9kf9/Q6hV4NSW7mJuTY9Ec3T2u1lycHP+ohm/+DEAfpd9x87Ftv1jraSghhApKqg+eul5aWaekILlljZWGijyxWuytZ5GxKW3tXRqqCjvWLxgjJfqVOv/pzwDATjt0/zTFkPsou4/EX72TTeJgd7Cesnu91T99G/zXb5tLNp8UE+I78dvKf7rhv/xJdrr3799/6V8yMjL/tDUjmqenZ3x8/N/+y8DAIDIyklGBcnJyTp06FRISwqgKv66XTFnnHVFYVkss9vcPLHM/pSAj9jByR2rO2/U+55XHSakqYXmtvY/G5xa8u35yY1Vts+vvkXLSIgtm6eAINLxBmR+RSqXabz6po6aQfMGztKpxza6z0uKCdvP08UWk0Wg/e4YK8vMkndnS0t7ltjeKlZV176ZFDAxB7qPsCYgue1dPLDa3dm7YHTrbSNN70+K0nCI379DoYHcpCaH058XBZ2/9sXWp/BixE+dub/ONvHhsMwObATstPl6BsU+yi68ede3sIq/ZHSEnJfKzjRHuoAih2LvZ91JfL7MwZGy1Q0qxZmZmX/pcUFBQwND2fO9cXV2XLl1KPD5x4sSbN2+Cg4OJRT4+Rv4e1pUrV0pLSxlY4VcUldWu8z43+MPmvbQ3NfWtSWe28PNxT1CQfJD+JvNFOY4U29VDjryWfiVovZaKnJaKXGFZbUhMMu7DmPlBh6WbDc0dGhNlAz3t+Xm5lOQlTPSVn+WVYU2xbyvrs15WFN3eJyEqgBDyWmfhHRTPwBRb9q5+T0D04B016eFzQX6eHesXsrGxjpWTyMh9G3vr2YZV89KyCw11JhgbqCKE1i6fs9ztSGtbl5AgL0OaATstPi1tXReup8cf/1VPfSxCaMOKmdmvK5mQYlvauryDEnTVFBhe85BS7L59+wan2O7u7uzs7IyMjH379jG8Qd85eXl5efmPM1EiIiIkEklbW3t4m/TfpeaWTNebsGu9lbyJx8eS529nTJ7Iz8dNLEYedMEU+lVxDaV/wEBTkVicoq0YePYOlUplZcV492zmBx2WbkqJCYbvd0YI0Wi0jBdlabklATvs8YVDCEmKClw96krkV0J7Zw8D63/+qlxPQ9F1pfkMO2+ipKauWUVpDBvbx6dx/Djpl4WVCCFBfp67KfkVVQ2yMqJJD59LSwjTd+b/DnZaTBERQs/yywT4uKfrTiAWN6+aiy/WYHuC4u3nG9Q1tjG85iGlWBsbm09KVqxYsX///hs3bsDdnehSU1OPHz9eVFTEzs5uZGS0detWaWnp1tZWY2NjJycnd3d3YrWenh4jI6M1a9asX7+eTCaHhobeuHGjpqZGWlp68eLFa9asYWVlpU9HKysr79+/38bGprq6+ujRo2lpaS0tLQICAsbGxl5eXsLCwgxpubOt8ScllTUf5KVF/zh+LeZWlqgg7w6X+fNNtBgS6xP1TW2igrwkjo/7obiIQC+Z0tzWJSbMjyPccAUdlm7SaVp7V9e1mBtNsjbD+3FQkJ9n1lQ14jGVSg2JSZmhr8zA+hfPn/JJiYgw39uKWvpifWNra3s3QmiJ1bTM/JIlrofYWFm5uDjO+P1CT8P/Hey0mCIihCpqPshLi0QnZhyOuNtHGVhuNcXDaS7WpI4QSskqSsstSb2008PvMsMr//dNNzMzg3sU0yUkJDg7O0tLSx86dMjLyys3N9fe3r6pqUlISGj27Nk3btygz27du3evu7t74cKFNBrtl19+CQ0NtbOzO3Xq1Lx5844cOeLj44MQcnV1NTExERcXv3z5sqmpaU9Pj6OjY2lpqY+PT1hYmKOjY2Ji4uHDh/F1p6uHfCkxo7W9Jypg3ZL5Bk5e4bkF73AE6u6lkEh/fc7j5GBHCJH7+nHEGsagw9JNuvP+ay4dWveyuHrn4VjmREQI+RxNeFFUtXu9FdYoZtMmvS6qSriT2T8wkP68OCXjDaV/ACHU2NTR19f/h8fS0IPrdScp+hy6TO6jMCoo7LT4dHWTS6saI+JTj+1x+GPTwjOXk09ceoQ1Yi+ZsmV/9MHtS7i5SDjqH+ov7XwuPz//81s+/ZioVGpAQICRkVFgYCBRoqurO3/+/LCwsO3bt9va2iYlJWVkZEyZMgUhlJCQMG3aNGlp6eTk5LS0tEOHDllYWCCEpk+fzsXFFRQU5OjoOGHChMGz0AUFBVJSUv7+/nJycgihKVOm5OfnZ2Zm4usROxubiCBvwI4lrKysWipyz/JKz8en6qjKMzwQF4m9b9BBS6b0I4R48Ozrwxh0WLpJp6OmgBAi9/W77Dm3d9Mi+rgEH59jCSejH4fvc1Ibj/dySCUFqZ1uNoFnrvudiJ84Tmbx/KnZL0sRQn4n4mdOmzTPVBshtHfrUiun/SkZb+YYM2YmBnZafNjZWTu6ekP2/iwnLYIQqq5rCb/65NcVGK+d9g9J0laVp8++MNyQDjYvL6/Bi1Qqta6uLisra/HixXhaNcKUl5c3NjZ6eHjQS+Tl5XV0dIgsOG3aNBkZmWvXrk2ZMqWuri49Pf3gwYMIoczMTHZ29nnz5tG3sra2DgoKyszMnDBhwuD6VVVVL168SKVSKyoqKisrS0pKysrK+vsxfpyUFBVgYUH0+ZnxCpJvSmpwBJIWF2pq6+rvH2BnZ0MINTS1c3NyCPIz7LTZdxJ0WLrZ0NSe9bLcwvRjXlEeJ9VH6e/o6hUVYuR1eZ/bfjAmPPbp6T8crc2wX32KELKaPXn+TN2Wtk4xEYGjZ5NkJIQRQoUlNc5LZhIr8HBzysmI1Ta0Mioi7LT4SIoKcnFyEPkVITReQaKGcS/c34q797yhqV12hjv6/zH69Ye51SmHGFX/kCaKM/5XdnZ2a2vr2rVrP0m9P6zW1laEkJiY2OBCMTGxjo4OhBArK6uNjc2dO3d6e3uvXbvGx8c3Z84chFBbW5uwsDAbGxt9E3FxcYQQsdUnzp49O3XqVHNz8507d2ZmZnJz493R9SaNLSitHRigEovFFXVy0l/7WuG/pqEsy8HOlvWqglh8lleqo6aA+9QL84MOSzcr3zet3B76/v/fofIKq8SE+XDnV/+QpLOxT8N8nWznTsYaiJD9onTXgYtsbKxiIgI0Gi09p0hPUwkhJC4qUFbVQKzTR+l/X98iI8mYCxcQ7LQ4TdYY20umlFR+fO2Ky+vp6RaTG6c2pV7amRLllRLl9dMMjZ9maKREMTKvDWkUGxISoqSkxMCoo4yQkBBC6MOHD4MLGxsb6Zcj2djYHD9+PCUl5datW/Pnz+fk5EQICQoKtrS0DAwM0LNsQ0MDQujzi5hu3Ljh5+e3bds2GxsbERERhNCmTZtevnyJr0e2c/UCwm9vOxDzq8OsxxkFD9Le3AnfiiMQDxdpqYWB+/7o494OtY2txy48OO7tgCPQ8AYdlm7qqiloq8i57b3gu8X2XW2zT1C8h5M51ohF5XUHw25vWTV3ipZS/Yd2olBSTODrW/0X8mPEnmQWXE16NlV3woW4Jx2dPRZmugihBXP1z8Y8kpcRk5cRO3vlEQ83J/EFHoaAnRafCQqSc6erb/jjQuCOJfVNHUHn73k4491p5QelcD4eLoSQopw4A+sfUopdvny5l5fXwoULGRh4NBk3bpy4uPjNmzcXLfr4FcCqqqq8vDxHR0diccyYMVOnTj1//nxBQcHvv/9OFBoYGISGht6+fZs4F4sQun79OkJIT08PITT402JOTo6AgMCaNWuIxa6urpycHKwnwvn5uGOPbth6IMZ4+T5ZKZFQXyctFTlMsXy32Hr4RVuvDxLg4/ZysbDCfNXrcAVlfkQ2NtaoQJftB67MdQ7k5Sa5LDVdtxTv9f9JyS8GBqgB4bcDwm/TC1uygvFFlBAV3LdjxdHwxKPhiZOU5YP3ruHh5kQIOSyagWgo8MyNto4uTRWF43+u5iT9s5tMfR3stPic2btqx8Er812OcHOR1tjNcFliwoSg+AzpBopGRka+vr4mJiO7qwzn6emZmZn58OFDhFBcXJyXl5elpaW1tXVLS0twcHBPT09CQgIx94sQSkxMdHd3V1JSSkpKIkpoNNqqVatevnzp5uamoqKSmZkZEhJiZWXl5+eHEPLz87t48eKxY8dUVVWfPn3q5eXl5OQ0c+bMhoaGsLCwwsJCQUHBjIyMbzZy6DdQZJR/egNFAAb75g0UcfinN1AEQ8f8e/Qy/1dW/+sNFDdt2nTgwIGOjg4VFRUeHp7B//rRbqD4JTY2Nry8vKdPn96wYQMfH5+xsbG7uzs9vyKETExMWFhYBn/DmIWF5fTp00ePHo2IiGhubpaVlXV3d3dycqJXmJycvGHDho0bN65du7a6ujo2NvbixYuSkpImJibLly/fs2dPaWkpTOADAMB3a0ijWHV19YGBgb/9aPCj3UDxX0tKStq+fXtycrKoKJbrhr4ERrFgZIFR7CgDo9hv+/PPPxnWlh/P/fv3X758GR0dbWNjw+T8CgAAYBh9LcU6Ojr6+PgoKSnRr+IB/0J1dfW5c+f09PS2bds23G0BAADAPF+bKFZRUYmJidHU1GRmgwBjwUQxGFlgoniU+cEnivF+jxgAAAD4YUGKBQAAALD4xuVOGzZsIJG+eN9nFhaW+/fvM7pJAAAAwGjwjRSrpqZG3LEPAAAAAP/It0excLkTAAAA8C/AuVgAAAAAC0ixAAAAABZfS7GLFi36/IfVAAAAADAUQ7pHMRi5OslUJkdkZ4OpETDCZJe1MD/oZMUfYgADt54AAAAAAONBigUAAACwgBQLAAAAYAEpFgAAAMACUiwAAACABaRYAAAAAAtIsQAAAAAWkGIBAAAALCDFAgAAAFhAigUAAACwgBQLAAAAYAEpFgAAAMDiGz/JDn4EtQ2tOw/HPs15y8XJsXCWzq71VlycHMS/yqoaTRz8qpIDmdCMJZtPignxnfhtJRNilVU1bjtwOSO/TEiA18XeZOPK2aMvIkLofUOrV+DVlOxibk6ORXN097ha019ZTHrJlG0HYq4/zOPm5PjVYdavDrOwhiNg7eaH5vYTEYl5r8pJJHbTaRrOS2eTSBwvCypOnrtV9b5RRkp0ncM8XU2lwZtExT2uqWve7mrDqDYMRu6jmK48cHC7nZHeRBz1D8b8nfbizWe//hE1uISFhaUp4yjuuAQcb0EjNcU6OTm9fv366dOnJBLpk39ZWVkJCAhERUX97YbHjh0LDg4uKipCCK1cuRIhFBkZibu13zMajea8M1yQn+fGqU0t7d2b/rzIxsb6m9tChFBNfcuKrad7yRQmNCP2bva91NfLLAyZEItKpdpvPqmjppB8wbO0qnHNrrPS4oJ28/RHU0SEEI1G+9kzVJCfJ+nMlpb2Lre9UaysrHs3LcIa1PtofG7Bu+snN1bVNrv+HiknLbJglg7WiFi7SaPR/jgUzcfLdej31R2dPQGn4llZWeysjPYciFq+yMTYUO1R2kufgKjww5vERQWJTR6mvjh/5dEsYy2GNOATvWTK2t0RhWW1OCr/xLDstItm686aokY8pgwMLHQ9Nne6OtaIdJjegkbqRLGtrW1bW1tKSson5a9fvy4uLrazsxuWVo1EJZUN2a8qju5erqIoPVVbydNlfuzdHIRQUvKL2T8f5ORgxoewlrYu76AEXTUFJsRCCDU0d2hMlA30tFeSl5g7Xd1EX/lZXtkoi4gQeltZn/Wy4ri3g6qS9DSd8V7rLGLvZGON2NVDjryW7udhq6UiZzlTa+PK2SExyVgjIszdrHr/oeBt1bb1NmPlJDVUx65aMuvh0xevi96xsbEusTaSlhRZvsiEg4O94G0VQmhgYCAo9HrgyXgZSSy/UldYVjvHKaC85gOOyj83LDstNxdJUkyA+LtyK4tGo/n8ao07KML5FjRSU+ycOXMEBQWvX7/+SXl8fDwfH5+5ufmwtGokkhDlv3xkvYSoAL2kvbMHIXQv9bWni4XvFlsmtGFPULz9fAPlcVJMiIUQkhITDN/vzM/LRaPRnuWXpuWWGOlNGGUREUKSogJXj7p+/sri86q4htI/YKCpSCxO0VbMeV1JpeL9xWKs3RQR4tvn5SgsxEcv6eomC/DxtHd0P8l4TaPRUrPe9PT0jZOXRAj19PaVVdYf812nOlGeUQ0YLPV5ifHkiXfDPXBU/rlh2WnpWtq6gs7f995gzUnCe2qDgO8taKSmWE5OTktLy8ePH3d2dtILKRRKYmKihYUFNzd3amrq8uXL9fT0DA0NPTw8amu/MbXy5MmTSZMm7dq1i0ajUanUw4cPm5mZTZo0yczMLDAwkEKhtLa2qqmpRUREEOvX1tYqKytv27aNWKRSqYaGhqdPn0YIVVdXb9++3cjISF1dferUqdu3b29paaG3MCAgYMaMGZqamqtXr05ISFBWVq6urib+m52d7eDgoKWlZWBgsGPHjubmZqI8Li5OTU0tPz/f3t5eQ0Nj5syZYWFhjHomBfl5zKao0nsReiVlxuSJCKHDO5etWjSdUVG+IiWrKC23ZNvqeUyI9QlNa++f1hzW1xhnbaY9+iIK8vPMmvpxzo1KpYbEpMzQV8Yasb6pTVSQl/T/Mx/iIgK9ZEpzWxfWoFi7ycfLra89gV75tdsZOhqKGqoK1uaGew9fnrf8t98CLm12sZaTESdWDtq7VlEB1yfF1YuN97nb8nB9emoMN+YfJgih8NinUuKCuM8yELC+BY3UFIsQsrW1JZPJd+7coZekpKQ0Nzfb2dklJCQ4OztLS0sfOnTIy8srNzfX3t6+qanpS1VlZWX9+uuvVlZWf/75JwsLS0hIyKVLlzZs2BAeHr5s2bKwsLCTJ08KCQlpa2unpaURm6SnpyOEsrM/Tknl5+e3traampr29PQ4OjqWlpb6+PiEhYU5OjomJiYePnyYWM3b2/vcuXMODg7Hjx8XExPbs2fP4Db8/PPPXFxcR44c2blzZ2ZmpqOjY29vL/FfKpW6efPm+fPnnzlzRldX98CBA0+ePGHo04kQQr8HX39ZXL3zF0uG1/wlvWTKlv3RB7cv4Wb6GwdC6Lz/mkuH1r0srt55OHa0RiT4HE14UVS1e70V1ijdvRQS6a8zC8RZBnJfP9agg2HtZkjU3ZLy9072s3t6+2rrm1cunhnsu275IpMTEUnvahpxRPxOMH+npdFokdfSXOxmMCEW7regkXq5E0JIXV1dVVX1xo0btrYfJzOJQaG6uvr69euNjIwCAz9eB6urqzt//vywsLDt27d/Xs+LFy/WrVtnbm7u6+vLwsKCEMrMzJw0aRJRrYGBATc3Nz8/P0LI1NT05MmTFAqFg4MjPT1dXV399evX1dXVsrKyT548GTNmjLKyckFBgZSUlL+/v5ycHEJoypQp+fn5mZmZCKF3797Fx8fv2LHDyckJIWRsbPzhw4enT58SzQgMDBw3btzp06fZ2NgQQlpaWhYWFrGxsStWrEAI0Wg0V1dX4hyznp7evXv3Hj9+bGxszMDn84/ga6cvPw7Z+7OqkgwDq/06/5AkbVV5+iiEyXTUFBBC5L5+lz3n9m5aRMJ/4pn5ERFCPscSTkY/Dt/npDYe7yvLRWLvG5RQyZR+hBDTRl1YuxkSdScuKX335iXj5CUjLt9HCK1cPBMhNEFRprCkOv5W+qY1zDhlOCyYv9PmFrx739BqM1cPdyCE/y1oBI9iEUK2trYZGRn19fUIodbW1kePHi1evLi8vLyxsdHS8q+hmLy8vI6ODpHnPvH+/fu1a9fSaDRvb29W1o/PhqGhITHPHBoaWlJS4uDgsGDBAoSQiYlJd3d3fn4+QujZs2erVq3i5ubOyspCCKWkpJiamiKEVFVVL168OGbMmIqKiuTk5LCwsLKysr6+PoRQRkYGjUabN++v6Qh6I3t6evLz801MTGg0Wn9/f39/v5ycnJKSUmpqKn1lHZ2PcyYkEklERKS7u5uBz6RnwNUTlx6d/G2lFRPnghBCcfeeJyW/kJ3hLjvD/crtrCu3s2RnuOMO2tDUnvg4n76oPE6qj9Lf0dU7miLSbT8Yczzq4ek/HK3NsM+5SYsLNbV19fcPEIsNTe3cnByC/Ny44yLM3QwOv3n1Zprnr7bGhuoIoeKy94Nng8ePla5vbGV40GE3jDvtg/SCaTrjhQR4mBAL91vQyE6xVlZW7OzsSUlJCKHExEQWFhZra+vW1laEkJiY2OA1xcTEOjo6Pq+hurp60qRJFAolODiYXrhmzRpvb+/e3t6AgAALCwtLS8tnz54hhJSVlaWlpdPS0kpLSxsaGqZNm6arq5uZmdnc3Pz69euZM2cSm589e3bq1Knm5ubEfC8398e3GOLcqqioKD0Q/XF7ezuVSg0JCVEfpLi4uKGhgb4yFxcX/TErKyuNRvsvT91gB0NvnYt/embvqkVzmPGxcbAbpzalXtqZEuWVEuX10wyNn2ZopER54Q5a+b5p5WAOMEcAACAASURBVPbQ9w0f3xbzCqvEhPlEB13SMgoiEvxDks7GPg3zdbKdOxl3LISQhrIsBztb1qsKYvFZXqmOmgL9kys+WLsZeeXhzftZuzbZzZyuSZSICgtUVv91YL573yglgeUS4uE1XDstQijnVYWBliITAiH8b0EjeKIYISQkJDR79uwbN244OTldu3Ztzpw5QkJCQkJCCKEPH/7n0vbGxkZh4b85DCZOnHj69OkjR46Eh4dbWFhoaGgghFhZWVesWLFixYqmpqbk5ORTp065ubmlpqaSSCQTE5P09HRRUdFx48aJi4sbGhrGxMQ8ffqUi4vL0NAQIXTjxg0/P79t27bZ2NiIiIgghDZt2vTy5UuEkKSkJNEwGZmPE1n0C5p4eXlZWFh+/vlnCwuLwc2jp2d8isvrAs/e2eQ4x1BLqb6pnSiUHHR9Jlby0iL0x3w8XAghRTlx3EF11RS0VeTc9l7w3WL7rrbZJyjewwnvJejMj4gQKiqvOxh2e8uquVO0lOo//P8rK4bxleXhIi21MHDfH33c26G2sfXYhQfHvR3whSNg7WZldcOFuORlC40nqSg0t378jP6Tmd4Wn9DYxLRpk1XSswuz80pO+q9nSLjvyrDstISCslq7n/B+AZcO91vQyE6xCCFbW9vVq1dnZmbm5+dv3rwZIUQkv5s3by5a9PHr51VVVXl5eY6Ojp9vLiQkxM7OvmHDhqSkpN27d8fGxrKzsy9dunTSpEm7d+8WFRW1sbHp6OjYt29fZ2eniIiIqalpbGysgICAgYEBQmjKlCmHDh2Kjo6ePn06cROMnJwcAQGBNWvWEPV3dXXl5OSws7MjhPT09NjY2O7du7dq1Sriv3fv3iUe8PHxqamplZWVETkeIdTb27tx40YTE5Px48fje/YQQreevBwYoB46e+fQ2b8uHGt8xqTbqQwLNjbWqECX7QeuzHUO5OUmuSw1XbfUdJRFRAglJb8YGKAGhN8OCL9NL2zJCv7KJv+d7xZbD79o6/VBAnzcXi4WTDjvgLWb6dmFVCo1Ki45Ku6vL/jeu7zXx2PpuZiHEZcfyMmI+XquHCsnyZBw35Vh2WkJjc0dQvzMmCVmAhYGzjcOCyqVOmvWLBKJ1N/ff//+feJ6pbi4OC8vL0tLS2tr65aWluDg4J6enoSEBHFx8S/d3Sk5OdnFxcXd3X3dunWBgYHh4eFubm46Ojr19fWHDh2Sk5MjVuvp6TE0NCSTyYcOHbKwsOjv7zcwMOjq6vL19V28eDE9tJOT08yZMxsaGsLCwgoLCwUFBTMyMhBCe/bsuX79upubm4qKyr1792JiYqhU6qNHj2RkZJ4+feri4vLTTz9ZW1sPDAyEh4fn5+dHRkZqa2sTdT548EBWVpbotZmZmYGBgZ+f3zefn04y3m8lfo6dbWSffQA/oOyyFuYHnaw4CqeXP8f8FENkAWbi+vJYdcSPYllZWRctWnT8+PGNGzfSn1kbGxteXt7Tp09v2LCBj4/P2NjY3d1dXPxrw38TExNzc/Pjx4+bm5tv2rSJRCLFxsYeP36cn5/fzMzMw+Pj1725ubkNDQ1TUlKIUSw7O/vkyZPp1zohhBYtWlRdXR0bG3vx4kVJSUkTE5Ply5fv2bOntLRUSUlpz549PDw84eHhnZ2dU6dOXb9+/fHjx3l4eBBCRkZGYWFhwcHBGzdu5ODgUFdXP3v2rLY2Uy8+AgAAwEAjfhQ7grS2tqakpBgbG9PPCvv7+8fFxREDXExgFAvAN8EoFh8YxQIm4ebm9vX1VVVVXbVqFQ8PT15e3oULF9atWzfc7QIAAIAFjGKZqqCg4MiRI3l5eT09PfLy8kuXLl2xYgXWz1wwigXgm2AUi88PPoqFFDvKQYoF4JsgxeLzg6dYeDcEAAAAsIAUCwAAAGABKRYAAADAAlIsAAAAgAWkWAAAAAALSLEAAAAAFpBiAQAAACwgxQIAAABYQIoFAAAAsIC7O41yXX3Mfn3ZWJl9axUARqLS+k4mR1SS5GNyxB8E3N0JAAAAYDZIsQAAAAAWkGIBAAAALCDFAgAAAFhAigUAAACwgBQLAAAAYAEpFgAAAMACUiwAAACABaRYAAAAAAtIsQAAAAAWkGIBAAAALCDFAgAAAFhAigUfkfsoRsv2Pc15Syw+fFZgsmK/7Ax3kxX776e9ZkL0qfa+T3OKcQcabMnmk66/RTInVi+Z4rY3SmHmNpV5O4MvPBitQX+QbhKw7rR9lP4lroezX5QSi7mvyh02HTOy3bPcLSgj7y19NVP73yZbetL/unvIDGzDsDyxZVWNtm7BsjPcJ1nuORp5nwkRsXbzyz8QAP4JJyen169fP336lEQiffIvKysrAQGBqKiov93w2LFjwcHBRUVF+Nv4Nb1kyjrviMKyWmKxrKpx1faQnestf5qhmZT8wnF76LOY3fIyoviir939V3TmiL2bfS/19TILQ+aE8z4an1vw7vrJjVW1za6/R8pJiyyYpTP6gv4g3USYd1pyH2X3weiyd/XEYnNr55a955yXzDSbPuluyguPvedjT2+VFBNs+NDW2dWbELqNi/Pj2w4316fvP/8F859YKpVqv/mkjppC8gXP0qrGNbvOSosL2s3TxxoUazdhFMsYtra2bW1tKSkpn5S/fv26uLjYzs5uWFo1REVltfNWB1ZUf6CXvG9odVw4ff0ys7FjxFyXm/Fwk56/qcQUvbCsdo5TQHnNh2+vyjgtbV3eQQm6agrMCdfVQ468lu7nYaulImc5U2vjytkhMcmjL+gP0k2Eeacte1fv5HGiuraJXpL/poKNjdXR1kRWStR5yUxOEsfLwncIofLqBjERflkpUTFhfuKPhYVhPyU5LE9sQ3OHxkTZQE97JXmJudPVTfSVn+WVYY2Iu5uQYhljzpw5goKC169f/6Q8Pj6ej4/P3Nx8WFo1RKm5JdP1JtwK86CXGOlN8HW3RQhR+gcuXE/v6+vHl41Sn5cYT554N9zj26syzp6gePv5BsrjpJgT7lVxDaV/wEBTkVicoq2Y87qSSqWOsqA/SDcR5p32+atyPU3FswGu9BJBAZ629u6Haa9oNNrj9NddPeTxY6UQQuXvGuRlxHC0AQ3TEyslJhi+35mfl4tGoz3LL03LLTHSm4A1Iu5uwkQxY3ByclpaWl69erWzs5OP7+PvHlMolMTERAsLC25u7tTU1OPHjxcVFbGzsxsZGW3dulVaWnpwDadOnQoODk5NTRUUFCRKIiIiDh48mJKSIioqWlFRcejQoZycnK6uLg0Njc2bN+vp6TGq8c62xn9bXlbVONX+z4EBqvcGa3yzxKsX/310fFKyitJyS1Iv7fTwu8yciPVNbaKCvCSOj4ebuIhAL5nS3NYlJsw/moL+IN1EmHfaxfOnfFKioz7OzmLqjv1RrCwsA1Sqz+bFY2XFEULlVQ29ZIqL5+nKmg/KijIeLpYKY8QZ1YxheWLpNK29q+tazI0mWZtpYw2Eu5swimUYW1tbMpl8584deklKSkpzc7OdnV1CQoKzs7O0tPShQ4e8vLxyc3Pt7e2bmpoGb25lZdXf33/37l16SWJiopGRkaioaElJiY2NTXV19e7duwMCAlhYWFatWpWZmYm7R2LCfPfObj2wzc4/JOnGwzzc4Zijl0zZsj/64PYljD1r9XXdvRQS6a+Ps5wc7Aghcl//KAv6g3ST+bp7+mrqml2Wzzp3aIOz/cyA0zcqqhoQQhXVje2dPauXmgXuduTkZHfdFdrVzbDLnYb3iT3vv+bSoXUvi6t3Ho7FGgh3NyHFMoy6urqqquqNGzfoJQkJCcrKyurq6gEBAUZGRoGBgSYmJgsXLoyIiGhubg4LCxu8+ZgxY/T19W/evEksvnv37sWLFwsWLEAIBQcHk0ik8+fP//TTT7Nnzw4PD5eVlT1w4ADuHgnwcWsqyzkvnuFgPTXkCvbTMMzhH5KkrSo/a6oaM4Nykdj7Bh20ZEo/QogHc45nftAfpJvMdz42GSHa2mWzVcaPcV1prq4sd+l6KkLo2B/OF49uNNSeMElZ7s+tS8l9/U8yCxgVdHifWB01hXnGGvvcbSPiUvsoGPM67m5CimUkW1vbjIyM+vp6hFBra+ujR48WL15cXl7e2NhoaWlJX01eXl5HR+fzYai1tXVWVlZjYyNCKDExkY+Pz8zMDCGUmZk5c+ZM+vwzOzu7hYXFq1evurq6MHWksKw2PbeEvqg8Tqq5FVcsJou79zwp+YXsDHfZGe5XbmdduZ0lO8Mdd1BpcaGmtq7+/gFisaGpnZuTQ5Cfe5QF/UG6yXwFJTUTxv11XklZUaa2oRUhROJg5+HmJAo5SRwyksINTW2MCjosT2xDU3vi43z6ovI4qT5Kf0dXL76IuLsJKZaRrKys2NnZk5KSEEKJiYksLCzW1tatra0IITGx/7kqQUxMrKOj45PN582bx87OfuvWLWJzc3NzLi4uhFBbW9vnm9NotM7OTkwdufPk5Zb9l2g0GrGYX1g1cawkplhMduPUptRLO1OivFKivH6aofHTDI2UKC/cQTWUZTnY2bJeVRCLz/JKddQUWFnxHn3MD/qDdJP5xEX5y9410BcrqhvHSAnTaLQFaw7cuJ9NFPb09lW9/0Cco2WIYXliK983rdwe+r6hlVjMK6wSE+YTFeLDFxF3N0fVjjjshISEZs+eTcwVX7t2bc6cOUJCQkJCQgihDx/+5/r+xsZGYWHhTzbn5+c3MzO7detWcXHx27dviVlihJCgoODnmyOEPq+BUezm6dd/aP/j+PXSdw1hV1Ku3M7etGouplhMJi8toignTvzx8XDx8XApyjHsXelLeLhISy0M3PdHP39dmfg4/9iFB78sNR19QX+QbjLfwrkGadlFUQlPquuaLl57mv68ePH8qSwsLEb6Kqej7me/KC2trPcOvCwhJjh9sgqjgg7LE6urpqCtIue290JhWe3d1Nc+QfEeTni/joG7m3BFMYPZ2tquXr06MzMzPz9/8+bNCKFx48aJi4vfvHlz0aJFxDpVVVV5eXmOjo6fb75gwQJXV9dLly7JyMgYGBgQhfr6+o8ePaJfqzwwMJCYmKihofH5bS4YRUZS+EqQ667DcaExyXLSomH7nLVU5DDF+kH4brH18Iu2Xh8kwMft5WJhhfk6yeEK+oN0k8k0VOQP7HI4feHeqQv3FMaIB/32s5KCJEJoo9NP7GysuwOiO7t69TWVgn5zYmNj5KiJ+U8sGxtrVKDL9gNX5joH8nKTXJaarsOf17F2k4U+GQgYgkqlzpo1i0Qi9ff3379/n/gmeFxcnJeXl6WlpbW1dUtLS3BwcE9PT0JCgri4+Cd3d+rv7zc2Nm5ra1uzZo27+8dzhG/fvl2yZMm4ceNcXFw4ODguXLiQkZERGho6bdq0b7anq4/Zry8bK8O+/A7AKFZaj+tEz5coSWKccf2RcX15rAoTxQzGysq6aNGiiooKGxsb+p1WbGxsjh49Wl5evmHDBj8/Px0dnatXr4qL/838JHEp08DAgLW1Nb1wwoQJFy9eFBUV9fLy2rZtG41GO3/+/FDyKwAAgGEEo9hRDkaxAHyfYBQ7asAoFgAAAGA2SLEAAAAAFpBiAQAAACwgxQIAAABYQIoFAAAAsIAUCwAAAGABKRYAAADAAlIsAAAAgAWkWAAAAAALSLEAAAAAFpBiAQAAACzgHsWjXDfT71HMyvR7FA/LPkz/jQcARgrm3xUZIaQowcv8oEzGzfHFdwMYxQIAAABYQIoFAAAAsIAUCwAAAGABKRYAAADAAlIsAAAAgAWkWAAAAAALSLEAAAAAFpBiAQAAACwgxQIAAABYQIoFAAAAsIAUCwAAAGABKRYAAADAgn24GwC+F+Q+itmqg/5b7Yz0JiCEsl6W7wmKf1NSIyUu5OYwa+WCaZjillU1bjtwOSO/TEiA18XeZOPK2ZgCDVZd37LV73JaXqmwAM8vS03XL5vJhKAIIXIfxXTlgYPb7Yz0JjInIpOD9pIp2w7EXH+Yx83J8avDrF8dZuGOiBB639DqFXg1JbuYm5Nj0RzdPa7WXJwcoywic4L2UfodNh3b/ov1ZE0lhFDuq/LAkJsV1Q3yMmKbVs831J5ArGZq/1tnVy99q5Qrv/NwczKqDTcf5TvuCKUvWplpn/NbzajK/xbWd4MfN8UqKyv/+uuvbm5uDK85Li7Oy8vrwYMHsrKyDK8ck14yxcU7orCsllisb2q333LSycbouLdDfmGV259RkqICc40mMTwulUq133xSR00h+YJnaVXjml1npcUF7ebpMzzQJ5y9wuWkRR6d21ZUXuey55yclIjlTC3cQXvJlLW7/3qSmYPJQb2PxucWvLt+cmNVbbPr75Fy0iILZulgjUij0X72DBXk50k6s6WlvcttbxQrK+veTYtGU0TmBCX3UXYfjC57V08sNrd2btl7znnJTLPpk+6mvPDYez729FZJMcGGD22dXb0Jodu4OEnEmtxcJAY2o6i8bp7xpMNey4hFLk7sSQrruwFMFANUWFZrvjqwovoDvSQp+YWEqMAeV2sleQmbuXr2PxnE3s3BEbqhuUNjomygp72SvMTc6eom+srP8spwBBqstb07+1WFh7O5krzEfBNNs6mqKdlFuIMWltXOcQoor/nw7VVHbNCuHnLktXQ/D1stFTnLmVobV84OiUnGHfRtZX3Wy4rj3g6qStLTdMZ7rbOIvZM9yiIyIWjZu3onjxPVtU30kvw3/8fencfFuP7/A7+mad/3BSmF0p4W7RHS0YKWw6HQiiItljgUElGJFtpUVE5RKlnCsbShlUhSShRatEz7Msvvj9tnzvxyOL7HXDPHOdfz4eExc8/d/brnnpn7fd/3dd/X3YrHs6y3M50hKeLy8yIOdrZnDW8BAK/bu0SF+WZIiogK8WH/6Htjx8bWjnnyUhKi/Ng/AT5uOk78c7DXBqjEIuDB41dGWnMKz/pThyzWmxe9bx3tOANDozCiJUUFko+68PFwUiiUR7XN2JzACKLFycHGzcl+oeDRJJHU9KazorZFda407NCymlfG2nNvJfv/9ag/bGhd47tJIklXTQ57qqchV/38DZlMhhoqIcKfHeUpLsJPHQLpu8rERAaE1tS91lKTSwn3pA4R4OcmDIzcfVBHoVDuP3w+PDo+W1YSAPD6bdfMaaJ0jJ7i5esO+Zni8KY/Bey1AfR9cDMzM1tb24GBgfz8/ImJCTMzs0OHDmVkZKSnpw8PDxsYGBw6dEhISAgAcOnSpdTU1Ddv3oiKitrZ2Xl6euLxeABAQEDAhw8fZGVlCwoKJCUlCwoKSCTS6dOnCwoKuru7Z86c6erqumrVpwMmv//+++nTp5uamvj5+X/66Sc/Pz9u7k8bQRUVFREREQ0NDZKSkkFBQbQzOT4+furUqWvXrvX09MyaNWvLli3Lly/HXqqrqwsLC6urqyOTyerq6j4+PhoaGt/yxmtqarZu3frq1StZWVlPT0/qBL+SZWZmtnLlytHR0fz8/KGhIR0dnf3798vKygIAFBQUPo94+ZI+W1sudsZThsycJjJzmgj2uLt38PLt6t3uP9El60vUbALbO/qWGanYmH3T4v0enBxsx3c57A67FJ9VRCKRf7Fa4LRCH3aoq/3UhcwADA7t7CGICPCws31aq4gJ84+NT/YShkWF+OCFCvBxL9ZXwh6TyeTEi8UmOn/yY/mhExkQar9cb8oQTeVZDpb6u49msOBwJDI5yMdedoYYAOB1W9fY+KRHQPybdx8V5Kb5e1jJTBej12xQKJRXb7ruPnoRmXKLRKasWKyxZ5Ml9RsFA+y1ASPaYpOTkw0NDSMjI+vq6iIiIp4/fy4uLh4cHNze3h4SEiIqKhoUFBQfHx8ZGeno6Lhnz54XL15ER0d/+PDhyJEj2BSqqqo4ODhiY2NHRkbweLyvr29RUdGWLVvU1dWLiooCAgLY2NisrKwKCgp27NhhbW3t4+Pz7t27yMjIV69epaSk4HC458+fu7i46OnpRUVFtbe3+/n5UWePQqF4eXnV1NR4e3vLy8vfvn3b19d3YmJi5cqVQ0NDbm5uenp60dHRExMTZ86ccXV1vX//Ph/fX68yAgMDt2zZMm/evNzcXF9fX3Z29iVLlnwlC/ur8+fPa2lpHT16lEAghISE7N69OysrCwCA/Y959erV/v37bW1t6fkhfcHo2MTGgCRxEf4Nq4ygBp0/5tbZM+AfmrU3MufYDgeoWQCAxtedy4xVvNYuftHyPiA8e6GuAgMagP/1RsYm2dn/WKVwsLECAMYniAybgaCovKcv2+6k7vwXJzIsdGR04l1Hr8faxcY68+4+rAuPL1BVmCkrLd7a3j0wNOq1YRkPF+e5nPuevyZdPO3Hw02f053aO/pGxiY42FiTj7q8edcTEJE9Oj4Z6m9Pl4l/CdS1ASNKLC8vb2RkJCsrq4GBQW5ubmdn56VLl7AqVVJSUlNTMzg4ePr06dWrV+/btw8AYGRkJCgouG/fPmdn5zlz5gAAiETioUOHJCUlAQCNjY03b97cu3fvhg0bAAD6+vrv3r0rLy+3tLQMDw83NjYODw/HcmVlZTdu3FhUVLRw4cL4+HgREZEzZ86wsbEBAISEhHx9fbHRHjx4UFJSEhkZie1NGhsbj46OhoeHW1lZvXr1qq+vb/369fPnzwcAyMnJZWVlDQ8Pf0uJ3bZtm6urKwDAxMSktbX19OnTS5Ys+UoWKysrAICfn//06dPY7vvbt2+jo6P7+vqEhISou879/f07d+5UU1ObsiMOw9DIuOPOhOa33dcSfLjpekbD5zSVZAAA4xNEj/3ngrevgrrdWlTxMi3/Qd3VYC5Odk2lmR+6COHJN1GJ/X6c7KwTNAV1fJIIAID9zaEKis47k3k/+Yiz0uxp/9ZERoaezykCgOL+yxIAgOLs6XUv2367UrbHa1X0IRcikYSdQnx4xxrLjaElFS8sFtLn4JO0lHDz7VBBfm4cDqc6dwaZQtkcdD7ExxaPh9WmCXttwIi2WDU1Nax+AABERUVnzZpFLVGCgoKDg4OPHz8eGxszMzMj/o+ZmRkAoKysjDoaVl8BANXV1QAAc3Nz6vSjo6ODg4NbWlo6OjpoJ6Kjo8PLy4tNpLq62tjYGKuv2J9jZQwA8PDhQxwOZ2pqSpve3d3d1NQ0Z84cYWHhzZs3BwYG3r59W1RUdOfOndQ5+Trq4V8AwJIlS+rr64eHh7+ShY2pqqpKnTEsaHT0jxYXIpHo7e09OjoaFRXFzg53zTUwNOqwPbah+UPe6W3wmka6egau3a+lPlWYJTkxSRykuR4AhtqGNrmZ4tTTINUUZrR/6IWa+B8hJSbYQxgmEknY066eAS4ONgE+LgZE7wq7GJtxN/7QehszuCcwMzGRwaEvXr2bM0uK+lRBbtqHrn4AADsbK/USHQ52tmkSQl09BDrmCgnwUM+fmisrMTY+2TcwTMfpTwF7bcCgvVjap9TGUar+/n4AgIeHx5ThXV1d2AMeHp4pI4uIiPzpRA4ePHjw4MHPJ0IgELAWXwwrKyv1aX9/P4VCwfZTp/zhvHnzMjIyzpw5c+PGjaysLE5OzhUrVuzbt+9bypuo6B9nBIiIiFAolKGhoa9nAQC4uP5YH7GwsAAAaM8WCQ4OrqmpOX/+vISExF/OwPcgk8kbApLevOu5Euc9V/abNin+njfve5x2JdVdDZ4mLggAeNLQJirEKyLI+5d/+D0kxQRet3VPTBKxfeXG1k5qwzPyPVQVZrCx4ivrWvU15AEAj540ayrJYF9jqI4lXk/JKT0b4gz7AiEmJjI+VEyEr+VtF/Vpa3v3dEkhCoWy0j3MbY2Z9RJtAMDo2ETb+49YGy1d3Hn4wmN/6rOrwdjBj7rGd8ICPFDb8mGvDf4R18Xy8/MDAMLDw7FTe6hoq9SUkXt7e6l7k83Nzf39/djwXbt26erq0o4vICAAABAUFPz48Y9LFygUCoHwacuLj4+Pm5v7/PnzU4JkZGQAAHJycmFhYSQS6enTp/n5+b/99tvMmTPd3Nz+8k0RCATq/H/8+BGPxwsICHw96+vS09MzMzMPHTr0eYWmu/QrD0urmzLCPAT4uDt7BgAA7Kx4IQGev/zD/6v5SjIaitLbgtNDfO3efugNOpXr77yM7ilTWBirBEXlbT98wd/F4tXbzsjUW/u2WMEO/S/g5mRfY6nrdzQzNtDxQ3d/dPqd2EBH2KEvX3eEnS303WCupy7f+XEAGyghyv/1v/qxEpkSutJc121XXEZeiameUnH5i4c1jRmnvHE4nJGOYnzG71LiQkICvHHpt8RFBQy1FekVqqs2i5OTffvhC7vcf2p99zEoOg92XzSw1wb/iBKrrq7OxsbW2dlpbW2NDXnx4sXx48c9PT2lpKSmjKylpQUAuHv37tq1a7Eh4eHhWPuuiIhIe3s71gIKAOjq6tq1a9eaNWtmzpypr69fXFw8OjqK7SaWlJRMTk5io+nq6iYnJ1MoFDU1NWxITk7O7du3jxw5UlhYeODAgYKCAjExMU1NTU1NzWvXrr1///5b3tT9+/ft7e0BAGQyubCwUF1dnZOT8ytZX5/agwcPjh49unr16tWrV39L+ncquFdLJlN+8Y+nDjGcP/vKme10D8LjWTIiPHYdv2TuEsHDxe6xZuGmNQvpnjIFPy9XbuzWPSdyFm8MExXi9XdZtmGVIezQ/4gQXzv/0EybLaf4ebn2eFhawz8//HrRUxKJHJ5cGJ5cSB3YVxnzb0pkSqiq4szjvzrGp9+OS78tM13s1IGN8jISAABv559Y8Sz7wjOHhsd01ORPHXCmY0MpHw9n9inPvZE5izeE8XJzbFhluM0JbgdhsNcG/4gSKyQk5ObmdurUqaGhoQULFnR2dp46dQqHwykq/snGkaKiooWFRVhY2NjY2Lx584qLi+/duxcTb6SWrAAAIABJREFUE4OdaRwYGIjH4xctWjQwMHD69OnOzk5lZWUAgJeX1++//+7q6urm5tbb23vy5Elqu6ypqamOjo6np6enp6e8vPzTp0+joqKMjY2FhYXnz59PJpO9vLw8PDx4eHhu3LgxODhI2wz8FSdPniSRSFJSUr/99tvr169TUlK+nvWVSb19+9bHx0dGRubnn3+ura2lUCjY8NmzZ085CP+desqjsQeXTnl+fUw6khITTAtzZ1gcRlFOKjdmK4NDMbDXxcwN5eZkP3Ng/ZkD6xkTBwDw3Wjuu/GbfpI/biIjQ6uuhlIfmy5QMl2gNGUEDnY2XzcrXzdYB37myTP6twl1bfCPKLEAAB8fHzExsQsXLiQlJQkICOjr6/v5+X3pxN2wsLCYmJhz58719fXJy8tHRUUtWbIEAODg4MDDw5OUlJSVlcXNzT1//vzw8HBpaWkAgKysbHp6emhoqK+vr4iIyO7du0NDP32TWFhYEhISTp06FR8f39PTIyEh4ezs7OXlBQAQFxdPSko6derUr7/+Ojo6OmfOnOjoaD29qReQ/amjR4+Ghoa+efNm7ty5iYmJ2OHrr2R9RVVVFYFAIBAIdnZ2tMPPnz+/YMGCb5kZBEEQhPFw1F0i5F9pZILRny8LCz17U/sWTPkO07fTOARhgObOIcaHyonT/xyOfxouti+uDf4pe7E/FiLxi1fTs7CwMOAUSgRBEOSfD5XYvwNr3/1Tq1atoh6CRhAEQf7LUIn9O7Kzs7/0Eu3VtwiCIMh/GSqxf4eqqiqzZwFBEAT5p0OthgiCIAgCBSqxCIIgCAIFKrEIgiAIAgUqsQiCIAgCBSqxCIIgCAIFKrEIgiAIAgUqsQiCIAgCBSqxCIIgCAIFug3Av9zQOJnBiaz0u3nkN2LKd5hEZnQo4xcsgnw/IR1G3zWS8feL5PxyH07oR4sgCIIgUKASiyAIgiBQoBKLIAiCIFCgEosgCIIgUKASiyAIgiBQoBKLIAiCIFCgEosgCIIgUKASiyAIgiBQoBKLIAiCIFCgEosgCIIgUKASiyAIgiBQoBKLIAiCIFD810ssugsCAOBDV7/znrNzzANUrffvP3l5bHwSAFBV93q5+wmZRTv0fj6clv8AXvrY+OS24AyZRTsVLfbGpN+BF0RrfGJy5/GLsxbvUrDYG3z6CqSvAXMXLACgpa3bblvMDBM/Fav9UWm/Q83CMOXTZEooAGB8YlJ/dUhpdSPDEhkcCmnBsrOxPsjcazh/DvZ05jSR3Nit7cURD7N+XbRAERtYm3+wrzKG9t9ONwvaiYTt+rkgbjtd5ud9V/+G3UmzFu9SWv7rr5E52O+UXr58g4D/gKampv3792dmZjJxHi5fvrxnz547d+7MmDGDKTNAoVBc9iYL8HEXxG3vGxjZfvgCHs+yZa3ZGt+4jbZG0fsdn75s8z58QUJUwNxQGcYMBEblPn7x9soZ77YPvZ4H06SlhFcs1oQRRGtPRE5JVWN2lOfQ8LjbvlRpSeGNtkb0jWD6giWTyat9zmgqyRSlBzS3dbv9miIlJuBgoQMji4opnyZTQsfGJ933pTa0fIAdxMRQGAuWg5018fDGefLTqEMywtzrm9+brT9uuVA9Lcxdz+Fwe2ef2YYwPB6HjbDCTPPXLVaZV8upf6KrNsvFzujB4+bvnBkAAIVC2RiQJMDHfT3Bt29geFtwBgsLS/D2Vd8/Zcx/usQWFhY+fvyY2XPBZK/edFXVtT6/dlhchB8AEOCxPCg6T3a6qLgw/74t1gAA+ZnipdVNl29WwagEw6PjafkPL53aoq4ora4o3dDyIfFiEez1Yx9hOP3Kw9zYrVrKsgAAr3WLqp6/oXuJZe6CBQB09Q6qzp0REbCaj4dTfqa4qY7CoyctUEssUz5NpoQ2tHxw35fK4CNgDA6FsWAVZkkmHt6IoxlirD1XdobYMtcTI2MTjam3THTmrrPRP5Z4vad/CBuBn4dzp9tP+07mtnX0YUPYWPEn9/5S+ez198wJVdObzspnrS8Lj2C/0z2bLANP5dKxxP7XDxQj4iJ8WSe3YF8vzMDQqJnevKj9a2lHGxgeg5Fe1/hukkjSVZPDnuppyFU/f0Mmw73H7aPaFn5eLupxKp8N5jH719E9hbkLFgAgKSqQfNSFj4eTQqE8qm1+8PiVkdYcSFkYpnyaTAktq3llrD33VrI/1BTmhsJYsIbzZ5dUNZq7RFCH6KjIPm1oGxmbwJ4+etKiozqL9k+2Oi3u/EjIKHhEHeKzcenzpvf3yl9+z5xQSYjwZ0d5Tvmd0mXKmB+4xJqZmcXExBw5cmTBggWampr+/v7Dw8MJCQkmJiZaWlrbtm3r6+sDAJBIpIyMDGtrazU1tYULF4aHh4+PjwMAoqOjY2JiAAAKCgrR0dEAgPHx8djYWAsLC1VVVXNz84SEBOr3ycnJaceOHd7e3hoaGs7OzgCAoaGh4OBgY2NjDQ0NOzu7+/fvAwCOHTumpqY2ODhIncnTp09raWmNjo4CAJ48eeLi4jJ//nw9PT0/P7/Ozs7P31RVVZWjo6O6urquru7u3bt7e3ux4WQyOTIy0szMTEVFxczMLCIiYnKSPg0GAnzcZnrzqClJl4pNtOfOnCairfLpi97dO5h7u8ZEey5d4qbo7CGICPCws306miImzD82PtlLGIaRRdX67uNMKeHMa+ULHII1Vx4IO1sIY43M3AVLS80m8Ce3SB3VWTZmGlCDmPJpMiXU1d74iJ8dNyc71BTmhsJYsMk5pb9GXh6laeyUEBXo+EigPu3uHZgmIUh9ysXB5vGz6YnUW9SzJebISLjam+yNzPme2aAlwMe9WF8Je0wmkxMvFpvoKNBr4uBHP1CcnJxsaGgYGRlZV1cXERHx/PlzcXHx4ODg9vb2kJAQUVHRoKCgwMDA/Px8d3d3bW3t+vr62NjYFy9eJCUlOTg4dHR0ZGdnZ2VlSUpKUiiUzZs3P3nyZOvWrYqKiuXl5SdPnmxrawsODsaybty4YWNjc+bMGTKZTCKRXFxcWltbvb295eTkcnNzvby8zp07Z29vn5ycXFhY6ODggP1Vfn7+8uXLubi46uvrsdp5/PhxEokUERHh6uqal5dH+3YqKyudnZ319PROnjxJIBBOnTq1fv367OxsTk7OxMTE3377bffu3dLS0rW1tZGRkWxsbN7e3vRdngdjrjxrbKfdTB4dm3Dec1ZchH/9KkP6ZmFGxibZ2f/4EnKwsQIAxieIMLKohkfGm9u6U3PLovc7dvYQ/I5mcXGybV23GF4i4xcsrfPH3Dp7BvxDs/ZG5hzb4QAviCmfJlNC/wsYs2C5ONlopzk+QeRg+yN0lbnW0Mj4lbtPqENO7v0lNP5ad+8ggCAoKu/py7Y7qTvpOM0fu8Ty8vJGRkaysrIaGBjk5uZ2dnZeunSJj48PAFBSUlJTU/Pq1avs7Gx/f38PDw8AgKGhobi4+K5du4qLi01NTSUlJQEAGhoaAICioqIHDx6cOHHC0tISG5OTkxMrcnPmzAEAsLGxHTx4kJ2dHQBw79692tra2NjYJUuWAAD09PTa2toePXq0detWTU3N/Px8rMTW1NS0traGhoYCAOLi4gQFBZOTkzk4OAAA4uLi/v7+TU1NtG8nIiJi1qxZ8fHxeDweAKCurm5paZmTk7Nu3bqKigoVFRU7OzsAgK6uLhcXF/Y26ehQTH581v3E4D/ORBgaGV+/K7HlbXdB/HZI286c7KwTtD+wSSIAAPZ2Oisry+DwWGLwRmkpYQBAe0dfcnYJvBLLlAVLS1NJBgAwPkH02H8uePsqdjZYv3qmfJpMCf0vYMyCHZ8g8ghwUJ9ysLOO/u+gMQBghZlG7u81JNKng0wbVxni8bjU3DL6zgMmKDrvTOb95CPOSrOn/fXY3+wHPlAMAFBTU2Nl/bS+EBUVnTVrFrXwCAoKDg4OVlRUAACwqomxtLTE4/Hl5eVTJlVRUcHKymph8cd54TY2Nthw7KmcnBxWXwEA1dXVbGxsZmZm2FMWFpbMzMytW7cCAOzs7Kqqqt69ewcAyM3NnTVrlqamJvYnJiYmWH0FAGhqat69e3fevHnUuNHR0draWlNTUwqFQiQSiUSitLS0vLx8WVkZAGDBggVlZWVr165NSkp69eqVo6PjihUrvn8BUgWEZ5/+7d6ZA07W/zuWODg8+vP20w3NHy7HbpWfKU7HLFpSYoI9hGEikYQ97eoZ4OJgE+DjghSHkRAR4ORgw+orAGC2jPi7rn5IWcxasACArp6Ba/drqU8VZklOTBIHoTX9AiZ9mkwJ/S9gzIL90NVP2w4qLsLf8XEAe8zOxmqoNef6/afUV23NtTTmzWwrimgrivBzNtfXkG8ripghIfT9s7Er7GJsxt34Q+ttzOh8otyPXWJ5eXlpn3Jzc08ZgUAgAADExMSoQ1hZWYWEhGibS6ljCgkJYbuPGOyvqGPy8PBQX+rv7xcUFGRh+ZOlhx0Wzs/PHx8fv3Hjhq2tLfVPREREvvJeBgYGyGRyYmKiMo3Gxsauri4AgJubW2Bg4NjYWHh4uKWlpZWV1aNHj74ytf+TsKQb53JLE4I3rFqqhQ0hk8kbd599874n/4y3opwUvYI+p6owg40VX1nXij199KRZU0nmTxcsHWmryo6NT75604U9bXzdSS239MXEBQsAePO+x2lX0vv/bT08aWgTFeIVEeT9+l99D6Z8mkwJ/S9gzIKtrGtVU5jBycGGPdXTkK+q+3SqsNLsaWys+Ornb6gjbwo8p786xGTdUZN1R1NySh+/eGuy7ugHmqbcv+dY4vWUnNKzIc525trfOanP/dgHiv+SgIAAAKC7u3v69OnYkMnJyb6+PiGhqRs+AgICfX19JBKJWmWx2vb5mAAAPj6+/v5+CoWCw306/7y+vp5CoSgrK/Pw8FhYWNy4cWPu3LkjIyPUfU0+Pj7quUuYoqIi2r1YHh4eHA63ceNG2n1uAAAXFxcAgIWFZd26devWrevp6SkqKoqLi9u2bVtZWRl1x/pva3zdEZFyc/v6pQvU5Tt7Pm0/3iqpK61pSgvz4Ofjwgays+KFBHi+OqW/g5uTfY2lrt/RzNhAxw/d/dHpd2IDHemeMsUcGQlzQ2WvQ+kRu3/u7Bk8df62v8syuqcwd8ECAOYryWgoSm8LTg/xtXv7oTfoVK6/M/3fJi2mfJpMCf0vYMyCLatpetfVHxvoGHb2hoWx6nwlma0H07GX5slLtb77ODH5x8HqD91/VNO+gZGx8cnX7R+/cwZevu4IO1vou8FcT12+83870BKi/F//q2/3Ly+xurq6AIBr165hbbHYYxKJpKWlBQCg3SLT1dVNSkoqLCykVrgrV64AALAxp9DW1k5OTsYadAEAFAplz549MjIyUVFRAAB7e/vLly+fO3fOwMBAQkKC+idlZWUTExNYUayvr/fw8IiLi6NOk5eXV0lJqaWlRVVVFRsyNjbm7e1tamo6e/bsNWvWqKio7Nu3T0RExNbWdnBw8MiRI0NDQ8LC37v7daPkGYlEPpFy80TKTerARXqKZDJlnX88dYiB5uz8M3Q+uwoT4mvnH5pps+UUPy/XHg9La8hnvWISgjfsDru03OMkFye7m4OJx8+mdI9g+oLF41kyIjx2Hb9k7hLBw8XusWbhpjULYQTRYsqnyZTQ/wIGLFjs5xC9f92987tft3c77Ups7/x0/au4MF//AD2vn/lT14uekkjk8OTC8ORC6sC+yhh6TR/34/YgaGZmpquri51MBABwcnICAKSlpWFPAwICKioq7t69GxAQcPXqVXd3dx0dnRcvXsTExKiqqqamprKwsKSlpR0+fDgiIkJdXX3GjBkbNmx49uzZtm3bFBUVKyoqEhMTra2tselPmTiJRFq3bt2bN298fHykpaXz8/OvXbt24cIFNTU1bAQLC4vXr19HRkYuX74cG1JfX7969Wptbe3169ePjY2dPHmSn58/IyPj6tWr1N6dSktLPTw8fvrpJxsbGxKJlJycXFtbm5aWpqGhERERkZycvG3bNk1Nzc7OzhMnTkhLS1Pn5yuGxuFeIPg5Vjyjj9Ex5TtMIjM6lPELFkG+n5DOVgYn0rFAfiPOL++r/sv3YgEAISEhMjIyOTk5iYmJ4uLi69ev9/T0xPZfzc3N8/PzAwIC7O3tDxw4EB8fHxUVlZqa2tvbO2PGDD8/P+wS2M/h8fjExMTw8PBTp06Njo4qKCgkJydT6ysAYOHChb29vdj5xhglJaW0tLSIiAgfHx9eXl5TU9MdO3ZMOcxrZGR09uzZmJgYb29vNjY2ZWXllJQU7ITn7du3s7Oz5+TkxMbG8vHxmZmZ+fsz9LJ3BEEQ5P/qB96L/ceiUCiWlpZGRkZ79+5l9rygvVhY0F4sgnwLtBeL0M3Q0FBqauqzZ8/a2tqwY8sIgiDIfxYqsfTEycmZmZlJJpOPHDkiLS3N7NlBEARBmAmVWHpiZWUtLS1l9lwgCIIg/wiodQdBEARBoEAlFkEQBEGgQCUWQRAEQaBAJRZBEARBoEAlFkEQBEGgQCUWQRAEQaBAJRZBEARBoEAlFkEQBEGgQH0U/8uNTjL686XeQ5dhmPIdZvzbRJAfEeN/nhFFzYyMY8fjdi2S/9KraC8WQRAEQaBAJRZBEARBoEAlFkEQBEGgQCUWQRAEQaBAJRZBEARBoEAlFkEQBEGgQCUWQRAEQaBAJRZBEARBoEAlFkEQBEGgQCUWQRAEQaBAJRZBEARBoEAlFkEQBEGgYGX2DNABhUL5Ufpk/+fPantn347QrAdPmoX4uTevWbjll0WMyR2fmFzodDxsl4OR1lzGxO07mZt9s4qdjdXRRm/fFmvYn8v7rv49EdnFVY1cHGyrls7f72nDycEGNZEpoWPjkzuPX7xy9wkXB9tWx8VbHRdDjcMw/m0y5dNk/LJlyqfJgN9m5tk8Hh4u6zXL0s5cetvyjvYlNR0l65/NqU8f3q+qflC7da/r38764UvsnTt3bt68efz48b/352ZmZrq6uqGhofSdqz/V1NS0f//+zMxMBmT9bS57kqWlhO+d2/nydYfH/nPSksJWi9Rhh46NT7rvS21o+QA7iGpPRE5JVWN2lOfQ8LjbvlRpSeGNtkbw4igUysaAJAE+7usJvn0Dw9uCM1hYWIK3r4KXyKzQwKjcxy/eXjnj3fah1/NgmrSU8IrFmlATGf82mbJgATOWLeMTAfzf5vMnL5sbWtW05gEA7DdYk4gkbPi7tx256de19P9Y3fX1EEpuPeLm5fqeuB/+QHFqauqHD4xbNX+PwsLCx48fM3suvqZ/YKSqrtXfZZn8TPHlpmpm+vOKq17CDm1o+bDUOfz1u4+wg6j6CMPpVx6e/PUXLWVZU10Fr3WLqp6/gZrY9Kaz8llrbKDjPHkpA83ZezZZ5tysgprIlNDh0fG0/Ieh/nbqitJWi9S9nZYkXiyCmgiY8TaZ8mkyftky5dOE/dscHRm7c7VESloCe8rFzcnLz8PLz8PNy3W/sExvoda0/70EALiRc0diuvh3Jv7wJRahI04ONm5O9gsFjyaJpKY3nRW1LapzpWGHltW8MtaeeyvZH3YQ1aPaFn5eLsP5c7CnPhvMY/avg5ooIcKfHeUpLsJPHTIwNAo1kSmhdY3vJokkXTU57Kmehlz18zdkMhlqKOPfJlM+TcYvW6Z8mrB/m79fLVbVmicmLjxl+NOq+tGRMYNF2rRDJieJGrrK35n4Y5dYJyenioqKiooKBQWF8vLy/v7+wMBAAwMDVVXVn3/++eHDh9Qxy8rKfv75Z01NTR0dnS1btjQ3/8k9e9vb23ft2mVkZKSsrKyvr79r166+vj7sJTMzs5iYmCNHjixYsEBTU9Pf3394eDghIcHExERLS2vbtm3UMUkkUkZGhrW1tZqa2sKFC8PDw8fHxwEA0dHRMTExAAAFBYXo6GgAwPj4eGxsrIWFhaqqqrm5eUJCAvXr6+TktGPHDm9vbw0NDWdnZwDA1atXbWxs1NTU9PT0duzY0dnZCWN5cnKwHd/lcC63bJqx3wKHw4sNlJxW6MMIouVqb3zEz46bkx12EFXru48zpYQzr5UvcAjWXHkg7Gwh7BWHAB/3Yn0l7DGZTE68WGyiowA1kSmhnT0EEQEedrZPzU9iwvxj45O9hGGooYx/m0z5NBm/bJnyaUL9bba+amtreWe0ZMGU4RQK5eG9Kl1jTXaOT2uh4aGRu9dLl9vRoe35x26LDQoK2rlzJ/Zg9uzZ69at+/jxo6+vr7i4eE5OjpubW1JSkr6+fltbm6enp52dnZ+f38DAwIkTJzw8PG7fvs3C8scWxujo6Pr164WEhIKCgvj4+B4/fhwTE8PJyXno0CFshOTkZENDw8jIyLq6uoiIiOfPn4uLiwcHB7e3t4eEhIiKigYFBQEAAgMD8/Pz3d3dtbW16+vrY2NjX7x4kZSU5ODg0NHRkZ2dnZWVJSkpSaFQNm/e/OTJk61btyoqKpaXl588ebKtrS04OBiLu3Hjho2NzZkzZ8hkcnV19a5duzw9PXV0dDo6OsLCwvz9/dPT02Es0sbXncuMVbzWLn7R8j4gPHuhroKDhQ6MICYaHhlvbutOzS2L3u/Y2UPwO5rFxcm2dR0jTuUAAARF5T192XYndSdj4hgZOjI2yc7+xyqFg40VADA+QYQaSovxy5ZhiYxftkz5NOH9NomTxOs5d5atWsTGNrXqvWluHyAMaS5QpQ75/UqxuraSmKTI+7aO78z9sUvs7NmzeXl5AQAaGhoXL15saGi4ePGiuro6AMDExMTJySk8PDwnJ+fp06djY2ObNm2SkJAAAEhKSt65c2dkZAT7W0xra6ukpOSxY8ekpaUBAHp6erW1tRUVFdQReHl5IyMjWVlZDQwMcnNzOzs7L126xMfHBwAoKSmpqakBALx69So7O9vf39/DwwMAYGhoKC4uvmvXruLiYlNTU0lJSWxWAQBFRUUPHjw4ceKEpaUlNiYnJ+epU6fWr18/Z84cAAAbG9vBgwfZ2dkBAAkJCZycnB4eHthTQUHBZ8+ewTg5uajiZVr+g7qrwVyc7JpKMz90EcKTb/77SiwrK8vg8Fhi8EZpKWEAQHtHX3J2CWNKbFB03pnM+8lHnJVmT2NAHINDOdlZJ2hWweOTRAAAw45PMH7ZMjKR8cuWKZ8mvN9mye1HUjPE5RVkP3+p4WmTvIIsFzcn9rT5ZWv7mw8eDk7fHwp+9BJL6+HDh2JiYsrKykTip6/FokWLjh8/TiAQ1NXVOTg47O3tLSwsTExMFixYoKamNuXP582bd+HCBTKZ3Nra+ubNm1evXrW0tFAnBQBQU1NjZf20uERFRbm5ubH6CgAQFBRsbGwEAGAlGauaGEtLyz179pSXl5uamtLGVVRUsLKyWlhYUIfY2NicOnWqoqICK7FycnJYQQUA6OjoREZGWllZLVu2zNTU1MjIaMrU6KW2oU1upjjX/35FagozTqTchBHEXBIiApwcbNhvGAAwW0b8XVc/A3J3hV1MzimNP7Texgz6aZlMCZUSE+whDBOJJFZWPACgq2eAi4NNgO+7Tsj8RoxftgxOZPyyZcqnCe+3+fxJ4/Dg8PFfYwEA2FnEL5692hXiBQBofvnGxFyPOmb9k8YBwmDkgXgAAJlMJpFIx3+NXeO6cqbc9L+R++8psf39/d3d3crKU1unu7u7Z8+enZ6enpCQkJ2dff78eX5+/rVr1/r4+EzZC0xJSYmLi+vv7xcVFVVRUeHi4hocHKS+SrvLCwDg5ub+fB4IBAIAQExMjDqElZVVSEiIdjrUMYWEhPB4PHUI9lfUMXl4eKgvaWpqJiQkpKampqSkJCQkiIqKbt682cmJPhtZtCTFBF63dU9MErEGmMbWzpnTROiewnTaqrJj45Ov3nTNlhEHADS+7qT+pOE5lng9Jaf0bIgzAy57YFaoqsIMNlZ8ZV2rvoY8AODRk2ZNJRna5hhIGL9sGZ/I+GXLlE8T3m/TaYs9ifSpWffutVIAgJmlEQBgZHi0v5cwQ/aP4xBmlkaGi3Wxxy+fvaose+K42Z5PgPezSX6Tf0+J5ePjk5WVDQ8PnzJ8xowZAAA1NbWYmJiJiYnq6uqsrKy4uDhFRcWffvqJOlpBQUFoaOjOnTttbW2FhYUBANu3b3/27Nn/aR4EBAQAAN3d3dOnf9remZyc7OvrExIS+nzMvr4+EolErbJdXV0AgM/HxBgbGxsbG4+Ojj569Oj8+fOHDx9WV1f/fF/8O1kYqwRF5W0/fMHfxeLV287I1Fv7tljRN+KfYI6MhLmhsteh9IjdP3f2DJ46f9vfZRnUxJevO8LOFvpuMNdTl+/8OIANlBDl//pf/XCh3Jzsayx1/Y5mxgY6fujuj06/ExvoCC8Ow/i3yZRPk/HLlimfJrzfpoDQHx8QBwcbAEBYVBAA0N3xkZUVLyj8x6s8vNw8vJ/2oLh5uVhYcNiYf88PX2JZWFiwU850dXXv378vIiIybdqn7ZG4uLgXL16Eh4enpqaeO3fu5s2b7Ozs+vr6KioqN27ceP/+Pe10qqur+fn53dzcsKfDw8PV1dXUI8PfSFdXFwBw7do1rC0We0wikbS0tLBZpR0zKSmpsLCQelT5ypUrAABszCmOHTtWUVGRnZ3NxcW1aNEiKSmpFStWvH//nu4llp+XKzd2654TOYs3hokK8fq7LNuwypC+Ef8QCcEbdoddWu5xkouT3c3BxONnKAfeqa4XPSWRyOHJheHJhdSBfZUx/77QEF87/9BMmy2n+Hm59nhYWptpQI0DzHibTFmwgBnLlvGJgOG/zeHBEQ4uDnidu+EoFAqkSTPGtm3bHj9+HBYWJicnt2HDBuxMXSkpqQcPHiQmJjo6Ov76668NDQ329vb6+vqOjo54PD4zM7OoqCg/P19OTo7au9Ply5fuD705AAAgAElEQVT37Nnj7Oy8aNGirq6us2fPNjQ0CAgIlJeXg886gcIO0qalpWFPAwICKioq7t69iz2+evWqu7u7jo7OixcvYmJiVFVVU1NTWVhY0tLSDh8+HBERoa6uPmPGjA0bNjx79mzbtm2KiooVFRWJiYnW1tZYxJTpFxUVbdq0acWKFTY2NpOTk0lJSU1NTTdv3hQU/Ottq9FJRn++jO8hkinf4X94R5gI8g/B+J9nRNGfXJMJDzset2uR/Jde/eH3YtetW1dXV+fu7n706NGMjIyIiIiwsLDBwcHp06f7+/u7uLgAABQVFePi4mJjY/38/EgkkoqKSnJyspycHO10Vq1a1d7enpOTc+HCBQkJCVNT07Vr1+7fv7+5uVle/ouL73MhISEyMjI5OTmJiYni4uLr16/39PTE9l/Nzc3z8/MDAgLs7e0PHDgQHx8fFRWVmpra29s7Y8YMPz8/7BLYz5mamoaHhycnJ2/duhWHw2lpaZ0/f/5b6iuCIAjCRD/8XizydWgvFhK0F4sg3+I/vhf7Y/fuhCAIgiD/WKjEIgiCIAgUqMQiCIIgCBSoxCIIgiAIFKjEIgiCIAgUqMQiCIIgCBSoxCIIgiAIFKjEIgiCIAgUqMQiCIIgCBSoxCIIgiAIFKjEIgiCIAgUP/xtABAEQRCEih3P0P7Dvx6HbgOAIAiCIFCgA8UIgiAIAgUqsQiCIAgCBSqxCIIgCAIFKrEIgiAIAgUqsQiCIAgCBSqxCIIgCAIFKrEIgiAIAgUqsQiCIAgCBSqxCIIgCAIFKrEIgiAIAgUqscgfRkZGsAc3b95MSUlpbW1l7vwgCIL80FAfxQgAALS0tGzatMnS0tLHx+fkyZPx8fEUCoWDgyM5OVlLS4uOQXl5eaampkJCQnl5eV8aZ+XKlXRMRP5rWlpa5OTkmD0X9Dc6Ojo0NCQoKMjGxsbsefkXqqure//+vZ6eHj8/Px0ni0osAgAAnp6er1+/Pn78uIKCgpGRkZGR0aFDhwICAggEQlpaGh2DFBUVL168qKampqio+Kcj4HC4Fy9e0DERc+XKFUNDQxEREbpP+Vu4urra2dktWbKEnZ2dKTOAGRkZqaqqMjExoe9k379/LyYmxsbG9v79+y+NM23aNPqGAgAIBEJkZGRFRcXExAS2HqNQKCMjIwQCAcZXCFNWVnbv3r3R0VEymUwdiMPhjhw5AikRAFBVVXX8+PG6ujrsbaqpqfn6+urp6cFL/FNDQ0MvXrzQ0dFhTByRSMQ2KSBNv6ury9/fX19f39PTMz09PSQkhEKhCAoKpqWlzZkzh14p6GZ2CAAAVFVVHTlyRFVVtbS0dHBwcPXq1by8vGvWrNm2bRt9g+7cuSMmJoY9oO+Uv27Xrl04HG7u3LkGBgbGxsba2tqMrHYkEmnHjh28vLzLly+3tbVVU1ODnfju3bsDBw5g5WfKS3QvP4sXL87KylJTUzMzM8Ph/vzGXjBq3pEjR65du2ZsbNzS0sLFxSUrK1tdXT0wMHDo0CG6Z2GSk5OPHz/OwcEhLCxM+06/9K7poqamZuPGjdLS0p6enqKiol1dXdeuXXNzc0tLS9PU1IQUOm/ePAcHh8DAQFbWP2pEc3Pz+vXr4W2+EInEuLg4GRkZa2vr8vJyb2/vgYEBXV3dqKgoAQEBuseFhYW9fv3aw8ODTCbHxcUZGBjs3Lnz8OHDERERcXFx9EpBJRYBAIDJyUns8EhxcTEXFxd2cJhEItH+wOhi+vTpUx4wRk5OTmVlZVVVVV5eXkpKCgcHx/z58w0NDQ0NDefNmwc7PTU1taOjIy8vLy8vLzMzU15eftWqVStWrMC2NmA4evRoTU2Ng4NDTU0NFxeXhoZGWVlZY2NjdHQ03bOOHDkiLS2NPYBabKYoKSnZtm3bpk2bkpOTKyoqTp48OTw87Ojo+OrVK0iJ6enp1tbWISEhjNw+O3nypLa29tmzZ/F4PDZk69atrq6u0dHRycnJkEIpFEp2dnZTU1N0dLSoqCiklCmioqLOnj27d+9eAMDhw4cFBQW9vLxSUlIiIiJgbDaVlpbu3bvX2Ni4qqrq48ePISEhioqKbm5uO3bsoGMKKrEIAADMnTv31q1bs2bNKiwsNDIyYmVlnZyczMjImDt3Ln2DYmJi/nKcrVu30jcUAKCsrKysrLxx40YAQHNzc0VFRXV1dUZGRnh4uLCwsL6+vpGR0apVq+ieSyUpKbl58+bNmzc/fvy4sLAwKyvr5MmTRkZGq1evXrRoEd3jKisrfX19HR0d09PT7969u3PnTj8/PxcXlzt37ixevJi+WdTlZmtrS98pf93AwAC2GycvL48VGx4eHhcXl5iYmD179sBI/Pjxo729PYOP9j979iwiIoJaXwEALCwsjo6Ou3fvhpobHBwcFxdna2sbHR2trq4ONQtz7do1Pz+/devWNTc3NzU1hYaGrly5UlBQ8Pjx4zBK7MjIiKSkJACguLiYnZ0dO/DOzs5O38ZTVGIRAADw9vb28vLKyMhgZ2d3d3cHACxbtuzjx490PGCCoS2xOByOQqHg8XghISECgTA5OcnGxiYgIACjxNKSl5eXl5f/5ZdfAADl5eUXLly4efPm9evXoZZYKgqFQiaTiUQihULp6uraunWrnJxcREQEfbdmhoeHFRQUAABycnLYMsfj8WvXrj127BgdUz7X2dlZXV1NPTpNJpNHR0erqqoiIyPpniUkJDQ4OAgAkJWV7enp6e/vFxQUlJCQ6OzspHsWRklJqampacGCBZCm/6d4eHiIROKUgdj3B2runDlzsrOzt23b5uTktH//fgcHB9iHKLq6urBafv/+fRYWFuykAUlJSexTpjtZWdmqqioNDY2bN2/q6upycHAAAK5cuSIrK0vHFFRiEQAAMDQ0LCgoePbsmbq6OnYId8OGDXp6ethqmo4aGhqwBw8fPvTz89u/f/+yZcuwLfTi4uJff/01ICCAvomf6+3tLSkpefjwYXl5eUdHBzc3t7GxsZGREdTQtra2/Pz8K1eutLW1SUtLr169etWqVVg9cHd39/f3LygooGOcuLj4x48fAQAyMjIEAqG7u1tMTExQULCnp4eOKVMUFhbu2LGDSCRi62IKhYI9gHR+r76+flxcnKKi4syZMwUEBHJzc52dne/duyckJAQjDgCwd+9eHx8fbm5udXV1Li4u2pdgnM+FmT9/fkJCgrGxMTVxZGQkISFBW1sbUiKVgIBASkrKoUOHAgMD6+vr7e3tocaJi4u3t7dra2vfvXt33rx5wsLCAIDHjx9j+5p05+7uvnv37rNnz46MjAQGBgIA7O3t6+vrw8PD6ZiCSizyCXY2JlZfm5ubOzs7+fj44MUdOnTI29t7+fLl1CEmJibbt2+PjIy0tLSkexyJRHr8+HFJSUlJSQlW5pWVlVesWGFkZKShoUH3Jucp1qxZU1tby8HBYW5ufvjwYV1dXepLEhIS5ubmqamp9E00NTU9efKkpKSkpqampKRkcnKyl5dXTk6OhIQEfYNoxcXFKSsrBwUFZWRkkEgkd3f3oqKiEydOYK1rdLd9+3YnJ6fdu3enp6dv2rTp2LFjcXFxAwMDXl5eMOIAAL/88guZTN67d+/n+3PwTgLy9/e3tbVdvHjxwoULxcTEuru779+/PzY2FhISAimRFh6PP3jw4Jw5c0JDQysrK6FmWVlZHT16tKCgoLq6Gqt5ISEhv/322+bNmyHFTZs2raqqSldXV0NDAwCgo6Pj7e1N31PuUYlFAADgyZMnLi4uEhIS2IbqwMDAlStXcnJy0tLS6N4ci/nw4cPnZzyJiIhA2s1asGDB8PCwlJSUvr6+u7u7gYEBjHMUv4RIJAYFBVlZWfHy8n7+6pIlS4yNjemb6O3tXVdXd+rUqdTUVF9f34CAAKyKY2suSF6/fh0REaGkpLRgwYLk5GTsgDzW3GBoaEj3uOnTp1+/fh3rIMXZ2VlUVLSmpkZNTQ3eAf/Dhw9DmvJXyMjIZGVlxcTEFBUVEQgEAQEBXV3drVu3zp49m2Hz4OjoKCcn5+PjAzUFO0JQWVnp7++/du1aAMCzZ89cXFw8PT1hxLm6urq5uXl4eFCHQGnepiAIheLo6Ojq6jo6OkodMjY25ubm5urqCilx9erVHh4eWJMSNXHt2rXr16+HEaegoLBgwYIDBw7cunVrcHAQRsQ3GhsbI5PJjMnq7OzEHlRWViYmJpaXl0ON09DQqKiooFAoT548UVVVJZFIFArl4cOHenp6MOJyc3N7e3unDOzq6kpISIARxyw9PT3MnoVP3r59e/nyZWbPBd1oaGg8fPgQdgrai0UAAOD58+exsbGcnJzUIRwcHBs2bPD19YWU6Ofn5+rqiu3ACQkJffz4saioaHR0ND09HUZcdnZ2SUlJaWnppUuXAABqampYDxsMuEQV09LSEhUV9eDBg6GhoUuXLmVnZ8vJyTk5OUENFRcXxx5oa2szoOlOTk6upqZGR0dHTk5uYmKioaFBSUlpYGDg82tz6WLPnj1ZWVlTWl5fvHgRFRWFnbIHw8TERHZ29oMHD7q7u48cOVJRUaGsrAz1W2RiYmJsbLxixQozMzMGn8xMIBBoO9nA4/GwT/Vi5OI1Nja+cuWKlpYW1N6yUIlFAACAk5Pz8/Mw+/r6WFhg9WKtq6ubmZkZHx9/9+7d/v5+ISEhAwMDLy8vGRkZGHEqKioqKipbtmwZGhp68OBBaWlpdnZ2VFSUoKCggYGBkZGRoaEhvHbKFy9erFu3TkRExNra+sKFCwAAPB5/5MgRXl5e+h7V/JaLVY4ePUrHRFpr1qwJCgoaGRnB+h7as2ePvb19enq6srIyHVM8PDyam5sBABQKxcvLa0rV6enpmTlzJh3jaPX29m7YsAHroPHVq1djY2P3798PDQ1NTU2F1wvEjh07rl+/7uPjw8fHt2zZspUrVzJga+nNmze7d++ura39/CV4rc6fL9579+7BW7wcHBxXrly5ceOGvLw8Nzc3dTgOhzt37hy9UlAHiggAAOzevbuysvLMmTPUU4ibm5u3bNmirq4eFhbG3HmDp7m5+dGjR+Xl5ffv3ycSifX19ZCCNm7cSCaTsWs3VVRUcnJylJWV9+/fX1dXl5ubS8cgMzMz6uOuri4ikTht2jQxMbH+/v62tjZ2dnZFRcXMzEw6Jk6RkZHR3t6+e/futrY2d3f31tbW6dOnnz59mo6nptfU1GCHInJzc01NTbHzTjEsLCz8/Py2trZ07ACPVkBAQEVFRUpKyvTp07HPcfbs2a6urmxsbCkpKTASqdra2q5evXr9+vWmpqZp06bZ2NhYW1vLy8tDinNzc6urq3NycpKUlJyynQ2vqZvBi/crx5Do2Wss7CPRyA+hq6vLzMxs3rx5S5cuXb16tbm5Ofa4q6sLUuK7L4OUSKuvr+/u3bvh4eGOjo6amprKysqrV6+GF6eurn7nzh0KhUIkEhUUFLDOZh88eKChoQEp8cqVKyYmJrW1tdQhTU1NS5cuTU1NhZT4OTKZDLUdMSAg4O3bt/Cm/zldXd28vDzK//853rlzR0dHh2Hz0NjYePDgQSUlJUVFRXgpampqBQUF8Kb/p/4Ji5fu0IFiBAAAxMTECgoKLl++XFNT09/fLyEh4ejoaGtry8PDAymRwf3ZAgBaW1tr/uf169cUCmXOnDn6+vqurq46Ojrw3ikAgIODY2xsbMrA/v5+eE1rkZGRfn5+tI1Ys2fP9vHxOXr06IYNGyCFToHD4Wh3MekOO+KN9dU1ODgoJCSkpaUF9R474+Pjn/dKj8fjJycn4YVS9fT03Lhx48aNG48fPxYUFKS94I3ueHl5GXnKPYYpixf29weVWOQTbm5uR0dHR0dHxsRN6c8WuwlMeXk5pDuW6OnpEQgECoUybdo07N4a+vr6DLvxjqGhYVRU1Pz587FOiXE43PDwcHJysoGBAaTEvr6+z+/JxcrKSr0lMB0pKir+Zb8/kDabAgMDL126RPlfaxcOh1u1ahW8m96oqqpeuHDB1NSUdmBBQYGKigqkRADA4ODgzZs3r127VllZicfjzczMTp8+bWxsTNulIt2tWLEiIyPDyMiIkZ1OM3jxUiiUoKAg2N8fVGL/02JiYhwcHCQkJL7UdTAOh4N0If/n/dmuW7cOu/B84cKFdI9bsGCBgYGBvr4+vHNhvmLnzp2rV6+2sLDAqlFoaCi2G33ixAlIiRoaGmfOnJk/fz51X6Srqys6OhrGGaFeXl7Yinh8fDwlJUVWVnbZsmVYA/Ddu3cbGxu3bNlC91AAQGJiYk5Ojre3t42NjZiYWFdXV35+/pkzZ+bOnYt1Rk1327dv37hx44oVK0xNTXE43NWrV6Ojo0tLS5OSkmDEYfT19clkspaW1oEDBywsLP700mq64+Liqq6uXrp0qaqqKu2FBlBv28fgxZuUlMSA7w863ek/jVl3b/2S8vJyT0/P6upqhiUyTF9fX2pq6qNHj/r7+/n4+HR0dJydnakX1dBdQ0ODk5MTiUTS1NTE+k18/PixgIDAhQsXZsyYASl07969AwMD0dHRtLs+O3fuHB8fj4qKonvcsmXLLCwsplxXdvLkyVu3bl2/fp3ucZjKysqIiIinT5+SyWQcDqekpOTn5wejYw2q+Ph4a2treB00/ina8+Zo4XA4qLehZOTiZcz3B5VY5B8kISHh7Nmz5eXldJ/y+vXrvz4Cfc/U/yfo7OxMTU3FGteFhIT09fU3bNgA7wbXAABNTc2oqKgpPVWVlpZu27bt8ePHdI9TU1OLj4/X19enHfjw4cNNmzY9ffqU7nG0xsbGCAQCLy8v1Cb8/yzGLF7GfH/QgWKEOaZcwUkmkzs6OiorKyF1NV5RUYHD4ebMmfOlkzhgbGvm5eX95TgrV66key5GQkIC9v3OpuDh4Xn79u2UgfX19ZBOnJk+ffrLly+nrCIbGhrgnWP1/v172qcEAoFAILCwsHBzc3/e8v2d/rKFG4fDwbvMDEMmkxsbG7u6uubPn08kEiFtn01ZqlTY4sUew9iJZ8z3B5VYBAAAKBTKpUuX7t27R9uZC4C5bzdlVxWHw/Hy8np4eEDq8tvNze3GjRstLS2GhoaWlpZLliyhvdgckr+8axAOh4NXYgcHBx89ejQyMjJl6wFeoqWl5YkTJ9jY2BYuXCgkJNTT01NYWBgbGwupryUrK6vo6GgJCQkLCwvsxog3btyIiYlZvXo1jDjw1dPgBQQE1q9fT8fedKkt3MySn58fERHR1dWFw+Gys7Ojo6PZ2NgiIiLofhr8V5YqFYzmKsZ8f9CBYgQAAMLDw5OSkmbMmCEpKTnl607Pq7C/qrOz89KlSzk5Offu3YMUUVtbe/369cLCQgKBsHDhQisrKxMTE3hXzrx79w57QCaTv9RP1uf3QqCLkpISb2/v0dHRKcOhNq5PTEzs2LHj1q1b1K8QhUL5+eefDx48CKNaTExMbNq06eHDh6ysrEJCQn19fSQSSVdXNyEhAbv3J93l5eUFBgbq6upaWVlht6y4devW/fv3PT09h4eHMzIyAgICsP7rf3TXr1/38/OzsbFZtGiRr69vTk5OQ0PDwYMHXVxc6H4zgMuXL//l1wNGfxeM+f6gEosAAICRkZG1tTWDjytSlZSUZGZmFhUVEYnEGTNm/P7771DjKBRKZWXl9evXb926NTExsXTpUktLSwMDA3i9RVpZWfn7+y9atAjS9D+3cuVKPB6/Z88eCQmJKe8LUlGnampqqqqqGhgYEBIS0tPTg30Kd1FRUWVlJXYLGh0dnSmXfNCXu7u7qKjolB4og4KCOjs74+Li4uPjr169St/7/mJ6e3uTk5MrKiqwpaqtrb1x40aol5zZ2NjMnz//wIEDJBJJWVkZ648sMTHx4sWLt2/fhpeLHZrGzr7s7u6ur683NDSEeq9J6N8fhnd2gfwTqaurP3r0iMGhPT098fHxixcvVlRU1NbW3rdvX2VlJSNngEQilZWV/frrryoqKgYGBvCC5s+fz4B7etBSUVEpLi5mZCLjxcXFdXR0MDJRTU2ttLR0ysDS0lJ1dXUKhVJeXo49oK8PHz6YmJioqKg4Ojr6+vo6OjoqKysbGRlBfe8qKirYO6XtaKm8vFxVVRVeaEdHh5WV1eLFi7Gn9+/fV1BQWL16dV9fH4y46Ojoz5dhW1vbwYMH6ZiC2mIRAADQ0tKqqamBfRsNqkePHmVlZf3+++8kEklLS+vdu3exsbG0NypnjNra2qKiotLS0snJSaj9EFlbW6empsrJycG7SmeKadOmDQ0NMSaLisLYFv3ExMSoqCh9fX1bW9slS5Yw4C40goKCDQ0NU64haWhowK5VHRkZ4eLiontoWFgYKyvr9evXpaWlsSFtbW0uLi6RkZGhoaF0j8OIiIg0NzdPeafNzc1Qd52PHz8+MTERHh6OPTU1Nb18+bKfn19ERERwcDDd42JjY01MTKbc/KO2tvbSpUt0vK0yKrEIAAC4ubnt3LmTSCSqq6tPWU3o6OjQMSg1NTUrK+v169cyMjKenp6rVq3i5ubW1dVl5Jkdjx8/vnHjxq1btzo6OmbNmmVnZ7d8+XJ4PaoDAFpbW6uqqkxNTQUFBafc0wPSUfFNmzbFxsaqqqrCuwr2cxEREX/aok+B0xpVWlp669at/Pz8HTt28PHxLV++fNWqVVDvK2dtbR0VFcXKymphYSEsLNzT03P79u2YmJg1a9YQCIRz586pq6vTPbS0tHTv3r3U+goAkJaW9vLyOn78ON2zqJYvXx4VFSUuLo4dOMXhcHV1dadPn7aysoIX+uDBg0OHDmloaFCHKCkpbd++PSQkhI4pa9aswe4gRKFQ/vTMJlVVVTrGoRKLAACAs7MzACA2NhYAQHuuCt3PjgkNDVVQUDh//jx1n3VwcJCO0/8K2soqLS29YsWKn3766Ut9btCXlJSUtbU1A4KoCgoKOjs7ly5dKiwsPKV3HnhN3Xl5ec7Ozgxr0efk5LSxsbGxseno6MjPzy8sLMzMzJw9e7atre2KFStgHJbw8fHp6ekJDQ2l7j6ysLDY2dn5+vrevHmzvr4exs46iUSack9cAICwsDDUoxQ+Pj6NjY0+Pj5YQ76Tk9PIyIi2tvb27dvhhU5MTHzeKyQXF9fw8DAdUw4fPlxYWEihUGJjY+3s7CQlJakvYXdqMjc3p2McOt0JAQCAioqKL71E3+O3/v7+d+7cweFw+vr6q1atWrRo0ejoqI6OTlpaGn13l6dYuHBhZ2enlJTUTz/9tHz5cvrewfQf6Cs3joV3v1gNDY34+HiGNTfQmpiYKCoqOn/+fGVlJQ6HY2Njs7W13bFjB4zuBt++fVteXt7X1ychITF//nxs/5JAIHBxccE4WL1u3bpp06ZNuaekv7//mzdvsrOz6R5Hq6ys7OHDhwQCgY+PT1dXF+vXEF6ci4vL5ORkcnIy9R7pRCLRw8ODRCLB2Hahdh9L9ynTQiUWYbShoSHsrj7Pnj0TEhJasmRJdnZ2Wloa1BtNKyoqsrCwfH5JEhXU3TtMT0/PxMQE9osjk8mjo6NVVVW//PIL1FBGcnV11dbWhtQj8ZdUVFTk5+ffvHlzZGRET0/P3t7exMSkuLj40KFDampqCQkJDJgH7C7ikCZeVlbm6upqYmKyfPlyMTGx7u7ua9eulZaWRkVFLV26FFIo1ejo6ODgoKCgIAOaup88eeLk5CQkJGRiYiIiItLb21tWVtbT05OWlgbv+H9xcTHtqdpT+ib7fqjEIp88ffq0vLycWgMoFMrIyEh1dfXFixchJTY1NeXk5BQUFPT09MycOdPS0tLS0nL27Nkwsr6yV0cFb/euoaFhx44dzc3NU4bD7qAH9upjiocPH2I3PIDdoo+JjIwsKCj48OGDlJSUra2tra0tbR9AkZGR58+fp2/HjQQCITIysqKiYsrPhEAg0P1qYycnJwcHh2XLlnFwcOTl5YWHh3/8+BF7SVRU1N/fH96t0TF37tw5c+ZMfX09hULB4/EaGho+Pj5Qt4MBAPX19XFxcVivn3x8fNra2p6envPmzYORNTEx4enpWVpaisfjsetiyWSynp5efHw8HbcnUIlFAAAgIyPj8OHDU74MLCwsRkZGsPcDiETivXv3cnJySktLSSTSnDlzrly5AjWRqre3t729XVpa+vO2LvpycXFpampydXW9d+8eOzv7okWLiouLi4uLz58/D2mdxZjVxxS0DdtQW/QxampqS5YssbOzMzAw+PzgxO+///7u3Tv63hx39+7d165dMzY2bmlp4eLikpWVra6u7unpOXjwoIODAx2DAADW1tZNTU18fHxWVlb29vZKSkotLS3Y5ZtycnKwTw/Eup5QUlJasmSJiIhId3d3YWFha2trUlKSnp4epNDx8XFIfYb8qYiIiPT09IMHD1paWuLxeCKRePXq1YMHD27cuJGeTc50vAAI+XFZWFh4eHj8v/buPJ7K7H8A+Lm2yB6ixVSUfQtdsmRLSVSSSV9UQuKihho0pTKNSmTLVqJFi6gskUrKUkQ0tDBNMkWICKGy3Of3xzO/+73dmpr5zn3uDZ/3X+65t+dzeMnnOec553O6u7sPHDiwc+fOd+/e5efna2ho5OTksKwPHR0dR44cWbJkCUHXf/r0aWhoaFhYGH6QXGRkpLKysoKCgrKy8q5du4aHhwmKi2GYpqYmfizluXPnHBwc8EZvb28fHx+CIoaFhWloaGRlZeHf19DQ0KVLlzQ0NCIjIwmKiGHY3b9GRLju7m4iLvsF8+fPT0hIwDDs2LFj7u7uGIb19fWtWLEiJCSEiHAPHz78+eef58+fr6CgsHz58tTUVPzMYxawsrLy9fWlb6FSqZs2bVq5ciVxQbW0tIKCgmpqaogLQc/Y2DgpKYmhMSkpibYxlykgxQIMwzAVFZVbt25hGJabm2tpaesbdAgAACAASURBVIk3xsXF2dnZsbVfTFNRUaGqqqqurk4mk/FVOQoKCjt27Dh37lxgYKC8vHxiYiJx0VVUVPCqGuXl5VpaWnjjzZs3FyxYQFBE1vz5YLvOzs6DBw/iE6r29vb4bCpx4ZSVlfHbhVu3bunr6+ON2dnZixYtIi7o0NBQQUGBl5eXioqKmpqar68vC8qYqKiolJSUMDQWFxcTWnoiNjZ20aJF8vLyS5YsOXr0aHt7O3GxMAxTU1O7c+cOQ+OdO3dUVFSYGAU27QCEEOLm5sa3dsyYMeP58+dDQ0Pc3NxaWlopKSns7hpzHD58mEwmx8TE8PHxhYWFRURErFu3Di/Tv3r1aiEhoZycnI0bNxIUferUqU1NTdra2jNnzuzr62tubp4+fToPDw/tIBGm6+rqUlJSYmhUUlJ69eoVQRHRF08WIuLsgba2ttWrV3d1dWloaCgpKXV0dKSkpGRmZmZkZBC0TFRUVBTfYzZz5szOzs7u7m4RERFJSUlCf6pcXFxmZmZmZmY9PT2XL1/Ozs5ev369tLS0ra0tQWdmIIRmz55dV1dnYGBA39ja2kpoOUxPT09PT8/q6upLly4lJiZGRkbq6enZ2tqamprS1hgz0XfffVdVVcVw0k5lZeWUKVOYGYaJ6RqMXv/5z3/27duHYVh/f7+ioiI+5MrKypo3bx67u8Yc2traBQUF+NcdHR3y8vK3b9+mvVtRUUFE6TuasLAwfX19fDfekiVL/Pz86uvrXVxcrKysCIqInyLC0BgVFWVubk5QRAzD5D+Bz8OrqakREc7X19fU1PTFixe0lhcvXixcuNDf35+IcBiGbdu2bdWqVc3NzVQqVUdHJzk5GcOw/fv3GxsbExTxsyoqKhYvXqygoMD0K7/8f9nZ2RoaGikpKW1tbcPDw52dnRcuXDAwMPi0fiRBPnz4UFBQ4OjoqKCgQCaT9+/f39zczNwQqampKioqR48ebWlpGRwcbGlpOXLkiIqKCv4sgFkgxQIMw7Dr16/Ly8sHBgZiGObl5WViYrJv3z49Pb1Nmzaxu2vMIS8vX11djX89NDQkLy//4MED2ru//vorEX+waN6/f+/t7e3q6ophWHFxsZqaGp57rl69SlBE1vz5YND8sSdPnpw5c8bExARflcp0ZDI5MzOTofHSpUvz588nIhyGYc3NzSYmJvjT9OTkZHl5eTKZrKCg8OndDBHa29tTUlJsbW0VFBRMTEyio6OZHgK/K8LRbpLoWwj9b0LT0tISHx+/bNkyeXl5CwuL/fv3W1paqqmp5ebmMjHKyMjI9u3bGb7lgIAAKpXKxCiwohj86datWw0NDS4uLm/evPHz86uurlZVVT1w4AARhyGznoKCwvnz5/HddfSHh+Dv1tTU2NvbE3fKGw6ffkcINTU1PXz4UFlZmbhpNyqVunPnzgsXLtCv7LWxsQkJCWHxKaQnT57Mz88/c+YM06+sra196NChBQsW0DcWFxd7eXnV1tYyPRzu/fv3f/zxB752Oicnp7q6Wk1NjdD9M/39/deuXcvJybl79y4nJ+cXFlH/e+w6Vw7X19d39erVzMzMqqoqXl5eCwuLVatWaWpq4u+6u7s/evSotLSUuUGfPn2Kb2wTFhYmk8lML6QKz2LBn4yNjY2NjRFCoqKiycnJ7O4O4ViQab68Gbe4uJhEIoWEhBARmoOD45dfftmwYUNFRQW+04OIPx9/h7y8fHh4OEFXzsnJYUixWVlZcnJyRIRDCB05csTU1JS2N8na2pq4upjDw8NFRUU5OTm3bt16//69oqJiYGCgtbW1sLAwQRERQitXrvw7H8MwbPv27d7e3sy9/9bX1//w4YOGhkZwcLClpSV9NW+EkKqqKhGbyGfPnk3QXnwcjGLBn6hU6tOnT3t7exl+JQita8gyCgoKSkpKeDk9DMMqKyuVlZX5+fnxd/v6+urq6pg+ijU1NaV/2draKi4uTr9wg0Qi3bhxg4kRv1phg7ik/lmDg4M//fRTVVVVYWEhs665du3aXbt2ycrKsr7skY6OTm9v79SpU01MTExNTefNm0fEMhz6WEJCQlZWVra2tp8uXmOjkZERFRWVjIwM5hYiDQ0NXbVq1V/Vyerv7+fl5f20iPH/rKenJzo6urq6ure3l76duYXeYBQLEELowYMHHh4enZ2d+EsMw0gkEkZY0QDWw28UaHcPDC/5+fmJKAFBn1eGh4fxR6GElke+e/cu/cvPJnXiopuamtJfn0qlvnnz5sOHD8w9GKCiogKvC6+vr79///6wsLDi4mL8LXFx8ZCQEOLKCpaXl//6668lJSUlJSVnzpzh4+PT19fHp3+YfuqAsrKyra2tubk5CyoX/g+IGJv9+OOPVVVVsbGxFAoFIfT48ePExEQ3NzcVFRWEEO2GmFl27tx548YNQ0NDQs8CgVEsQAghe3v79vZ2T0/P6dOn42dr0LD+GNcx6dMHwETDkzorIwYEBDCkcAEBARMTEz09PSZGoX+sjhDCMIyVZY9o3rx5U1paeu7cuerqag4OjkePHrEm7reAoF/moqIiCoWiqqp69uxZhFBdXV1AQEBjY2NycjIRd8Da2tp+fn5EFwmHUSxACKG6urqwsDAWVBUHLMPiZU0IoT179rCyAB6ORCKx+BlzS0tLRUVFZWVlRUVFU1MTQVMg41BMTMzSpUtpBwUqKipmZWX5+/sfOnSIiOVy/Pz8LDhNGVIsQAihSZMmEfdUCYwTBgYGlpaWtra2hJ6LjhCiUChfmD4l7tAkf3//ysrK1tZWXl5eTU1NOzs7XV1dZWVlJj4gHM8aGhr8/PwYbg1XrFiBzxsznYODw7FjxzQ1NZk+BU0PUixACCEHB4eEhAQtLS1BQUF29wWMVs7OzllZWWlpaTIyMvi56BISEkQEUlJSIuLE9a/KyspCCKmoqKxbt05PT09MTIz1fRjDBAUFGxsbGcotNTU1MSwtZhZHR8dLly4ZGRnNmjWL/mAoEonExONpIcWOa2vXrsW/wDCstrZ2wYIFs2fPJu63DbB+8paVWFYAj0KhED1Q/qxbt26VlZWVlZUdPHiwo6Nj1qxZZDKZTCbr6OhAuv33zM3No6KipkyZYmJigreUlJRERUUtWrSIiHBBQUGNjY0yMjK8vLz0a5KYuz4JljuNa05OTl/9zKlTp1jQkzGJYYXty5cvJ0+ezLC+l7hz4PE1KRcvXmTLfo/BwcGSkpLjx4/fu3dPSEho5cqVjo6O06ZN+/dXZljuxC4NDQ3l5eUlJSVFRUVEn/v7rSFo005fX9+GDRtqa2u5ublFRES6u7uHh4fV1dWTkpLw7XbMpamp6eHh4ebmxvQr04NR7LgG6ZNQZDKZxcNWhqSOENq0aRPLkjpNa2trVlbWlStXfvvtt1mzZhkbGxcXF585c2bfvn2WlpZERyfayMjIr7/+ig9na2pqeHh4dHR02N0pViNibCYgIHDu3LmioiL6I9mNjY0Z9jgwCw8PD74diFAwigV/ysvLKy8vDw4ORghVV1eHhIR4enoyFE8A37hPt818at++fQRFZ00BvMDAQE9PT2lp6X/d33/sxIkTZWVllZWV/f39U6ZMMTIyMjY21tXVxU+pGmP6+vr6+/slJSWHhoZOnTrV0tKyePFiQgvRuLi4uLq6MjyLJc6+fftaW1sjIyMJSuE4GMUChBDKzMwMCAigPfMQERGRkJDw8vKKjo5euHAhe/sG/j7ahge2YE0BPOJuEb4qNDRUQ0PD3d3d2NiYuDKN34KamhpXV1d7e3s/P7+9e/empaUJCQmdOXMmJibGzMyMoKDV1dWsnPURFBTMyMgwNTVVU1OjX1TM3ApoMIoFCCFkbW1tYGDAUIXnwIEDd+/evXjxIrt6BUaX0NBQOzu7WbNmffZdphfAYz28wAXt5fDwcF9fn4iICBu7RBBnZ+d3794dPHhQXFx8/vz5K1euDAoKCgoKqqurS09PJyioj4+PgIDAnj17WLOB8K+m6Jhb1hRGsQAhhF68eGFkZMTQuGDBArzMCgBfQF8Y+ciRI59+AB8WELr7kDUEBAQOHz48Y8YMa2vru3fv+vj49Pb2ksnk6OhoQqvzs15NTU1ERIS0tHRBQcGHDx+WL1+OELK0tMzOziYu6IQJE7Kzs69cuSIrK0s/BULQvgYm1s3+AkixACGEJCQkamtrdXV16Rvr6+tFRUXZ1SUwWrC3MDIrRUVFHTt2bPv27QihvXv3ioiIUCiUlJSU8PBwfBHDmMHBwYEX6iopKRESEsLXb/f19RH61LmtrW3u3Ln418TtovmqZ8+e/dVRBP8DSLEAIYSsrKzi4+MnTpxobm4+adKkrq6umzdvxsTE/J1dPWCcY/1pB+ySm5vr6+vr4ODQ0NDw+++/79+/f8WKFSIiIqGhoWMsxaqoqKSnp/Py8ubn5xsbG5NIpM7OzqNHjxK6BJfFGxy6u7sjIyMrKioGBwfxLI5h2MDAQE9PDxPPPoEUCxBCiEKhPHv2bO/evb/88gvegmGYhYWFt7c3ezsGRpcxM2D9rPb2dnV1dYTQrVu3ODg48KNqpaSk3r59y+6uMdm2bdtcXV1zc3MnTZrk4eGBELKysqJSqceOHSM6dENDQ0VFxdu3b0VFRbW0tJg4oGSwb9++3NxcQ0PDZ8+e8fHxzZw5s6qqqre3l7l3S5BiAUIIcXNzR0dHP3nypKqqqqenR1BQUEtLi9AzngAYdSZPntzc3KytrV1YWKioqIgXcbx//76UlBS7u8ZkysrK169fb2homDNnDv5YdPfu3ZqamgRVxMRhGLZr16709HTazDCJRLKxsSHohOOSkhJvb293d/fk5OSKiorIyMj+/n5HR8enT58yMQqB+4HAqCMnJ2dlZWVubm5nZzdnzhx2dweAb4uVldW+fftcXFyqqqpsbW0RQr/88ktMTIy1tTW7u8Z8AgICqqqqL168KC4u7uvr09HRITS/IoSSkpIuXLjg4+Nz48aN2tragoICLy+v7Ozs48ePExGut7cXf/QrKyv78OFDhBA/P/+GDRtu3brFxCgwigV/unv3blhY2MOHD0kkUnp6+tGjR6WkpAICAtjdLwC+FVu2bJk4cWJlZaWfn99//vMfhNCDBw82bNjg6enJ7q4xX1ZWVnh4eHt7OwcHR3p6ekxMDDc3d3h4OHFHxGdkZLi6uuLz0gih6dOnUyiUoaGh8+fPr1+/nunhREVF8Rn+mTNndnZ2dnd3i4iISEpKvnr1iolRYBQLEEKorKzMxcWFl5d369at+CyNgoLCyZMnU1JS2N01MPqM1SeyJBLJ3d09KSmJVtj23Llzvr6+zc3N7O0Y0+Xl5fn7++vq6kZERFCpVISQubl5UVFRXFwccUFbW1sZNjUghHR0dAj68c6fPz8hIeHly5ffffedsLDwpUuXEEI3b95k7jYKGMUChBCKjIw0MzOLiooaHh4+ePAgQmjTpk0DAwPp6enOzs7s7h34pn0jhZFZYOfOnT///DN9C5VKTUpKiouL+/XXX9nVKyIkJCTY29vv3r17ZGQEb7G1te3q6jp//vyWLVsICjpt2rTffvuNoYBifX09QQcXbt682cnJyd/fPzU11d3d/cCBAwkJCb29vcw9nhZSLEAIobq6OvwXi/5vpb6+PpxkB76K9acdsEtmZiaVSqWtun/06NGOHTvq6uoWL17M3o4xXWNjI0OtN4SQurp6TEwMcUGtrKxiYmIkJSUtLCxIJBKGYVeuXDl8+PDq1auJCDdt2rS8vLw//vgDIeTs7CwuLl5dXa2mpmZjY8PEKJBiAUIICQoKdnR0MDS2trbCCe3gq9hbGJmV4uLivL29qVTqzp07Y2JiTp06JSkpmZiY+GlltNFOTEysoaFBX1+fvrGhoYHQY3Hd3Nzu3bv3ww8/bNu2TVRU9M2bNyMjI2QyefPmzQRF5OXlpe2bsLa2JmLZGqRYgBBCZmZmERERcnJy+NmiJBKpra0tISHB2NiY3V0D4FthaGh49OjRTZs2Xb16dWhoyNnZmUKhjMljdiwtLaOjoydPnozfPZBIpIcPH8bFxVlZWREXlIeHJyUlpaioqLKyEi8HPW/ePKbfvtDX+/wsOAYAMF9PT8/atWufPHkiLi7e0dExc+bMtra2KVOmnD59mqAHIQCMUg8ePHB1dVVTU0tMTCT0HDQ2Ghwc9PT0LC0t5eDgoFKp/Pz8AwMD2traR48eJe6W4vDhw3Z2dpKSkvSNzc3NycnJQUFBzIry1QM6mXsMAKRY8KfBwcHMzMzy8nL8MGQymbxy5Uo+Pj529wsANlu7di1DS0tLy8uXL+fMmYMfs0NQnXq2u337dllZGV6LhkwmGxkZEfrQXVFRMS0tDa+HTJObmxsQEPDgwQPi4hIKUiwAAHzJ36nUzeL6umOJvb19TU0NQgjDsM+mcFVV1fPnzxMUfWBgAC9fdfXq1dbWVhMTkxkzZjDx+pBix7XMzMyvfmbFihUs6AkAgO0OHz781c94eXkxN+jTp0/z8/MxDIuNjV21ahV9NUoODg4hIaFFixZNnjyZuUERQs+ePXN3d1+6dOmWLVsiIyMTEhIQQhMmTEhOTtbS0mJWFEix45qCggJ+2/hXvwYkEomJh04AAL5l9GXJ8W0znJycoqKiPT09Q0ND3NzcwsLCpaWlBEX/7LNY4nh6ejY2NoaGhsrLyxsYGBgYGAQHBwcEBPT09DBxTgJWFI9rEhISHR0dSkpKS5cuNTExwU+IBADQo92J/hUSifT48WOW9Yc49fX1+BdlZWW+vr47d+5cvHgxJycnQqi4uPinn34itKIqPj4uLi6uqKjo7e0VFRXV1tY2NDQkKNy9e/dCQkJUVVVLS0vfvn27evVqAQEBe3t75h4vBil2XCsuLq6srMzNzcUr1JiZmVlZWenr6+P/qQAACCEKhTJOamvQBAcH+/j4WFpa0loWLFiwefPmiIiIpUuXEhSUtowZHzq/efPmyJEjurq6iYmJRBRGHhoaEhISQggVFxfz8fHhk8MjIyNcXMxMi5BixzUSiUQmk8lkclBQ0J07d/Ly8rZu3crBwbFo0SIrKysymczuDgLAfuPw1OTW1tZp06YxNIqJiXV2dhIXNCYmpqqqKjQ0dOnSpZycnMPDw5cvX96zZ098fDwR1Sfk5OSuXbs2a9as/Px8AwMDLi6uoaGh06dPy8nJMTEKPIsFHxkaGiouLr5y5UphYaGAgIClpSUctgMATVdXF368KG0mc/369YTWPGILe3t7YWHhuLg42oTWhw8fNmzYwMXFRdz2JBMTE0dHRxcXF/rGY8eOnT17loga17dv36ZQKB8+fODh4UlNTVVVVTU1NX39+nVCQoKenh6zokCKBZ9RX1+flZV16tSpkZERWO4EAK6trW316tVdXV0aGhr4Oob79++LiopmZGSwbJEOa1RUVLi4uIiLixsaGoqKir5+/bqoqOjdu3epqamKiooEBVVXV09ISGA4BqCsrGzjxo0E7Yttamp68OCBuro6PmQ/ceKErq6uvLw8E0PARDH4r/r6+itXruTn57948WLq1Knr1q2jfxgDwDh38OBBLi6uvLw8aWlpvKWpqWnDhg0RERFjrFAzmUw+d+5cYmJiYWFhd3e3qKionp4ehUJh7p5RBt99911VVRVDiq2srJwyZQpBEaWlpaWlpd++fdvQ0CAtLe3o6Mj0ZSiQYsF/M+vz58/xYy4sLS3V1dXZ3S8Avi2lpaXbt2+n5VeEkLS0NIVCCQ0NZWOvCKKsrBwdHc3KiPb29vv37+fl5V26dKm4uPjr168vX7589OhRpu/Epbl7925YWNjDhw9JJFJ6enpSUpKkpCRzH41Bih3XIiIi8DGrmJjY4sWLf/nlF21tbXZ3CoBv1MjIyKfndU+aNKmvr48t/SFaUVHRnTt3Ojo6fvjhh7q6OmVl5U/XQDHRmjVrHj9+HBYWFh4ejrdgGGZjY+Pm5kZEuLKyMjc3t7lz527dujUsLAwhJC8vHx0dLSkpycRDsuFZ7LimoKDAycmpqak5b968zxY0J5FIzD2gGIDRy8HBYerUqQcPHqRv9PPze/78eUZGBrt6RYR3795RKJQ7d+4ICAj09/dnZGSEhYU9fvw4NTV1zpw5hIZuaGioqKjAT9ohk8mysrIEBVq9erWUlFRUVNTw8LCKisqFCxeUlZUPHTpUUFCQl5fHrCgwih3vRkZGKisrKysrP/supFgAaDw9PV1cXHp6eiwtLfHlTrm5uaWlpSyeUGWBQ4cOPXr06Pjx49ra2ioqKgihAwcOuLq6RkVF/Z0ii/+bnp6e6Ojo6urq3t5evCUpKQkhRCKRiFhRXFdXh/9xo9/0rK+vz9wl05BixzVaMRcAwF9xcnKys7NbvHixvr7+/v37w8LCiouL8bfExcVDQkLMzc3Z20Omu3Lliq+vr66u7sjICN4yefJkDw+P4OBg4oLu3Lnzxo0bhoaG9HUciSMoKNjR0cHQ2NraKigoyMQokGIBQgj19fUJCAh82p6dnb1s2TLW9weAb0d3d/ePP/74888/W1lZrVq1qqSk5NmzZ/hMpoyMzJgs/NTb2/vpY1dhYeGBgQHigt65c2fHjh1r1qwhLgQ9MzOziIgIOTk5JSUlhBCJRGpra0tISDA2NmZilLF5njD4p9atW8ewZKOlpcXV1dXf359dXQLgG5GTk3PhwoXly5dfvXp11apVNjY25eXls2fPlpWVHZP5FSE0Z86cnJwchsbCwkJCH8Ty8/NPnz6duOsz8PPzExMT+/777/Gc6uvra2FhwcHB4evry8QonLt372bi5cAoFR8fn5+fb2FhwcvLixA6ceLE5s2bX7165e/vz3BCMgDj0OTJkxcsWLBu3TplZeXW1tbU1NTjx48/ffpUWFiYlVmBZcTExCIiIh48eDAwMFBUVDRr1qycnJxz584FBgbOnj2boKBDQ0PZ2dnm5uZEVCT+1IMHD9zd3adPn45hmISExNSpU7///ntfX9+Kigom1lCEFcUAIYRaWlrWr1/Pz88fGBgYFhZWW1u7ZMmS7du3S0hIsLtrAHxzenp6Ll++nJ2dXVNTIy0tbWtru2nTJnZ3islycnLCw8Pb2trwl2JiYlu2bLGzsyMu4sDAgK2tbUdHx6xZs/j4+GjtJBKJiKqNioqKaWlpDEOI8vLyjRs31tbWMisKpFjwp46ODmdn54aGhunTpwcFBRF3hhQAY0ZlZeXOnTufP38+VuuMPnv2rLu7W0hISEZG5rP7+pho69atly9flpGR+bTmMxMPcPX3929tbUUIVVRUKCkpMaxB+eOPP7i4uAoLC5kVDpY7gT9JSEikpqa6urq+f/9eWVmZ3d0B4NuFb9e5fPnyo0ePpkyZ4unpye4eMV9eXl55eTm+hLi6uvr777/39PQ0NTUlLmJhYaGfnx9BhSZoFi9enJKSQntJP8jk5OTU0NBwcHBgYjhIsePap2dN479w+vr6+Msxc9Y0AP9ef3//tWvXcnJy7t69y8nJuXDhwh9++EFPT2/sLXrKzMwMCAhYtGgR/lJERERCQsLLyys6OnrhwoUEBeXh4cH34BLK1NQUv1FwcnLavXs3caUtcDBRPK7FxMR89a8DcQVCARgVhoeHi4qKcnJybt269f79e0VFRVtbW2tra2FhYXZ3jSjW1tYGBgYMGwoOHDhw9+7dixcvEhR03759ra2tkZGRRM9IsxKMYse1cXjWNAD/lL6+fm9vr5CQkK2tra2tLb6Ncmx78eKFkZERQ+OCBQvOnj1LXFBBQcGMjAxTU1M1NTV+fn5aO4lECgkJIS4uoSDFgj81NTUNDg7Kysq+ffs2MjLy5cuXFhYWK1asYHe/AGAzZWVlW1tblm0m+RZISEjU1tbq6urSN9bX1396CgITXbx4EZ8YePjwIX37qJ6HhxQLEEKoqKiIQqE4OTn5+/sHBQVdu3ZNTk4uMDBwaGiI0GX6AHz7kpOT2d0FVrOysoqPj584caK5ufmkSZO6urpu3rwZExPj5OREXFAmruP9dsCzWIAQQvb29iIiImFhYVQqVU9Pz83NbfPmzREREYWFhZ8WeQEAjG1DQ0N+fn7Xrl2jjSAxDLOwsAgLC+PigoHZPwA/LIAQQvX19fHx8QICApcvXx4ZGVm8eDFCSF9fn351OwBgnODi4oqOjv7999+rqqq6u7sFBQW1tLRYU51/jIEUCxBCaMKECcPDwwih0tJSMTEx/P/S69evhYSE2N01AACrWVtb+/n5mZiYEH067JgHKRYghJCmpmZycnJvb+/Vq1dtbGwQQg8fPoyJidHU1GR31wAArNba2kpfwhD8z8bO9iPwb2zfvr2trc3Pz2/atGkeHh4IIXd396GhIeYeOgEAGBWsra2PHz/e3t7O7o6MerDcCfwJw7DOzk5xcXH8ZXV19c2bNy9fvnzz5k32dgwAwGLr16+/d+/eyMiIiIjIxIkTae0kEqmgoICNHRt1YKIY/IlEIuH5taSk5Ny5c0VFRcPDw2PyoC4AwJdNmTLF2tqa3b0YC2AUC/7U1dWVkZFx/vz5ly9fCggIWFhYLF++XFtbm939AgCA0QpGsQCVl5enpaUVFBSMjIxoaWm9fPkyNjaWTCazu18AAHZqaGi4fft2e3u7k5NTU1OTgoICw9Fv4KsgxY5rx48fT0tLa2xsnDFjhqenp42NzcSJE8lk8qiuWAYA+JeoVGpQUNCFCxcwDCORSEuWLImLi3vx4kVqaqqUlBS7ezeawIricW3//v08PDwnT568evWqh4eHlJQUJFcAQFxcXE5Ozt69e2/fvo0/TNy2bRuVSo2IiGB310YZSLHj2tKlS58/f+7u7u7p6Xn9+nW8+gQAYJy7cOGCj4+Pra2tiIgI3qKoqOjj43P79m32dmzUgYnicS08PLyvry8nJ+fixYve3t6ioqILFy4kkUgwlgVgSuxsWwAACjtJREFUPHv9+rWioiJDo6SkZG9vL1v6M3rBKHa8ExAQWLNmTXp6ek5OzvLlywsLCzEM2759e1RU1NOnT9ndOwAAG8yYMaOoqIihsaKiYsaMGWzpz+gFm3bAR4aHh2/evHnhwoXS0tKRkZE5c+ZkZ2ezu1MAAJZKT08PCgpas2aNiYnJxo0bw8PD29raoqKiAgIC1qxZw+7ejSaQYsHnvX79+tKlS5cuXcrLy2N3XwAArJaYmBgfH//+/Xv8JTc3t6ur6+bNm9nbq1EHUiwAAIDP6Ovru3//fnd3t5CQkIaGhrCwMLt7NPrAcicAAAAf6enpiY6Orq6uZljfBDWK/ylIsQAAAD6yc+fOGzduGBoawjHs/xJMFAMAAPiItra2n58frGz692DTDgAAgI/w8/PDKVtMASkWAADARxwcHI4dO9bf38/ujox6MFEMAADgIwMDA7a2th0dHbNmzeLj46O1k0ikEydOsLFjow6MYgEAAHwkKCiosbFx8uTJvLy8GB0qlcruro0yMIoFAADwEU1NTQ8PDzc3N3Z3ZNSDUSwAAICP8PDwqKiosLsXYwGkWAAAAB9Zvnz52bNnYVr434PSEwAAAD4iKCiYkZFhamqqpqbGz89PayeRSCEhIWzs2KgDz2IBAAB8xNTU9LPtJBLpxo0bLO7MqAYpFgAAACAEPIsFAAAACAEpFgAAACAEpFgAADvBsyowhkGKBWAccXJykqejoqJibGy8Z8+enp6ef3/xixcvysvLNzc3I4RiYmLk5eW//Pm2traNGze+fPnynwZqbm6Wl5e/ePHip285OTk5OTl99Qp/82MM6L9BAP4O2LQDwPiipKS0a9cu/OuhoaFHjx4dOnSorq7u7NmzJBKJWVHs7OwMDQ2//Jk7d+4UFRUxKyIA3yBIsQCMLwICAhoaGrSX8+bN6+/vj46OrqmpoW//l6SkpKSkpJh1NQBGKZgoBmC8w0vltbS0IIScnJy2bt3q4+OjoaHh7OyMEPrw4UNoaKiRkZGKioq1tXVeXh7tH1Kp1Li4OGNjY3V1dU9PT/rZZoaJ4szMTBsbG3V1dWNj4/Dw8MHBwYsXLwYGBiKEzMzMAgIC8I+lp6cvXboUn76OiYkZGRmhXeHatWvLli1TU1OzsbGpr6//O99XV1fXnj17TExMVFRUyGQyhUJhmOONjY3V09ObO3eup6dnU1MTrf3Jkyfu7u6ampqampoUCoX+LQD+ERjFAjDeNTY2IoSkpaXxl1euXFm2bFl8fDyVSsUwjEKhVFdX+/j4yMrKXr9+/YcffhgcHFyxYgVC6ODBgydPnvTw8FBXV79y5Up4ePhnr3/69Ong4GA7OztfX9+mpqbQ0NCenp4tW7Z4eHjEx8cfPnwYT8aJiYkRERGOjo6BgYF1dXUxMTGtra14LaHCwkIfHx9ra+tt27bV1dVt27btq98UhmHu7u49PT1bt24VFxf/7bffIiMjd+3adezYMfwDVVVVnZ2dQUFBIyMj4eHha9euzcnJERAQaGxstLe3l5GROXDgwPDwcHx8/Jo1a7KyssTExJjxwwbjC6RYAMYXDMOGh4fxr3t6eioqKuLj4+fOnUsr+87Nzb1nzx4eHh6E0O3bt0tKSiIiIiwtLRFChoaG7969CwsLs7KyGhgYOHXqlLOzs5eXF/5We3t7SUkJQzgqlRobG7tw4cK9e/fiLe/evcvNzRUUFPzuu+8QQoqKitOnT3/79m1cXNzq1at37NiBEDIwMBAREdmxY4ezs/OcOXNiY2PV1NQOHjyIB0II/VU6p2lvb+fj4/P399fW1kYI6ejovHjxIi0tjfYBTk7O5ORkfDZbRkZmxYoVmZmZjo6Ohw8f5uPjO378uICAAEJo/vz5CxcuTEpK8vf3/zc/djA+QYoFYHyprKxUVlamveTg4NDT0wsODqatdZKRkcHzK0KorKyMRCIZGRnRsrKpqWl2dvbvv//e0dExNDRkYmJCu9SSJUs+TbGNjY2dnZ3m5ua0FhcXFxcXF4aP3b9///3796ampvSBEEK3b9+WlpZ+9OjR5s2b6QN9NcVKSkqePHkSw7Dm5ubnz58/e/asurp6cHCQ9gFNTU3a02JFRUVpaenKykpHR8fy8nIymczLy4v3REBAQFtb+86dO18OB8BnQYoFYHxRVlbes2cPQohEIk2YMGHKlCn4cI2Gvux7d3c3hmGampoMF2lvb+/t7UUIiYqK0holJCQ+Ddfd3Y0Q+uosK/6xjRs3fhqop6cHwzD6QJMnT/7y1XDZ2dmHDh1qbW0VERFRVFTk5eWlf1dcXJz+pZiYGP4ddXd35+Xl0T9yRghNmjTp70QEgAGkWADGF35+flVV1b/5YUFBwYkTJ548eZKhfcaMGbW1tQihzs5OGRkZvBFPkwyEhIQQQl1dXbSWN2/ePH78eO7cuZ9+LCwsbObMmfTt4uLiIiIiHBwcr1+/pjV+NhCDe/fu+fv7Ozk5ubi4SEpKIoRCQ0OrqqpoH2DYCtzR0YF3SVBQUE9PD1/qRcPFBX8qwf8CVhQDAP4SmUweGBjAMEz1/z158iQ2NnZ4eHju3Lm8vLz5+fm0D9+8efPTK8jIyIiKitK/lZWVtXHjxqGhIQ6O//79UVdX5+bmfvXqFS0QFxfXoUOHmpubJ0yYMHfu3GvXrtHqQBUWFn615/fv36dSqd7e3nh+HRkZwSd7aWegVlVVvX37Fv+6pqbm5cuXurq6+Lf89OlTRUVFvBsqKirHjx+/fv36P/zJAYAQjGIBAF9gZGQ0b948T09PT09PWVnZ2tra6OhoQ0NDfOLU09MzMjKSj49PV1e3qKjosymWk5PT29s7ODhYTEzM1NS0sbExOjrawcFBWFgYH7lev359wYIFsrKyrq6uUVFRfX19Ojo6r169ioqKIpFICgoKCCFfX99169Z5eXmtXr26sbExISHhqz1XU1NDCAUHB9va2vb09Jw+fRrf6jMwMIBPjFOp1I0bN27atOnNmzfh4eFycnLLli3Dvyl7e3t3d/c1a9ZMmDAhLS2toKAgOjqamT9WMG5AigUA/CUODo4jR45ERUUlJiZ2dnZKSko6OztTKBT8XXd394kTJ544ceLEiRNz58719/ffvXv3pxdxcHCYOHHisWPH0tLSpKSk3Nzc3NzcEEI6Ojp6enrh4eFlZWVHjhzZsmWLhITEmTNnkpKShIWF58+f7+vrKygoiBDS1tY+evTooUOHvLy8pk+fHhISsmnTpi/3XEdHJygoKCUlJT8/X1xcXEdH5/DhwxQKpaqqysjICCG0cOHCqVOnbtu2bXh42MTE5KeffpowYQJCSEFB4fTp0xERET/++COGYXJycrGxsWZmZsz9wYJxAs6LBQAAAAgBz2IBAAAAQkCKBQAAAAgBKRYAAAAgBKRYAAAAgBCQYgEAAABCQIoFAAAACAEpFgAAACAEpFgAAACAEJBiAQAAAEJAigUAAAAIASkWAAAAIASkWAAAAIAQ/wd16Rx8SDaNZgAAAABJRU5ErkJggg==)"
      ],
      "metadata": {
        "id": "1Q90jRZLTUOW"
      }
    }
  ],
  "metadata": {
    "celltoolbar": "Create Assignment",
    "kernelspec": {
      "display_name": "Python 3",
      "name": "python3"
    },
    "language_info": {
      "codemirror_mode": {
        "name": "ipython",
        "version": 3
      },
      "file_extension": ".py",
      "mimetype": "text/x-python",
      "name": "python",
      "nbconvert_exporter": "python",
      "pygments_lexer": "ipython3",
      "version": "3.10.11"
    },
    "toc": {
      "base_numbering": 1,
      "nav_menu": {},
      "number_sections": true,
      "sideBar": true,
      "skip_h1_title": true,
      "title_cell": "Table of Contents",
      "title_sidebar": "Contents",
      "toc_cell": false,
      "toc_position": {
        "height": "calc(100% - 180px)",
        "left": "10px",
        "top": "150px",
        "width": "236.975px"
      },
      "toc_section_display": true,
      "toc_window_display": true
    },
    "varInspector": {
      "cols": {
        "lenName": 16,
        "lenType": 16,
        "lenVar": 40
      },
      "kernels_config": {
        "python": {
          "delete_cmd_postfix": "",
          "delete_cmd_prefix": "del ",
          "library": "var_list.py",
          "varRefreshCmd": "print(var_dic_list())"
        },
        "r": {
          "delete_cmd_postfix": ") ",
          "delete_cmd_prefix": "rm(",
          "library": "var_list.r",
          "varRefreshCmd": "cat(var_dic_list()) "
        }
      },
      "types_to_exclude": [
        "module",
        "function",
        "builtin_function_or_method",
        "instance",
        "_Feature"
      ],
      "window_display": false
    },
    "colab": {
      "provenance": [],
      "machine_shape": "hm",
      "gpuType": "A100"
    },
    "accelerator": "GPU",
    "widgets": {
      "application/vnd.jupyter.widget-state+json": {
        "060540e7d6ce43128795c50ea92b42e6": {
          "model_module": "@jupyter-widgets/controls",
          "model_name": "HBoxModel",
          "model_module_version": "1.5.0",
          "state": {
            "_dom_classes": [],
            "_model_module": "@jupyter-widgets/controls",
            "_model_module_version": "1.5.0",
            "_model_name": "HBoxModel",
            "_view_count": null,
            "_view_module": "@jupyter-widgets/controls",
            "_view_module_version": "1.5.0",
            "_view_name": "HBoxView",
            "box_style": "",
            "children": [
              "IPY_MODEL_39600857b1934263ba2d11f27049ceb6",
              "IPY_MODEL_69c018cfc7ad461785193a90eb1021ff",
              "IPY_MODEL_024d6f38840a4172963f9e73b700a40e"
            ],
            "layout": "IPY_MODEL_e6e97088adf3463f92c7368e7c8a100f"
          }
        },
        "39600857b1934263ba2d11f27049ceb6": {
          "model_module": "@jupyter-widgets/controls",
          "model_name": "HTMLModel",
          "model_module_version": "1.5.0",
          "state": {
            "_dom_classes": [],
            "_model_module": "@jupyter-widgets/controls",
            "_model_module_version": "1.5.0",
            "_model_name": "HTMLModel",
            "_view_count": null,
            "_view_module": "@jupyter-widgets/controls",
            "_view_module_version": "1.5.0",
            "_view_name": "HTMLView",
            "description": "",
            "description_tooltip": null,
            "layout": "IPY_MODEL_3f1b61ab2cb7423ca77ae41914aa36bc",
            "placeholder": "​",
            "style": "IPY_MODEL_d1edc855183a46ab84ecadf8a864134c",
            "value": "Casting to class labels:   0%"
          }
        },
        "69c018cfc7ad461785193a90eb1021ff": {
          "model_module": "@jupyter-widgets/controls",
          "model_name": "FloatProgressModel",
          "model_module_version": "1.5.0",
          "state": {
            "_dom_classes": [],
            "_model_module": "@jupyter-widgets/controls",
            "_model_module_version": "1.5.0",
            "_model_name": "FloatProgressModel",
            "_view_count": null,
            "_view_module": "@jupyter-widgets/controls",
            "_view_module_version": "1.5.0",
            "_view_name": "ProgressView",
            "bar_style": "",
            "description": "",
            "description_tooltip": null,
            "layout": "IPY_MODEL_4aad445553be451a946a081f70ea70b9",
            "max": 24712,
            "min": 0,
            "orientation": "horizontal",
            "style": "IPY_MODEL_dec8e9741efc4fb69d5e87e05cdc5194",
            "value": 24712
          }
        },
        "024d6f38840a4172963f9e73b700a40e": {
          "model_module": "@jupyter-widgets/controls",
          "model_name": "HTMLModel",
          "model_module_version": "1.5.0",
          "state": {
            "_dom_classes": [],
            "_model_module": "@jupyter-widgets/controls",
            "_model_module_version": "1.5.0",
            "_model_name": "HTMLModel",
            "_view_count": null,
            "_view_module": "@jupyter-widgets/controls",
            "_view_module_version": "1.5.0",
            "_view_name": "HTMLView",
            "description": "",
            "description_tooltip": null,
            "layout": "IPY_MODEL_c8eb21ad8d0a40e78e57e445843a71d8",
            "placeholder": "​",
            "style": "IPY_MODEL_08bca8dabf1344bea087d8f894a0a626",
            "value": " 0/24712 [00:00&lt;?, ? examples/s]"
          }
        },
        "e6e97088adf3463f92c7368e7c8a100f": {
          "model_module": "@jupyter-widgets/base",
          "model_name": "LayoutModel",
          "model_module_version": "1.2.0",
          "state": {
            "_model_module": "@jupyter-widgets/base",
            "_model_module_version": "1.2.0",
            "_model_name": "LayoutModel",
            "_view_count": null,
            "_view_module": "@jupyter-widgets/base",
            "_view_module_version": "1.2.0",
            "_view_name": "LayoutView",
            "align_content": null,
            "align_items": null,
            "align_self": null,
            "border": null,
            "bottom": null,
            "display": null,
            "flex": null,
            "flex_flow": null,
            "grid_area": null,
            "grid_auto_columns": null,
            "grid_auto_flow": null,
            "grid_auto_rows": null,
            "grid_column": null,
            "grid_gap": null,
            "grid_row": null,
            "grid_template_areas": null,
            "grid_template_columns": null,
            "grid_template_rows": null,
            "height": null,
            "justify_content": null,
            "justify_items": null,
            "left": null,
            "margin": null,
            "max_height": null,
            "max_width": null,
            "min_height": null,
            "min_width": null,
            "object_fit": null,
            "object_position": null,
            "order": null,
            "overflow": null,
            "overflow_x": null,
            "overflow_y": null,
            "padding": null,
            "right": null,
            "top": null,
            "visibility": "hidden",
            "width": null
          }
        },
        "3f1b61ab2cb7423ca77ae41914aa36bc": {
          "model_module": "@jupyter-widgets/base",
          "model_name": "LayoutModel",
          "model_module_version": "1.2.0",
          "state": {
            "_model_module": "@jupyter-widgets/base",
            "_model_module_version": "1.2.0",
            "_model_name": "LayoutModel",
            "_view_count": null,
            "_view_module": "@jupyter-widgets/base",
            "_view_module_version": "1.2.0",
            "_view_name": "LayoutView",
            "align_content": null,
            "align_items": null,
            "align_self": null,
            "border": null,
            "bottom": null,
            "display": null,
            "flex": null,
            "flex_flow": null,
            "grid_area": null,
            "grid_auto_columns": null,
            "grid_auto_flow": null,
            "grid_auto_rows": null,
            "grid_column": null,
            "grid_gap": null,
            "grid_row": null,
            "grid_template_areas": null,
            "grid_template_columns": null,
            "grid_template_rows": null,
            "height": null,
            "justify_content": null,
            "justify_items": null,
            "left": null,
            "margin": null,
            "max_height": null,
            "max_width": null,
            "min_height": null,
            "min_width": null,
            "object_fit": null,
            "object_position": null,
            "order": null,
            "overflow": null,
            "overflow_x": null,
            "overflow_y": null,
            "padding": null,
            "right": null,
            "top": null,
            "visibility": null,
            "width": null
          }
        },
        "d1edc855183a46ab84ecadf8a864134c": {
          "model_module": "@jupyter-widgets/controls",
          "model_name": "DescriptionStyleModel",
          "model_module_version": "1.5.0",
          "state": {
            "_model_module": "@jupyter-widgets/controls",
            "_model_module_version": "1.5.0",
            "_model_name": "DescriptionStyleModel",
            "_view_count": null,
            "_view_module": "@jupyter-widgets/base",
            "_view_module_version": "1.2.0",
            "_view_name": "StyleView",
            "description_width": ""
          }
        },
        "4aad445553be451a946a081f70ea70b9": {
          "model_module": "@jupyter-widgets/base",
          "model_name": "LayoutModel",
          "model_module_version": "1.2.0",
          "state": {
            "_model_module": "@jupyter-widgets/base",
            "_model_module_version": "1.2.0",
            "_model_name": "LayoutModel",
            "_view_count": null,
            "_view_module": "@jupyter-widgets/base",
            "_view_module_version": "1.2.0",
            "_view_name": "LayoutView",
            "align_content": null,
            "align_items": null,
            "align_self": null,
            "border": null,
            "bottom": null,
            "display": null,
            "flex": null,
            "flex_flow": null,
            "grid_area": null,
            "grid_auto_columns": null,
            "grid_auto_flow": null,
            "grid_auto_rows": null,
            "grid_column": null,
            "grid_gap": null,
            "grid_row": null,
            "grid_template_areas": null,
            "grid_template_columns": null,
            "grid_template_rows": null,
            "height": null,
            "justify_content": null,
            "justify_items": null,
            "left": null,
            "margin": null,
            "max_height": null,
            "max_width": null,
            "min_height": null,
            "min_width": null,
            "object_fit": null,
            "object_position": null,
            "order": null,
            "overflow": null,
            "overflow_x": null,
            "overflow_y": null,
            "padding": null,
            "right": null,
            "top": null,
            "visibility": null,
            "width": null
          }
        },
        "dec8e9741efc4fb69d5e87e05cdc5194": {
          "model_module": "@jupyter-widgets/controls",
          "model_name": "ProgressStyleModel",
          "model_module_version": "1.5.0",
          "state": {
            "_model_module": "@jupyter-widgets/controls",
            "_model_module_version": "1.5.0",
            "_model_name": "ProgressStyleModel",
            "_view_count": null,
            "_view_module": "@jupyter-widgets/base",
            "_view_module_version": "1.2.0",
            "_view_name": "StyleView",
            "bar_color": null,
            "description_width": ""
          }
        },
        "c8eb21ad8d0a40e78e57e445843a71d8": {
          "model_module": "@jupyter-widgets/base",
          "model_name": "LayoutModel",
          "model_module_version": "1.2.0",
          "state": {
            "_model_module": "@jupyter-widgets/base",
            "_model_module_version": "1.2.0",
            "_model_name": "LayoutModel",
            "_view_count": null,
            "_view_module": "@jupyter-widgets/base",
            "_view_module_version": "1.2.0",
            "_view_name": "LayoutView",
            "align_content": null,
            "align_items": null,
            "align_self": null,
            "border": null,
            "bottom": null,
            "display": null,
            "flex": null,
            "flex_flow": null,
            "grid_area": null,
            "grid_auto_columns": null,
            "grid_auto_flow": null,
            "grid_auto_rows": null,
            "grid_column": null,
            "grid_gap": null,
            "grid_row": null,
            "grid_template_areas": null,
            "grid_template_columns": null,
            "grid_template_rows": null,
            "height": null,
            "justify_content": null,
            "justify_items": null,
            "left": null,
            "margin": null,
            "max_height": null,
            "max_width": null,
            "min_height": null,
            "min_width": null,
            "object_fit": null,
            "object_position": null,
            "order": null,
            "overflow": null,
            "overflow_x": null,
            "overflow_y": null,
            "padding": null,
            "right": null,
            "top": null,
            "visibility": null,
            "width": null
          }
        },
        "08bca8dabf1344bea087d8f894a0a626": {
          "model_module": "@jupyter-widgets/controls",
          "model_name": "DescriptionStyleModel",
          "model_module_version": "1.5.0",
          "state": {
            "_model_module": "@jupyter-widgets/controls",
            "_model_module_version": "1.5.0",
            "_model_name": "DescriptionStyleModel",
            "_view_count": null,
            "_view_module": "@jupyter-widgets/base",
            "_view_module_version": "1.2.0",
            "_view_name": "StyleView",
            "description_width": ""
          }
        },
        "cb96dddf23434840aa3a06b8ecf393c0": {
          "model_module": "@jupyter-widgets/controls",
          "model_name": "HBoxModel",
          "model_module_version": "1.5.0",
          "state": {
            "_dom_classes": [],
            "_model_module": "@jupyter-widgets/controls",
            "_model_module_version": "1.5.0",
            "_model_name": "HBoxModel",
            "_view_count": null,
            "_view_module": "@jupyter-widgets/controls",
            "_view_module_version": "1.5.0",
            "_view_name": "HBoxView",
            "box_style": "",
            "children": [
              "IPY_MODEL_643af9effc0346dd8b33e391d25309a9",
              "IPY_MODEL_51a3f7cfa47e4f618eb35a18f90ffed9",
              "IPY_MODEL_094883cbc335411eb434099026a284b3"
            ],
            "layout": "IPY_MODEL_7c6bf876583a4bab83b168ef2674a754"
          }
        },
        "643af9effc0346dd8b33e391d25309a9": {
          "model_module": "@jupyter-widgets/controls",
          "model_name": "HTMLModel",
          "model_module_version": "1.5.0",
          "state": {
            "_dom_classes": [],
            "_model_module": "@jupyter-widgets/controls",
            "_model_module_version": "1.5.0",
            "_model_name": "HTMLModel",
            "_view_count": null,
            "_view_module": "@jupyter-widgets/controls",
            "_view_module_version": "1.5.0",
            "_view_name": "HTMLView",
            "description": "",
            "description_tooltip": null,
            "layout": "IPY_MODEL_8155786da67547ad924058c4794c2b05",
            "placeholder": "​",
            "style": "IPY_MODEL_abb0d70706e0456a92bb85c897a2eb76",
            "value": "Map: 100%"
          }
        },
        "51a3f7cfa47e4f618eb35a18f90ffed9": {
          "model_module": "@jupyter-widgets/controls",
          "model_name": "FloatProgressModel",
          "model_module_version": "1.5.0",
          "state": {
            "_dom_classes": [],
            "_model_module": "@jupyter-widgets/controls",
            "_model_module_version": "1.5.0",
            "_model_name": "FloatProgressModel",
            "_view_count": null,
            "_view_module": "@jupyter-widgets/controls",
            "_view_module_version": "1.5.0",
            "_view_name": "ProgressView",
            "bar_style": "",
            "description": "",
            "description_tooltip": null,
            "layout": "IPY_MODEL_fbcc73e5beca48489c58693af5809724",
            "max": 24712,
            "min": 0,
            "orientation": "horizontal",
            "style": "IPY_MODEL_a56ed8b1d507438cb53a5cb56a2d2dd5",
            "value": 24712
          }
        },
        "094883cbc335411eb434099026a284b3": {
          "model_module": "@jupyter-widgets/controls",
          "model_name": "HTMLModel",
          "model_module_version": "1.5.0",
          "state": {
            "_dom_classes": [],
            "_model_module": "@jupyter-widgets/controls",
            "_model_module_version": "1.5.0",
            "_model_name": "HTMLModel",
            "_view_count": null,
            "_view_module": "@jupyter-widgets/controls",
            "_view_module_version": "1.5.0",
            "_view_name": "HTMLView",
            "description": "",
            "description_tooltip": null,
            "layout": "IPY_MODEL_42e12d4355914e7baefb0efc46cb8362",
            "placeholder": "​",
            "style": "IPY_MODEL_3a9cb59a85904bc9a81dc4ad88b80808",
            "value": " 24712/24712 [00:06&lt;00:00, 3752.46 examples/s]"
          }
        },
        "7c6bf876583a4bab83b168ef2674a754": {
          "model_module": "@jupyter-widgets/base",
          "model_name": "LayoutModel",
          "model_module_version": "1.2.0",
          "state": {
            "_model_module": "@jupyter-widgets/base",
            "_model_module_version": "1.2.0",
            "_model_name": "LayoutModel",
            "_view_count": null,
            "_view_module": "@jupyter-widgets/base",
            "_view_module_version": "1.2.0",
            "_view_name": "LayoutView",
            "align_content": null,
            "align_items": null,
            "align_self": null,
            "border": null,
            "bottom": null,
            "display": null,
            "flex": null,
            "flex_flow": null,
            "grid_area": null,
            "grid_auto_columns": null,
            "grid_auto_flow": null,
            "grid_auto_rows": null,
            "grid_column": null,
            "grid_gap": null,
            "grid_row": null,
            "grid_template_areas": null,
            "grid_template_columns": null,
            "grid_template_rows": null,
            "height": null,
            "justify_content": null,
            "justify_items": null,
            "left": null,
            "margin": null,
            "max_height": null,
            "max_width": null,
            "min_height": null,
            "min_width": null,
            "object_fit": null,
            "object_position": null,
            "order": null,
            "overflow": null,
            "overflow_x": null,
            "overflow_y": null,
            "padding": null,
            "right": null,
            "top": null,
            "visibility": "hidden",
            "width": null
          }
        },
        "8155786da67547ad924058c4794c2b05": {
          "model_module": "@jupyter-widgets/base",
          "model_name": "LayoutModel",
          "model_module_version": "1.2.0",
          "state": {
            "_model_module": "@jupyter-widgets/base",
            "_model_module_version": "1.2.0",
            "_model_name": "LayoutModel",
            "_view_count": null,
            "_view_module": "@jupyter-widgets/base",
            "_view_module_version": "1.2.0",
            "_view_name": "LayoutView",
            "align_content": null,
            "align_items": null,
            "align_self": null,
            "border": null,
            "bottom": null,
            "display": null,
            "flex": null,
            "flex_flow": null,
            "grid_area": null,
            "grid_auto_columns": null,
            "grid_auto_flow": null,
            "grid_auto_rows": null,
            "grid_column": null,
            "grid_gap": null,
            "grid_row": null,
            "grid_template_areas": null,
            "grid_template_columns": null,
            "grid_template_rows": null,
            "height": null,
            "justify_content": null,
            "justify_items": null,
            "left": null,
            "margin": null,
            "max_height": null,
            "max_width": null,
            "min_height": null,
            "min_width": null,
            "object_fit": null,
            "object_position": null,
            "order": null,
            "overflow": null,
            "overflow_x": null,
            "overflow_y": null,
            "padding": null,
            "right": null,
            "top": null,
            "visibility": null,
            "width": null
          }
        },
        "abb0d70706e0456a92bb85c897a2eb76": {
          "model_module": "@jupyter-widgets/controls",
          "model_name": "DescriptionStyleModel",
          "model_module_version": "1.5.0",
          "state": {
            "_model_module": "@jupyter-widgets/controls",
            "_model_module_version": "1.5.0",
            "_model_name": "DescriptionStyleModel",
            "_view_count": null,
            "_view_module": "@jupyter-widgets/base",
            "_view_module_version": "1.2.0",
            "_view_name": "StyleView",
            "description_width": ""
          }
        },
        "fbcc73e5beca48489c58693af5809724": {
          "model_module": "@jupyter-widgets/base",
          "model_name": "LayoutModel",
          "model_module_version": "1.2.0",
          "state": {
            "_model_module": "@jupyter-widgets/base",
            "_model_module_version": "1.2.0",
            "_model_name": "LayoutModel",
            "_view_count": null,
            "_view_module": "@jupyter-widgets/base",
            "_view_module_version": "1.2.0",
            "_view_name": "LayoutView",
            "align_content": null,
            "align_items": null,
            "align_self": null,
            "border": null,
            "bottom": null,
            "display": null,
            "flex": null,
            "flex_flow": null,
            "grid_area": null,
            "grid_auto_columns": null,
            "grid_auto_flow": null,
            "grid_auto_rows": null,
            "grid_column": null,
            "grid_gap": null,
            "grid_row": null,
            "grid_template_areas": null,
            "grid_template_columns": null,
            "grid_template_rows": null,
            "height": null,
            "justify_content": null,
            "justify_items": null,
            "left": null,
            "margin": null,
            "max_height": null,
            "max_width": null,
            "min_height": null,
            "min_width": null,
            "object_fit": null,
            "object_position": null,
            "order": null,
            "overflow": null,
            "overflow_x": null,
            "overflow_y": null,
            "padding": null,
            "right": null,
            "top": null,
            "visibility": null,
            "width": null
          }
        },
        "a56ed8b1d507438cb53a5cb56a2d2dd5": {
          "model_module": "@jupyter-widgets/controls",
          "model_name": "ProgressStyleModel",
          "model_module_version": "1.5.0",
          "state": {
            "_model_module": "@jupyter-widgets/controls",
            "_model_module_version": "1.5.0",
            "_model_name": "ProgressStyleModel",
            "_view_count": null,
            "_view_module": "@jupyter-widgets/base",
            "_view_module_version": "1.2.0",
            "_view_name": "StyleView",
            "bar_color": null,
            "description_width": ""
          }
        },
        "42e12d4355914e7baefb0efc46cb8362": {
          "model_module": "@jupyter-widgets/base",
          "model_name": "LayoutModel",
          "model_module_version": "1.2.0",
          "state": {
            "_model_module": "@jupyter-widgets/base",
            "_model_module_version": "1.2.0",
            "_model_name": "LayoutModel",
            "_view_count": null,
            "_view_module": "@jupyter-widgets/base",
            "_view_module_version": "1.2.0",
            "_view_name": "LayoutView",
            "align_content": null,
            "align_items": null,
            "align_self": null,
            "border": null,
            "bottom": null,
            "display": null,
            "flex": null,
            "flex_flow": null,
            "grid_area": null,
            "grid_auto_columns": null,
            "grid_auto_flow": null,
            "grid_auto_rows": null,
            "grid_column": null,
            "grid_gap": null,
            "grid_row": null,
            "grid_template_areas": null,
            "grid_template_columns": null,
            "grid_template_rows": null,
            "height": null,
            "justify_content": null,
            "justify_items": null,
            "left": null,
            "margin": null,
            "max_height": null,
            "max_width": null,
            "min_height": null,
            "min_width": null,
            "object_fit": null,
            "object_position": null,
            "order": null,
            "overflow": null,
            "overflow_x": null,
            "overflow_y": null,
            "padding": null,
            "right": null,
            "top": null,
            "visibility": null,
            "width": null
          }
        },
        "3a9cb59a85904bc9a81dc4ad88b80808": {
          "model_module": "@jupyter-widgets/controls",
          "model_name": "DescriptionStyleModel",
          "model_module_version": "1.5.0",
          "state": {
            "_model_module": "@jupyter-widgets/controls",
            "_model_module_version": "1.5.0",
            "_model_name": "DescriptionStyleModel",
            "_view_count": null,
            "_view_module": "@jupyter-widgets/base",
            "_view_module_version": "1.2.0",
            "_view_name": "StyleView",
            "description_width": ""
          }
        },
        "eeaecbdbc32d4dec81db095297459ad0": {
          "model_module": "@jupyter-widgets/controls",
          "model_name": "HBoxModel",
          "model_module_version": "1.5.0",
          "state": {
            "_dom_classes": [],
            "_model_module": "@jupyter-widgets/controls",
            "_model_module_version": "1.5.0",
            "_model_name": "HBoxModel",
            "_view_count": null,
            "_view_module": "@jupyter-widgets/controls",
            "_view_module_version": "1.5.0",
            "_view_name": "HBoxView",
            "box_style": "",
            "children": [
              "IPY_MODEL_213857636cf7458da801f23a4a1a774b",
              "IPY_MODEL_66b12e19cabb4581ad6c0408a689c8aa",
              "IPY_MODEL_3c8584b06eb0400e99cc1e7db8f816de"
            ],
            "layout": "IPY_MODEL_97e3f61dca48403e8337824c3c81542d"
          }
        },
        "213857636cf7458da801f23a4a1a774b": {
          "model_module": "@jupyter-widgets/controls",
          "model_name": "HTMLModel",
          "model_module_version": "1.5.0",
          "state": {
            "_dom_classes": [],
            "_model_module": "@jupyter-widgets/controls",
            "_model_module_version": "1.5.0",
            "_model_name": "HTMLModel",
            "_view_count": null,
            "_view_module": "@jupyter-widgets/controls",
            "_view_module_version": "1.5.0",
            "_view_name": "HTMLView",
            "description": "",
            "description_tooltip": null,
            "layout": "IPY_MODEL_c1422b34572b42108ea4ca0241a26d6d",
            "placeholder": "​",
            "style": "IPY_MODEL_6dad2160e9884056b5d0c2e70b9d10e5",
            "value": "Map: 100%"
          }
        },
        "66b12e19cabb4581ad6c0408a689c8aa": {
          "model_module": "@jupyter-widgets/controls",
          "model_name": "FloatProgressModel",
          "model_module_version": "1.5.0",
          "state": {
            "_dom_classes": [],
            "_model_module": "@jupyter-widgets/controls",
            "_model_module_version": "1.5.0",
            "_model_name": "FloatProgressModel",
            "_view_count": null,
            "_view_module": "@jupyter-widgets/controls",
            "_view_module_version": "1.5.0",
            "_view_name": "ProgressView",
            "bar_style": "",
            "description": "",
            "description_tooltip": null,
            "layout": "IPY_MODEL_529ef8ad27cc4d51a756c6321c4f62e1",
            "max": 24712,
            "min": 0,
            "orientation": "horizontal",
            "style": "IPY_MODEL_0df66c4261cf4481ad0f207bad58cb39",
            "value": 24712
          }
        },
        "3c8584b06eb0400e99cc1e7db8f816de": {
          "model_module": "@jupyter-widgets/controls",
          "model_name": "HTMLModel",
          "model_module_version": "1.5.0",
          "state": {
            "_dom_classes": [],
            "_model_module": "@jupyter-widgets/controls",
            "_model_module_version": "1.5.0",
            "_model_name": "HTMLModel",
            "_view_count": null,
            "_view_module": "@jupyter-widgets/controls",
            "_view_module_version": "1.5.0",
            "_view_name": "HTMLView",
            "description": "",
            "description_tooltip": null,
            "layout": "IPY_MODEL_e5049105418648e2a9f751202046562c",
            "placeholder": "​",
            "style": "IPY_MODEL_52e959f6cf2f48cf8557d47cbc33aac4",
            "value": " 24700/24712 [01:22&lt;00:00, 301.21 examples/s]"
          }
        },
        "97e3f61dca48403e8337824c3c81542d": {
          "model_module": "@jupyter-widgets/base",
          "model_name": "LayoutModel",
          "model_module_version": "1.2.0",
          "state": {
            "_model_module": "@jupyter-widgets/base",
            "_model_module_version": "1.2.0",
            "_model_name": "LayoutModel",
            "_view_count": null,
            "_view_module": "@jupyter-widgets/base",
            "_view_module_version": "1.2.0",
            "_view_name": "LayoutView",
            "align_content": null,
            "align_items": null,
            "align_self": null,
            "border": null,
            "bottom": null,
            "display": null,
            "flex": null,
            "flex_flow": null,
            "grid_area": null,
            "grid_auto_columns": null,
            "grid_auto_flow": null,
            "grid_auto_rows": null,
            "grid_column": null,
            "grid_gap": null,
            "grid_row": null,
            "grid_template_areas": null,
            "grid_template_columns": null,
            "grid_template_rows": null,
            "height": null,
            "justify_content": null,
            "justify_items": null,
            "left": null,
            "margin": null,
            "max_height": null,
            "max_width": null,
            "min_height": null,
            "min_width": null,
            "object_fit": null,
            "object_position": null,
            "order": null,
            "overflow": null,
            "overflow_x": null,
            "overflow_y": null,
            "padding": null,
            "right": null,
            "top": null,
            "visibility": "hidden",
            "width": null
          }
        },
        "c1422b34572b42108ea4ca0241a26d6d": {
          "model_module": "@jupyter-widgets/base",
          "model_name": "LayoutModel",
          "model_module_version": "1.2.0",
          "state": {
            "_model_module": "@jupyter-widgets/base",
            "_model_module_version": "1.2.0",
            "_model_name": "LayoutModel",
            "_view_count": null,
            "_view_module": "@jupyter-widgets/base",
            "_view_module_version": "1.2.0",
            "_view_name": "LayoutView",
            "align_content": null,
            "align_items": null,
            "align_self": null,
            "border": null,
            "bottom": null,
            "display": null,
            "flex": null,
            "flex_flow": null,
            "grid_area": null,
            "grid_auto_columns": null,
            "grid_auto_flow": null,
            "grid_auto_rows": null,
            "grid_column": null,
            "grid_gap": null,
            "grid_row": null,
            "grid_template_areas": null,
            "grid_template_columns": null,
            "grid_template_rows": null,
            "height": null,
            "justify_content": null,
            "justify_items": null,
            "left": null,
            "margin": null,
            "max_height": null,
            "max_width": null,
            "min_height": null,
            "min_width": null,
            "object_fit": null,
            "object_position": null,
            "order": null,
            "overflow": null,
            "overflow_x": null,
            "overflow_y": null,
            "padding": null,
            "right": null,
            "top": null,
            "visibility": null,
            "width": null
          }
        },
        "6dad2160e9884056b5d0c2e70b9d10e5": {
          "model_module": "@jupyter-widgets/controls",
          "model_name": "DescriptionStyleModel",
          "model_module_version": "1.5.0",
          "state": {
            "_model_module": "@jupyter-widgets/controls",
            "_model_module_version": "1.5.0",
            "_model_name": "DescriptionStyleModel",
            "_view_count": null,
            "_view_module": "@jupyter-widgets/base",
            "_view_module_version": "1.2.0",
            "_view_name": "StyleView",
            "description_width": ""
          }
        },
        "529ef8ad27cc4d51a756c6321c4f62e1": {
          "model_module": "@jupyter-widgets/base",
          "model_name": "LayoutModel",
          "model_module_version": "1.2.0",
          "state": {
            "_model_module": "@jupyter-widgets/base",
            "_model_module_version": "1.2.0",
            "_model_name": "LayoutModel",
            "_view_count": null,
            "_view_module": "@jupyter-widgets/base",
            "_view_module_version": "1.2.0",
            "_view_name": "LayoutView",
            "align_content": null,
            "align_items": null,
            "align_self": null,
            "border": null,
            "bottom": null,
            "display": null,
            "flex": null,
            "flex_flow": null,
            "grid_area": null,
            "grid_auto_columns": null,
            "grid_auto_flow": null,
            "grid_auto_rows": null,
            "grid_column": null,
            "grid_gap": null,
            "grid_row": null,
            "grid_template_areas": null,
            "grid_template_columns": null,
            "grid_template_rows": null,
            "height": null,
            "justify_content": null,
            "justify_items": null,
            "left": null,
            "margin": null,
            "max_height": null,
            "max_width": null,
            "min_height": null,
            "min_width": null,
            "object_fit": null,
            "object_position": null,
            "order": null,
            "overflow": null,
            "overflow_x": null,
            "overflow_y": null,
            "padding": null,
            "right": null,
            "top": null,
            "visibility": null,
            "width": null
          }
        },
        "0df66c4261cf4481ad0f207bad58cb39": {
          "model_module": "@jupyter-widgets/controls",
          "model_name": "ProgressStyleModel",
          "model_module_version": "1.5.0",
          "state": {
            "_model_module": "@jupyter-widgets/controls",
            "_model_module_version": "1.5.0",
            "_model_name": "ProgressStyleModel",
            "_view_count": null,
            "_view_module": "@jupyter-widgets/base",
            "_view_module_version": "1.2.0",
            "_view_name": "StyleView",
            "bar_color": null,
            "description_width": ""
          }
        },
        "e5049105418648e2a9f751202046562c": {
          "model_module": "@jupyter-widgets/base",
          "model_name": "LayoutModel",
          "model_module_version": "1.2.0",
          "state": {
            "_model_module": "@jupyter-widgets/base",
            "_model_module_version": "1.2.0",
            "_model_name": "LayoutModel",
            "_view_count": null,
            "_view_module": "@jupyter-widgets/base",
            "_view_module_version": "1.2.0",
            "_view_name": "LayoutView",
            "align_content": null,
            "align_items": null,
            "align_self": null,
            "border": null,
            "bottom": null,
            "display": null,
            "flex": null,
            "flex_flow": null,
            "grid_area": null,
            "grid_auto_columns": null,
            "grid_auto_flow": null,
            "grid_auto_rows": null,
            "grid_column": null,
            "grid_gap": null,
            "grid_row": null,
            "grid_template_areas": null,
            "grid_template_columns": null,
            "grid_template_rows": null,
            "height": null,
            "justify_content": null,
            "justify_items": null,
            "left": null,
            "margin": null,
            "max_height": null,
            "max_width": null,
            "min_height": null,
            "min_width": null,
            "object_fit": null,
            "object_position": null,
            "order": null,
            "overflow": null,
            "overflow_x": null,
            "overflow_y": null,
            "padding": null,
            "right": null,
            "top": null,
            "visibility": null,
            "width": null
          }
        },
        "52e959f6cf2f48cf8557d47cbc33aac4": {
          "model_module": "@jupyter-widgets/controls",
          "model_name": "DescriptionStyleModel",
          "model_module_version": "1.5.0",
          "state": {
            "_model_module": "@jupyter-widgets/controls",
            "_model_module_version": "1.5.0",
            "_model_name": "DescriptionStyleModel",
            "_view_count": null,
            "_view_module": "@jupyter-widgets/base",
            "_view_module_version": "1.2.0",
            "_view_name": "StyleView",
            "description_width": ""
          }
        }
      }
    }
  },
  "nbformat": 4,
  "nbformat_minor": 0
}